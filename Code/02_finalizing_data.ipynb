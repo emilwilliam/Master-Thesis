{
 "cells": [
  {
   "cell_type": "code",
   "execution_count": 1,
   "id": "f579ecf7",
   "metadata": {
    "execution": {
     "iopub.execute_input": "2025-04-27T19:24:10.911958Z",
     "iopub.status.busy": "2025-04-27T19:24:10.911760Z",
     "iopub.status.idle": "2025-04-27T19:24:11.123807Z",
     "shell.execute_reply": "2025-04-27T19:24:11.123556Z"
    },
    "papermill": {
     "duration": 0.215726,
     "end_time": "2025-04-27T19:24:11.125026",
     "exception": false,
     "start_time": "2025-04-27T19:24:10.909300",
     "status": "completed"
    },
    "tags": []
   },
   "outputs": [],
   "source": [
    "### Installing the required packages if not already installed\n",
    "packages = ['numpy', 'pandas', 'warnings', 'sqlite3', 'time']\n",
    "\n",
    "for package in packages:\n",
    "    try:\n",
    "        __import__(package)\n",
    "    except ImportError:\n",
    "        %pip install {package}\n",
    "\n",
    "\n",
    "### Start timer\n",
    "import time\n",
    "start = time.time()\n",
    "\n",
    "import numpy as np\n",
    "import pandas as pd\n",
    "import warnings\n",
    "import sqlite3\n",
    "import os\n",
    "\n",
    "### Ignoring the warnings\n",
    "warnings.filterwarnings('ignore')\n",
    "\n",
    "### Setting working directory\n",
    "os.chdir('/Users/emilwilliamhansen/Desktop/Master-Thesis/Code')"
   ]
  },
  {
   "cell_type": "markdown",
   "id": "aa1e5dcd",
   "metadata": {
    "papermill": {
     "duration": 0.001386,
     "end_time": "2025-04-27T19:24:11.128931",
     "exception": false,
     "start_time": "2025-04-27T19:24:11.127545",
     "status": "completed"
    },
    "tags": []
   },
   "source": [
    "#### Goal:\n",
    "\n",
    "Here I will simply make sure all the monthly and daily data alligns with each other. So, we will simply import all data, make sure it has the same stocks and the same periods in it."
   ]
  },
  {
   "cell_type": "code",
   "execution_count": 2,
   "id": "56bf5db4",
   "metadata": {
    "execution": {
     "iopub.execute_input": "2025-04-27T19:24:11.131851Z",
     "iopub.status.busy": "2025-04-27T19:24:11.131565Z",
     "iopub.status.idle": "2025-04-27T19:24:13.706843Z",
     "shell.execute_reply": "2025-04-27T19:24:13.706472Z"
    },
    "papermill": {
     "duration": 2.578021,
     "end_time": "2025-04-27T19:24:13.708060",
     "exception": false,
     "start_time": "2025-04-27T19:24:11.130039",
     "status": "completed"
    },
    "tags": []
   },
   "outputs": [],
   "source": [
    "### Importing the monthly data\n",
    "### Connecting to the database\n",
    "conn = sqlite3.connect('Data/data.db')\n",
    "\n",
    "### Getting data from the SQL database\n",
    "monthly_returns = pd.read_sql_query(\"SELECT * FROM monthly_returns\", conn, index_col='index')\n",
    "daily_returns = pd.read_sql_query(\"SELECT * FROM daily_returns\", conn, index_col='index')\n",
    "\n",
    "\n",
    "filtered_monthly_returns = pd.read_sql_query(\"SELECT * FROM filtered_monthly_returns\", conn, index_col='index')\n",
    "filtered_daily_returns = pd.read_sql_query(\"SELECT * FROM filtered_daily_returns\", conn, index_col='index')\n",
    "\n",
    "\n",
    "factors_monthly = pd.read_sql_query(\"SELECT * FROM factors_monthly\", conn, index_col='date')\n",
    "factors_daily = pd.read_sql_query(\"SELECT * FROM factors_daily\", conn, index_col='date')\n",
    "liq_monthly = pd.read_sql_query(\"SELECT * FROM liq_monthly\", conn, index_col='date')\n",
    "liq_daily = pd.read_sql_query(\"SELECT * FROM liq_daily\", conn, index_col='date')\n",
    "\n",
    "### Closing the connection\n",
    "conn.close()"
   ]
  },
  {
   "cell_type": "markdown",
   "id": "4dd26ae0",
   "metadata": {
    "papermill": {
     "duration": 0.00145,
     "end_time": "2025-04-27T19:24:13.711273",
     "exception": false,
     "start_time": "2025-04-27T19:24:13.709823",
     "status": "completed"
    },
    "tags": []
   },
   "source": [
    "#### Fixing the indexes"
   ]
  },
  {
   "cell_type": "code",
   "execution_count": 3,
   "id": "cfe27bb7",
   "metadata": {
    "execution": {
     "iopub.execute_input": "2025-04-27T19:24:13.713903Z",
     "iopub.status.busy": "2025-04-27T19:24:13.713761Z",
     "iopub.status.idle": "2025-04-27T19:24:13.725513Z",
     "shell.execute_reply": "2025-04-27T19:24:13.725138Z"
    },
    "papermill": {
     "duration": 0.014029,
     "end_time": "2025-04-27T19:24:13.726395",
     "exception": false,
     "start_time": "2025-04-27T19:24:13.712366",
     "status": "completed"
    },
    "tags": []
   },
   "outputs": [],
   "source": [
    "monthly_returns.index = pd.to_datetime(monthly_returns.index)\n",
    "daily_returns.index = pd.to_datetime(daily_returns.index)\n",
    "\n",
    "filtered_monthly_returns.index = pd.to_datetime(filtered_monthly_returns.index)\n",
    "filtered_daily_returns.index = pd.to_datetime(filtered_daily_returns.index)\n",
    "\n",
    "factors_monthly.index = pd.to_datetime(factors_monthly.index)\n",
    "factors_daily.index = pd.to_datetime(factors_daily.index)\n",
    "liq_monthly.index = pd.to_datetime(liq_monthly.index)\n",
    "liq_daily.index = pd.to_datetime(liq_daily.index)"
   ]
  },
  {
   "cell_type": "markdown",
   "id": "8d0b1371",
   "metadata": {
    "papermill": {
     "duration": 0.000983,
     "end_time": "2025-04-27T19:24:13.728575",
     "exception": false,
     "start_time": "2025-04-27T19:24:13.727592",
     "status": "completed"
    },
    "tags": []
   },
   "source": [
    "#### Renaming all the dates colums to 'Date'"
   ]
  },
  {
   "cell_type": "code",
   "execution_count": 4,
   "id": "5f24723a",
   "metadata": {
    "execution": {
     "iopub.execute_input": "2025-04-27T19:24:13.730853Z",
     "iopub.status.busy": "2025-04-27T19:24:13.730744Z",
     "iopub.status.idle": "2025-04-27T19:24:13.732564Z",
     "shell.execute_reply": "2025-04-27T19:24:13.732349Z"
    },
    "papermill": {
     "duration": 0.003695,
     "end_time": "2025-04-27T19:24:13.733169",
     "exception": false,
     "start_time": "2025-04-27T19:24:13.729474",
     "status": "completed"
    },
    "tags": []
   },
   "outputs": [],
   "source": [
    "monthly_returns.index.name = 'Date'\n",
    "daily_returns.index.name = 'Date'\n",
    "\n",
    "filtered_monthly_returns.index.name = 'Date'\n",
    "filtered_daily_returns.index.name = 'Date'\n",
    "\n",
    "factors_monthly.index.name = 'Date'\n",
    "factors_daily.index.name = 'Date'\n",
    "liq_monthly.index.name = 'Date'\n",
    "liq_daily.index.name = 'Date'"
   ]
  },
  {
   "cell_type": "markdown",
   "id": "cc242827",
   "metadata": {
    "papermill": {
     "duration": 0.000991,
     "end_time": "2025-04-27T19:24:13.735179",
     "exception": false,
     "start_time": "2025-04-27T19:24:13.734188",
     "status": "completed"
    },
    "tags": []
   },
   "source": [
    "#### Restricting the period to 1980-2023"
   ]
  },
  {
   "cell_type": "code",
   "execution_count": 5,
   "id": "9e4d45c5",
   "metadata": {
    "execution": {
     "iopub.execute_input": "2025-04-27T19:24:13.737548Z",
     "iopub.status.busy": "2025-04-27T19:24:13.737445Z",
     "iopub.status.idle": "2025-04-27T19:24:13.743067Z",
     "shell.execute_reply": "2025-04-27T19:24:13.742725Z"
    },
    "papermill": {
     "duration": 0.007687,
     "end_time": "2025-04-27T19:24:13.743826",
     "exception": false,
     "start_time": "2025-04-27T19:24:13.736139",
     "status": "completed"
    },
    "tags": []
   },
   "outputs": [],
   "source": [
    "### Making all returns go from 1980-01-01 to 2023-12-31\n",
    "monthly_returns = monthly_returns.loc['1980-01-01':'2023-12-31']\n",
    "daily_returns = daily_returns.loc['1980-01-01':'2023-12-31']\n",
    "\n",
    "filtered_monthly_returns = filtered_monthly_returns.loc['1980-01-01':'2023-12-31']\n",
    "filtered_daily_returns = filtered_daily_returns.loc['1980-01-01':'2023-12-31']\n",
    "\n",
    "\n",
    "factors_monthly = factors_monthly.loc['1980-01-01':'2023-12-31']\n",
    "factors_daily = factors_daily.loc['1980-01-01':'2023-12-31']\n",
    "liq_monthly = liq_monthly.loc['1980-01-01':'2023-12-31']\n",
    "liq_daily = liq_daily.loc['1980-01-01':'2023-12-31']"
   ]
  },
  {
   "cell_type": "markdown",
   "id": "0453987d",
   "metadata": {
    "papermill": {
     "duration": 0.000984,
     "end_time": "2025-04-27T19:24:13.746017",
     "exception": false,
     "start_time": "2025-04-27T19:24:13.745033",
     "status": "completed"
    },
    "tags": []
   },
   "source": [
    "#### Fixing the shapes"
   ]
  },
  {
   "cell_type": "code",
   "execution_count": 6,
   "id": "2ce2194b",
   "metadata": {
    "execution": {
     "iopub.execute_input": "2025-04-27T19:24:13.748509Z",
     "iopub.status.busy": "2025-04-27T19:24:13.748359Z",
     "iopub.status.idle": "2025-04-27T19:24:13.750253Z",
     "shell.execute_reply": "2025-04-27T19:24:13.750055Z"
    },
    "papermill": {
     "duration": 0.003829,
     "end_time": "2025-04-27T19:24:13.750862",
     "exception": false,
     "start_time": "2025-04-27T19:24:13.747033",
     "status": "completed"
    },
    "tags": []
   },
   "outputs": [
    {
     "name": "stdout",
     "output_type": "stream",
     "text": [
      "Monthly Returns: (528, 1074)\n",
      "Filtered Monthly Returns: (528, 995)\n",
      "Factors Monthly: (528, 5)\n",
      "Liq Monthly: (491, 4)\n"
     ]
    }
   ],
   "source": [
    "print('Monthly Returns:', monthly_returns.shape)\n",
    "print('Filtered Monthly Returns:', filtered_monthly_returns.shape)\n",
    "print('Factors Monthly:', factors_monthly.shape)\n",
    "print('Liq Monthly:', liq_monthly.shape)"
   ]
  },
  {
   "cell_type": "code",
   "execution_count": 7,
   "id": "5394b7ce",
   "metadata": {
    "execution": {
     "iopub.execute_input": "2025-04-27T19:24:13.753421Z",
     "iopub.status.busy": "2025-04-27T19:24:13.753318Z",
     "iopub.status.idle": "2025-04-27T19:24:13.755268Z",
     "shell.execute_reply": "2025-04-27T19:24:13.755069Z"
    },
    "papermill": {
     "duration": 0.003958,
     "end_time": "2025-04-27T19:24:13.755887",
     "exception": false,
     "start_time": "2025-04-27T19:24:13.751929",
     "status": "completed"
    },
    "tags": []
   },
   "outputs": [],
   "source": [
    "liq_monthly = liq_monthly.reindex(monthly_returns.index)\n",
    "factors_monthly = factors_monthly.reindex(monthly_returns.index)"
   ]
  },
  {
   "cell_type": "code",
   "execution_count": 8,
   "id": "6229905a",
   "metadata": {
    "execution": {
     "iopub.execute_input": "2025-04-27T19:24:13.758627Z",
     "iopub.status.busy": "2025-04-27T19:24:13.758520Z",
     "iopub.status.idle": "2025-04-27T19:24:13.760299Z",
     "shell.execute_reply": "2025-04-27T19:24:13.760053Z"
    },
    "papermill": {
     "duration": 0.003963,
     "end_time": "2025-04-27T19:24:13.760928",
     "exception": false,
     "start_time": "2025-04-27T19:24:13.756965",
     "status": "completed"
    },
    "tags": []
   },
   "outputs": [
    {
     "name": "stdout",
     "output_type": "stream",
     "text": [
      "Daily Returns: (11041, 1074)\n",
      "Filtered Daily Returns: (11041, 995)\n",
      "Factors Daily: (11102, 5)\n",
      "Liq Daily: (10265, 2)\n"
     ]
    }
   ],
   "source": [
    "print('Daily Returns:', daily_returns.shape)\n",
    "print('Filtered Daily Returns:', filtered_daily_returns.shape)\n",
    "print('Factors Daily:', factors_daily.shape)\n",
    "print('Liq Daily:', liq_daily.shape)"
   ]
  },
  {
   "cell_type": "code",
   "execution_count": 9,
   "id": "bc2b5b80",
   "metadata": {
    "execution": {
     "iopub.execute_input": "2025-04-27T19:24:13.763474Z",
     "iopub.status.busy": "2025-04-27T19:24:13.763384Z",
     "iopub.status.idle": "2025-04-27T19:24:13.765635Z",
     "shell.execute_reply": "2025-04-27T19:24:13.765421Z"
    },
    "papermill": {
     "duration": 0.004186,
     "end_time": "2025-04-27T19:24:13.766275",
     "exception": false,
     "start_time": "2025-04-27T19:24:13.762089",
     "status": "completed"
    },
    "tags": []
   },
   "outputs": [],
   "source": [
    "factors_daily = factors_daily.reindex(daily_returns.index)\n",
    "liq_daily = liq_daily.reindex(daily_returns.index)"
   ]
  },
  {
   "cell_type": "markdown",
   "id": "2ee3de39",
   "metadata": {
    "papermill": {
     "duration": 0.001055,
     "end_time": "2025-04-27T19:24:13.768650",
     "exception": false,
     "start_time": "2025-04-27T19:24:13.767595",
     "status": "completed"
    },
    "tags": []
   },
   "source": [
    "### Reshuffeling the factors"
   ]
  },
  {
   "cell_type": "code",
   "execution_count": 10,
   "id": "c28a7929",
   "metadata": {
    "execution": {
     "iopub.execute_input": "2025-04-27T19:24:13.771189Z",
     "iopub.status.busy": "2025-04-27T19:24:13.771091Z",
     "iopub.status.idle": "2025-04-27T19:24:13.773249Z",
     "shell.execute_reply": "2025-04-27T19:24:13.773035Z"
    },
    "papermill": {
     "duration": 0.004349,
     "end_time": "2025-04-27T19:24:13.774086",
     "exception": false,
     "start_time": "2025-04-27T19:24:13.769737",
     "status": "completed"
    },
    "tags": []
   },
   "outputs": [],
   "source": [
    "factors_monthly = factors_monthly[['MKT', 'SMB', 'HML', 'UMD', 'rf']]\n",
    "factors_daily = factors_daily[['MKT', 'SMB', 'HML', 'UMD', 'rf']]"
   ]
  },
  {
   "cell_type": "markdown",
   "id": "84c22523",
   "metadata": {
    "papermill": {
     "duration": 0.00101,
     "end_time": "2025-04-27T19:24:13.776291",
     "exception": false,
     "start_time": "2025-04-27T19:24:13.775281",
     "status": "completed"
    },
    "tags": []
   },
   "source": [
    "#### Saving all the data again"
   ]
  },
  {
   "cell_type": "code",
   "execution_count": 11,
   "id": "7c87f0c7",
   "metadata": {
    "execution": {
     "iopub.execute_input": "2025-04-27T19:24:13.778746Z",
     "iopub.status.busy": "2025-04-27T19:24:13.778646Z",
     "iopub.status.idle": "2025-04-27T19:24:17.142828Z",
     "shell.execute_reply": "2025-04-27T19:24:17.142562Z"
    },
    "papermill": {
     "duration": 3.366335,
     "end_time": "2025-04-27T19:24:17.143658",
     "exception": false,
     "start_time": "2025-04-27T19:24:13.777323",
     "status": "completed"
    },
    "tags": []
   },
   "outputs": [],
   "source": [
    "### Saving all the data to the same database\n",
    "conn = sqlite3.connect('Data/data.db')\n",
    "\n",
    "monthly_returns.to_sql('monthly_returns', conn, if_exists='replace')\n",
    "daily_returns.to_sql('daily_returns', conn, if_exists='replace')\n",
    "\n",
    "filtered_monthly_returns.to_sql('filtered_monthly_returns', conn, if_exists='replace')\n",
    "filtered_daily_returns.to_sql('filtered_daily_returns', conn, if_exists='replace')\n",
    "\n",
    "factors_monthly.to_sql('factors_monthly', conn, if_exists='replace')\n",
    "factors_daily.to_sql('factors_daily', conn, if_exists='replace')\n",
    "liq_monthly.to_sql('liq_monthly', conn, if_exists='replace')\n",
    "liq_daily.to_sql('liq_daily', conn, if_exists='replace')\n",
    "\n",
    "conn.close()"
   ]
  }
 ],
 "metadata": {
  "kernelspec": {
   "display_name": "Python 3",
   "language": "python",
   "name": "python3"
  },
  "language_info": {
   "codemirror_mode": {
    "name": "ipython",
    "version": 3
   },
   "file_extension": ".py",
   "mimetype": "text/x-python",
   "name": "python",
   "nbconvert_exporter": "python",
   "pygments_lexer": "ipython3",
   "version": "3.13.1"
  },
  "papermill": {
   "default_parameters": {},
   "duration": 6.977919,
   "end_time": "2025-04-27T19:24:17.362115",
   "environment_variables": {},
   "exception": null,
   "input_path": "02_finalizing_data.ipynb",
   "output_path": "02_finalizing_data.ipynb",
   "parameters": {},
   "start_time": "2025-04-27T19:24:10.384196",
   "version": "2.6.0"
  }
 },
 "nbformat": 4,
 "nbformat_minor": 5
}