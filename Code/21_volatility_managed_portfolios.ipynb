{
 "cells": [
  {
   "cell_type": "code",
   "execution_count": 1,
   "metadata": {},
   "outputs": [],
   "source": [
    "### Installing the required packages if not already installed\n",
    "packages = ['numpy', 'pandas', 'warnings', 'sqlite3', 'scipy', 'matplotlib', 'numba']\n",
    "\n",
    "for package in packages:\n",
    "    try:\n",
    "        __import__(package)\n",
    "    except ImportError:\n",
    "        %pip install {package}\n",
    "\n",
    "import numpy as np    # For numerical computing\n",
    "import pandas as pd   # For data manipulation\n",
    "import sqlite3        # For connecting to SQL database\n",
    "import matplotlib.pyplot as plt\n",
    "from scipy.optimize import minimize\n",
    "from scipy import stats\n",
    "from numba import njit\n",
    "\n",
    "### Setting the random seed for reproducibility\n",
    "np.random.seed(42)\n",
    "\n",
    "### Ignoring the warnings\n",
    "import warnings\n",
    "warnings.filterwarnings('ignore')\n",
    "\n",
    "### Pandas display options\n",
    "pd.options.display.float_format = '{:.4f}'.format\n",
    "\n",
    "### Getting some fuctions from the other notebook\n",
    "%run 99_functions.ipynb"
   ]
  },
  {
   "cell_type": "code",
   "execution_count": 2,
   "metadata": {},
   "outputs": [],
   "source": [
    "### Extracting the data from the database\n",
    "conn = sqlite3.connect('Data/data.db')\n",
    "\n",
    "factor_ret_m = pd.read_sql('SELECT * FROM factors_monthly', conn).set_index('Date').drop(columns='rf')\n",
    "volatility = pd.read_sql('SELECT * FROM volatility', conn).set_index('Date')\n",
    "volatility_managed_ptf = pd.read_sql('SELECT * FROM volatility_managed_factor_ptf_outofsample', conn).set_index('Date')\n",
    "\n",
    "conn.close()\n",
    "\n",
    "### Making sure all the data is in the same format\n",
    "factor_ret_m.index = pd.to_datetime(factor_ret_m.index)\n",
    "volatility.index = pd.to_datetime(volatility.index)\n",
    "volatility_managed_ptf.index = pd.to_datetime(volatility_managed_ptf.index)\n",
    "\n",
    "### Since we use a window of 120 months, our data will go from 1993-02 and onwards\n",
    "factor_ret_m = factor_ret_m.loc[volatility_managed_ptf.index]\n",
    "\n",
    "### Changing the names of the columns of volatility_managed_ptf to vol_factor_name\n",
    "volatility_managed_ptf.columns = ['vol_' + col for col in volatility_managed_ptf.columns]\n",
    "\n",
    "### Combining the two datasets\n",
    "factor_ext = pd.concat([factor_ret_m, volatility_managed_ptf], axis=1)"
   ]
  }
 ],
 "metadata": {
  "kernelspec": {
   "display_name": "Python 3",
   "language": "python",
   "name": "python3"
  },
  "language_info": {
   "codemirror_mode": {
    "name": "ipython",
    "version": 3
   },
   "file_extension": ".py",
   "mimetype": "text/x-python",
   "name": "python",
   "nbconvert_exporter": "python",
   "pygments_lexer": "ipython3",
   "version": "3.13.1"
  }
 },
 "nbformat": 4,
 "nbformat_minor": 2
}
