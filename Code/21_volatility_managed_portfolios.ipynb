{
 "cells": [
  {
   "cell_type": "code",
   "execution_count": 102,
   "metadata": {},
   "outputs": [],
   "source": [
    "### Installing the required packages if not already installed\n",
    "packages = ['numpy', 'pandas', 'warnings', 'sqlite3', 'scipy', 'matplotlib', 'numba']\n",
    "\n",
    "for package in packages:\n",
    "    try:\n",
    "        __import__(package)\n",
    "    except ImportError:\n",
    "        %pip install {package}\n",
    "\n",
    "import numpy as np    # For numerical computing\n",
    "import pandas as pd   # For data manipulation\n",
    "import sqlite3        # For connecting to SQL database\n",
    "import matplotlib.pyplot as plt\n",
    "from scipy.optimize import minimize\n",
    "from scipy import stats\n",
    "from numba import njit\n",
    "\n",
    "### Setting the random seed for reproducibility\n",
    "np.random.seed(42)\n",
    "\n",
    "### Ignoring the warnings\n",
    "import warnings\n",
    "warnings.filterwarnings('ignore')\n",
    "\n",
    "### Pandas display options\n",
    "pd.options.display.float_format = '{:.4f}'.format\n",
    "\n",
    "### Getting some fuctions from the other notebook\n",
    "%run 99_functions.ipynb"
   ]
  },
  {
   "cell_type": "code",
   "execution_count": 103,
   "metadata": {},
   "outputs": [],
   "source": [
    "### Extracting the data from the database\n",
    "conn = sqlite3.connect('Data/data.db')\n",
    "\n",
    "factor_ret_m = pd.read_sql('SELECT * FROM factors_monthly', conn).set_index('Date').drop(columns='rf')\n",
    "volatility = pd.read_sql('SELECT * FROM volatility', conn).set_index('Date')\n",
    "volatility_timed_factors = pd.read_sql('SELECT * FROM volatility_timed_factors', conn).set_index('Date')\n",
    "volatility_managed_ptf = pd.read_sql('SELECT * FROM volatility_managed_factor_ptf_outofsample', conn).set_index('Date')\n",
    "\n",
    "conn.close()\n",
    "\n",
    "### Making sure all the data is in the same format\n",
    "factor_ret_m.index = pd.to_datetime(factor_ret_m.index)\n",
    "volatility.index = pd.to_datetime(volatility.index)\n",
    "volatility_managed_ptf.index = pd.to_datetime(volatility_managed_ptf.index)\n",
    "volatility_timed_factors.index = pd.to_datetime(volatility_timed_factors.index)\n",
    "\n",
    "### Matching the index of factor_ret_m to volatility_timed_factors\n",
    "factor_ret_m = factor_ret_m.loc[volatility_timed_factors.index]"
   ]
  },
  {
   "cell_type": "code",
   "execution_count": 104,
   "metadata": {},
   "outputs": [
    {
     "name": "stdout",
     "output_type": "stream",
     "text": [
      "     SMB    HML    UMD     EW     VW    BAB\n",
      "c 0.1690 0.1710 0.1515 0.1599 0.1546 0.1472\n",
      "0.0\n"
     ]
    }
   ],
   "source": [
    "### Creating volatility timed factors using only the market volatility\n",
    "volatility_timed_factors_mkt = pd.DataFrame(index=volatility_timed_factors.index, columns=volatility_timed_factors.columns)\n",
    "market_vol = volatility['VW'].shift(1)\n",
    "\n",
    "### Calculating the optimal c for each factor\n",
    "c = pd.DataFrame(columns=volatility.columns)\n",
    "c.loc['c', :] = np.nan\n",
    "\n",
    "for factor in volatility.columns:\n",
    "    def obj_func(c):\n",
    "        vol_timed = (c / market_vol) * factor_ret_m[factor]\n",
    "        return (vol_timed.std() - factor_ret_m[factor].std())**2\n",
    "\n",
    "    res = minimize(obj_func, 0.1)\n",
    "    c.loc['c', factor] = res.x[0]\n",
    "\n",
    "### Calculating the volatility timed factors\n",
    "for factor in volatility_timed_factors_mkt.columns:\n",
    "    volatility_timed_factors_mkt[factor] = c.loc['c', factor] / market_vol * factor_ret_m[factor]\n",
    "\n",
    "### Print\n",
    "print(c)\n",
    "print(round(volatility_timed_factors_mkt.std() - factor_ret_m.std()).sum())"
   ]
  },
  {
   "cell_type": "code",
   "execution_count": null,
   "metadata": {},
   "outputs": [
    {
     "data": {
      "text/plain": [
       "CMV       2.1288\n",
       "CMV_mkt   2.2157\n",
       "UMV       2.0242\n",
       "dtype: object"
      ]
     },
     "execution_count": 105,
     "metadata": {},
     "output_type": "execute_result"
    }
   ],
   "source": [
    "### Combining the factor returns\n",
    "factor_ext = pd.concat([factor_ret_m, volatility_timed_factors], axis=1)\n",
    "factor_ext_mkt = pd.concat([factor_ret_m, volatility_timed_factors_mkt], axis=1)\n",
    "\n",
    "### Adding _vol to the last 6 columns\n",
    "factor_ext.columns = [col + '_org' for col in factor_ext.columns[:-6]] + [col + '_vol' for col in factor_ext.columns[-6:]]\n",
    "factor_ext_mkt.columns = [col + '_org' for col in factor_ext_mkt.columns[:-6]] + [col + '_vol' for col in factor_ext_mkt.columns[-6:]]\n",
    "\n",
    "### Creating a dataframe to store the portfolios in\n",
    "MV = pd.DataFrame(index=factor_ext.index, columns=['CMV_fac', 'CMV_mkt', 'UMV'])\n",
    "\n",
    "### Creating a place to store the weights in to see what is going on\n",
    "weights_org = pd.DataFrame(index=factor_ret_m.index, columns=factor_ret_m.columns)\n",
    "weights_ext = pd.DataFrame(index=factor_ext.index, columns=factor_ext.columns)\n",
    "weights_mkt = pd.DataFrame(index=factor_ext.index, columns=factor_ext.columns)\n",
    "\n",
    "### Running the loop for mean-variance optimization\n",
    "w = 120\n",
    "for t in range(w, len(factor_ext)):\n",
    "    # Selecting the data for the last w months\n",
    "    data_org = factor_ret_m.iloc[t-w:t]\n",
    "    data_ext = factor_ext.iloc[t-w:t]\n",
    "    data_mkt = factor_ext_mkt.iloc[t-w:t]\n",
    "    ret_org = factor_ret_m.iloc[t]\n",
    "    ret_ext = factor_ext.iloc[t]\n",
    "    ret_mkt = factor_ext_mkt.iloc[t]\n",
    "\n",
    "    # Getting the weights\n",
    "    w_org = ptf_weights(data_org, negative=False, type = \"MVP\", gamma = 5)\n",
    "    w_ext = ptf_weights(data_ext, negative=False, type = \"MVP\", gamma = 5)\n",
    "    w_mkt = ptf_weights(data_mkt, negative=False, type = \"MVP\", gamma = 5)\n",
    "\n",
    "    # Storing the weights\n",
    "    weights_org.loc[factor_ret_m.index[t], :] = w_org\n",
    "    weights_ext.loc[factor_ext.index[t], :] = w_ext\n",
    "    weights_mkt.loc[factor_ext.index[t], :] = w_mkt\n",
    "\n",
    "    # Calculating the returns\n",
    "    MV.loc[factor_ext.index[t], 'UMV'] = np.dot(ret_org, w_org)\n",
    "    MV.loc[factor_ext.index[t], 'CMV_fac'] = np.dot(ret_ext, w_ext)\n",
    "    MV.loc[factor_ext.index[t], 'CMV_mkt'] = np.dot(ret_mkt, w_mkt)\n",
    "\n",
    "### Removing rows with only NaN\n",
    "MV = MV.dropna(how='all')\n",
    "\n",
    "### Looking at the sharpe ratios\n",
    "sharpes_ratio(MV)"
   ]
  },
  {
   "cell_type": "code",
   "execution_count": 108,
   "metadata": {},
   "outputs": [
    {
     "name": "stdout",
     "output_type": "stream",
     "text": [
      "The p-value for the difference in Sharpe Ratios between CMV_fac and UMV is: 0.28386\n",
      "The p-value for the difference in Sharpe Ratios between CMV_mkt and UMV is: 0.0138\n"
     ]
    }
   ],
   "source": [
    "### Getting the p-value of the sharpe ratio for CMV being bigger then UMV\n",
    "n_boot = 100000\n",
    "SR_diff_fac = []\n",
    "SR_diff_mkt = []\n",
    "\n",
    "### Running the loop\n",
    "for i in range(n_boot):\n",
    "    boot = stationary_bootstrap_multivariate(np.array(MV.astype(float)), 5, len(MV))\n",
    "    SR_diff_fac.append(sharpes_ratio(boot[:,2]) - sharpes_ratio(boot[:,0]))\n",
    "    SR_diff_mkt.append(sharpes_ratio(boot[:,2]) - sharpes_ratio(boot[:,1]))\n",
    "\n",
    "### Calculating the p-value\n",
    "p_value_fac = (np.sum(np.array(SR_diff_fac) > 0)) / (n_boot)\n",
    "p_value_mkt = (np.sum(np.array(SR_diff_mkt) > 0)) / (n_boot)\n",
    "\n",
    "### Printing\n",
    "print('The p-value for the difference in Sharpe Ratios between CMV_fac and UMV is:', p_value_fac)\n",
    "print('The p-value for the difference in Sharpe Ratios between CMV_mkt and UMV is:', p_value_mkt)"
   ]
  },
  {
   "cell_type": "code",
   "execution_count": 109,
   "metadata": {},
   "outputs": [],
   "source": [
    "### Storing the data\n",
    "conn = sqlite3.connect('Data/data.db')\n",
    "\n",
    "MV.to_sql('MV', conn, if_exists='replace')\n",
    "\n",
    "conn.close()"
   ]
  }
 ],
 "metadata": {
  "kernelspec": {
   "display_name": "Python 3",
   "language": "python",
   "name": "python3"
  },
  "language_info": {
   "codemirror_mode": {
    "name": "ipython",
    "version": 3
   },
   "file_extension": ".py",
   "mimetype": "text/x-python",
   "name": "python",
   "nbconvert_exporter": "python",
   "pygments_lexer": "ipython3",
   "version": "3.13.1"
  }
 },
 "nbformat": 4,
 "nbformat_minor": 2
}
