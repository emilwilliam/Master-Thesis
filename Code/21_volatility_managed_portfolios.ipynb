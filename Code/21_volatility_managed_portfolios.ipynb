{
 "cells": [
  {
   "cell_type": "code",
   "execution_count": 1,
   "metadata": {},
   "outputs": [],
   "source": [
    "### Installing the required packages if not already installed\n",
    "packages = ['numpy', 'pandas', 'warnings', 'sqlite3', 'scipy', 'matplotlib', 'numba', 'statsmodels']\n",
    "\n",
    "for package in packages:\n",
    "    try:\n",
    "        __import__(package)\n",
    "    except ImportError:\n",
    "        %pip install {package}\n",
    "\n",
    "import numpy as np    # For numerical computing\n",
    "import pandas as pd   # For data manipulation\n",
    "import sqlite3        # For connecting to SQL database\n",
    "import matplotlib.pyplot as plt\n",
    "import statsmodels.api as sm\n",
    "from scipy.optimize import minimize\n",
    "from scipy import stats\n",
    "from numba import njit\n",
    "import os\n",
    "\n",
    "### Setting the random seed for reproducibility\n",
    "np.random.seed(42)\n",
    "\n",
    "### Ignoring the warnings\n",
    "import warnings\n",
    "warnings.filterwarnings('ignore')\n",
    "\n",
    "### Pandas display options\n",
    "pd.options.display.float_format = '{:.4f}'.format\n",
    "\n",
    "### Getting some fuctions from the other notebook\n",
    "%run 99_functions.ipynb\n",
    "\n",
    "### Setting working directory\n",
    "os.chdir('/Users/emilwilliamhansen/Desktop/Master-Thesis/Code')"
   ]
  },
  {
   "cell_type": "code",
   "execution_count": 2,
   "metadata": {},
   "outputs": [],
   "source": [
    "### Extracting the data from the database\n",
    "conn = sqlite3.connect('Data/data.db')\n",
    "\n",
    "factor_ret_m = pd.read_sql('SELECT * FROM factors_monthly', conn).set_index('Date').drop(columns='rf')\n",
    "volatility = pd.read_sql('SELECT * FROM volatility', conn).set_index('Date')\n",
    "\n",
    "conn.close()\n",
    "\n",
    "### Making sure all the data is in the same format\n",
    "factor_ret_m.index = pd.to_datetime(factor_ret_m.index)\n",
    "volatility.index = pd.to_datetime(volatility.index)\n",
    "\n",
    "### Fixing the index of the factor_ret_m\n",
    "factor_ret_m = factor_ret_m.loc[volatility.index]"
   ]
  },
  {
   "cell_type": "markdown",
   "metadata": {},
   "source": [
    "# Volatility timing\n",
    "\n",
    "We will now do volatility timing of the factors. We will do almost the same thing as in `20_volatility_managed_factors.ipynb`, but we will use volatility and not variance. We will first use the market variance to time all factors, and then use the individual factors volatility.\n",
    "\n",
    "So, firstly:\n",
    "\n",
    "$$r_{k,t+1}^\\sigma=\\frac{c}{\\sigma_{mkt,t}} r_{k,t+1}$$"
   ]
  },
  {
   "cell_type": "code",
   "execution_count": 3,
   "metadata": {},
   "outputs": [
    {
     "name": "stdout",
     "output_type": "stream",
     "text": [
      "     SMB    HML    UMD     EW     VW    BAB\n",
      "c 0.1696 0.1711 0.1514 0.1610 0.1557 0.1473\n",
      "Diff in std: 0.0\n"
     ]
    }
   ],
   "source": [
    "### Creating volatility timed factors using only the market volatility\n",
    "volatility_timed_factors_mkt = pd.DataFrame(index=factor_ret_m.index, columns=factor_ret_m.columns)\n",
    "\n",
    "### Calculating the optimal c for each factor\n",
    "c = pd.DataFrame(columns=volatility.columns)\n",
    "c.loc['c', :] = np.nan\n",
    "\n",
    "for factor in volatility.columns:\n",
    "    def obj_func(c):\n",
    "        vol_timed = (c / volatility['VW'].shift(1)) * factor_ret_m[factor]\n",
    "        return (vol_timed.std() - factor_ret_m[factor].std())**2\n",
    "\n",
    "    res = minimize(obj_func, 0.1)\n",
    "    c.loc['c', factor] = res.x[0]\n",
    "\n",
    "### Calculating the volatility timed factors\n",
    "for factor in volatility_timed_factors_mkt.columns:\n",
    "    volatility_timed_factors_mkt[factor] = c.loc['c', factor] / volatility['VW'].shift(1) * factor_ret_m[factor]\n",
    "\n",
    "### Print\n",
    "print(c)\n",
    "print(f\"Diff in std: {round(volatility_timed_factors_mkt.std() - factor_ret_m.std()).sum()}\")"
   ]
  },
  {
   "cell_type": "markdown",
   "metadata": {},
   "source": [
    "Secondly:\n",
    "\n",
    "$$r_{k,t+1}^\\sigma=\\frac{c}{\\sigma_{k,t}} r_{k,t+1}$$"
   ]
  },
  {
   "cell_type": "code",
   "execution_count": 4,
   "metadata": {},
   "outputs": [
    {
     "name": "stdout",
     "output_type": "stream",
     "text": [
      "     SMB    HML    UMD     EW     VW    BAB\n",
      "c 0.1419 0.1507 0.1860 0.1411 0.1557 0.1893\n",
      "Diff in std: 0.0\n"
     ]
    }
   ],
   "source": [
    "### Creating volatility timed factors using only the market volatility\n",
    "volatility_timed_factors_fac = pd.DataFrame(index=factor_ret_m.index, columns=factor_ret_m.columns)\n",
    "\n",
    "### Calculating the optimal c for each factor\n",
    "c = pd.DataFrame(columns=volatility.columns)\n",
    "c.loc['c', :] = np.nan\n",
    "\n",
    "for factor in volatility.columns:\n",
    "    def obj_func(c):\n",
    "        vol_timed = (c / volatility[factor].shift(1)) * factor_ret_m[factor]\n",
    "        return (vol_timed.std() - factor_ret_m[factor].std())**2\n",
    "\n",
    "    res = minimize(obj_func, 0.1)\n",
    "    c.loc['c', factor] = res.x[0]\n",
    "\n",
    "### Calculating the volatility timed factors\n",
    "for factor in volatility_timed_factors_fac.columns:\n",
    "    volatility_timed_factors_fac[factor] = c.loc['c', factor] / volatility[factor].shift(1) * factor_ret_m[factor]\n",
    "\n",
    "### Print\n",
    "print(c)\n",
    "print(f\"Diff in std: {round(volatility_timed_factors_fac.std() - factor_ret_m.std()).sum()}\")"
   ]
  },
  {
   "cell_type": "markdown",
   "metadata": {},
   "source": [
    "*Note:* The value of $c$ for $VW$ is equal in both scenarios, and the reutrns will also be identical by construction."
   ]
  },
  {
   "cell_type": "markdown",
   "metadata": {},
   "source": [
    "# Mean-variance optimazation\n",
    "\n",
    "We will now use the data in the 120 last months to pick weights for three portfolios. The three portfolios are:\n",
    "\n",
    " - Uncondtional Mean-Variance portfolio (UMV): The mean-variance portfolio for a invstor only investing in the orginal factors.\n",
    " - Contional Mean-Variance portfolio using factor volatility ($CMV_{fac}$): The mean-variance portfolio for a invstor  investing in the orginal factors and the volatility-managed, based on it's own past volatility, version of the factor. \n",
    " - Contional Mean-Variance portfolio using factor volatility ($CMV_{mkt}$): The mean-variance portfolio for a invstor  investing in the orginal factors and the volatility-managed, based on the market's past volatility, version of the factor. "
   ]
  },
  {
   "cell_type": "code",
   "execution_count": 5,
   "metadata": {},
   "outputs": [
    {
     "data": {
      "text/plain": [
       "CMV_fac   2.1988\n",
       "CMV_mkt   2.2187\n",
       "UMV       2.0164\n",
       "dtype: object"
      ]
     },
     "execution_count": 5,
     "metadata": {},
     "output_type": "execute_result"
    }
   ],
   "source": [
    "### Combining the factor returns\n",
    "factor_ext_fac = pd.concat([factor_ret_m, volatility_timed_factors_fac], axis=1)\n",
    "factor_ext_mkt = pd.concat([factor_ret_m, volatility_timed_factors_mkt], axis=1)\n",
    "\n",
    "### Adding _vol to the last 6 columns\n",
    "factor_ext_fac.columns = [col + '_org' for col in factor_ext_fac.columns[:-6]] + [col + '_vol' for col in factor_ext_fac.columns[-6:]]\n",
    "factor_ext_mkt.columns = [col + '_org' for col in factor_ext_mkt.columns[:-6]] + [col + '_vol' for col in factor_ext_mkt.columns[-6:]]\n",
    "\n",
    "### Creating a dataframe to store the portfolios in\n",
    "MV = pd.DataFrame(index=factor_ext_fac.index, columns=['CMV_fac', 'CMV_mkt', 'UMV'])\n",
    "\n",
    "### Creating a place to store the weights in to see what is going on\n",
    "weights_org = pd.DataFrame(index=factor_ret_m.index, columns=factor_ret_m.columns)\n",
    "weights_fac = pd.DataFrame(index=factor_ext_fac.index, columns=factor_ext_fac.columns)\n",
    "weights_mkt = pd.DataFrame(index=factor_ext_mkt.index, columns=factor_ext_mkt.columns)\n",
    "\n",
    "### Running the loop for mean-variance optimization\n",
    "w = 120\n",
    "for t in range(w, len(factor_ext_fac)):\n",
    "    # Selecting the data for the last w months\n",
    "    data_org = factor_ret_m.iloc[t-w:t]\n",
    "    data_fac = factor_ext_fac.iloc[t-w:t]\n",
    "    data_mkt = factor_ext_mkt.iloc[t-w:t]\n",
    "    ret_org = factor_ret_m.iloc[t]\n",
    "    ret_fac = factor_ext_fac.iloc[t]\n",
    "    ret_mkt = factor_ext_mkt.iloc[t]\n",
    "\n",
    "    # Getting the weights\n",
    "    w_org = ptf_weights(data_org, negative=False, type = \"MVP\", gamma = 5)\n",
    "    w_fac = ptf_weights(data_fac, negative=False, type = \"MVP\", gamma = 5)\n",
    "    w_mkt = ptf_weights(data_mkt, negative=False, type = \"MVP\", gamma = 5)\n",
    "\n",
    "    # Storing the weights\n",
    "    weights_org.loc[factor_ret_m.index[t], :] = w_org\n",
    "    weights_fac.loc[factor_ext_fac.index[t], :] = w_fac\n",
    "    weights_mkt.loc[factor_ext_mkt.index[t], :] = w_mkt\n",
    "\n",
    "    # Calculating the returns\n",
    "    MV.loc[factor_ext_fac.index[t], 'UMV'] = np.dot(ret_org, w_org)\n",
    "    MV.loc[factor_ext_fac.index[t], 'CMV_fac'] = np.dot(ret_fac, w_fac)\n",
    "    MV.loc[factor_ext_fac.index[t], 'CMV_mkt'] = np.dot(ret_mkt, w_mkt)\n",
    "\n",
    "### Removing rows with only NaN\n",
    "MV = MV.dropna(how='all')\n",
    "\n",
    "### Looking at the sharpe ratios\n",
    "sharpes_ratio(MV)"
   ]
  },
  {
   "cell_type": "code",
   "execution_count": 6,
   "metadata": {},
   "outputs": [
    {
     "name": "stdout",
     "output_type": "stream",
     "text": [
      "The p-value for the difference in Sharpe Ratios between CMV (using factor volatility) and UMV is: 0.09533\n",
      "The p-value for the difference in Sharpe Ratios between CMV (using market volatility) and UMV is: 0.0107\n"
     ]
    }
   ],
   "source": [
    "### Getting the p-value of the sharpe ratio for CMV being bigger then UMV\n",
    "n_boot = 100000\n",
    "SR_diff_fac = []\n",
    "SR_diff_mkt = []\n",
    "\n",
    "### Running the loop\n",
    "for i in range(n_boot):\n",
    "    boot = stationary_bootstrap_multivariate(np.array(MV.astype(float)), 5, len(MV))\n",
    "    SR_diff_fac.append(sharpes_ratio(boot[:,2]) - sharpes_ratio(boot[:,0]))\n",
    "    SR_diff_mkt.append(sharpes_ratio(boot[:,2]) - sharpes_ratio(boot[:,1]))\n",
    "\n",
    "### Calculating the p-value\n",
    "p_value_fac = (np.sum(np.array(SR_diff_fac) > 0)) / (n_boot)\n",
    "p_value_mkt = (np.sum(np.array(SR_diff_mkt) > 0)) / (n_boot)\n",
    "\n",
    "### Printing\n",
    "print('The p-value for the difference in Sharpe Ratios between CMV (using factor volatility) and UMV is:', p_value_fac)\n",
    "print('The p-value for the difference in Sharpe Ratios between CMV (using market volatility) and UMV is:', p_value_mkt)"
   ]
  },
  {
   "cell_type": "code",
   "execution_count": 7,
   "metadata": {},
   "outputs": [],
   "source": [
    "### Getting the alphas\n",
    "X = MV['UMV'].astype(float)\n",
    "y = MV['CMV_fac'].astype(float)\n",
    "X = sm.add_constant(X)\n",
    "model = sm.OLS(y, X).fit(cov_type='HAC', cov_kwds={'maxlags': 1})\n",
    "alpha_fac = model.params[0]\n",
    "tstat_alpha_fac = model.tvalues[0]\n",
    "\n",
    "y = MV['CMV_mkt'].astype(float)\n",
    "model = sm.OLS(y, X).fit(cov_type='HAC', cov_kwds={'maxlags': 1})\n",
    "alpha_mkt = model.params[0]\n",
    "tstat_alpha_mkt = model.tvalues[0]"
   ]
  },
  {
   "cell_type": "code",
   "execution_count": 8,
   "metadata": {},
   "outputs": [
    {
     "name": "stdout",
     "output_type": "stream",
     "text": [
      "\\begin{tabular}{llll}\n",
      "\\toprule\n",
      " & CMV_fac & CMV_mkt & UMV \\\\\n",
      "\\midrule\n",
      "Mean & 0.1978 & 0.1929 & 0.1846 \\\\\n",
      "Standard deviation & 0.0900 & 0.0869 & 0.0916 \\\\\n",
      "Sharpe ratio & 2.1988 & 2.2187 & 2.0164 \\\\\n",
      "p-value & 0.0953 & 0.0107 & NaN \\\\\n",
      "alpha & 0.0301 & 0.0274 & NaN \\\\\n",
      "t(alpha) & 2.9010 & 4.4580 & NaN \\\\\n",
      "\\bottomrule\n",
      "\\end{tabular}\n",
      "\n"
     ]
    }
   ],
   "source": [
    "### Creating a latex table\n",
    "latex = pd.DataFrame(columns=['CMV_fac', 'CMV_mkt', 'UMV'], index=['Mean', 'Standard deviation', 'Sharpe ratio', 'p-value', 'alpha', 't(alpha)'])\n",
    "\n",
    "latex.loc['Mean', :] = MV.mean() * 12\n",
    "latex.loc['Standard deviation', :] = MV.std() * np.sqrt(12)\n",
    "latex.loc['Sharpe ratio', :] = sharpes_ratio(MV)\n",
    "latex.loc['p-value', 'CMV_fac'] = p_value_fac\n",
    "latex.loc['p-value', 'CMV_mkt'] = p_value_mkt\n",
    "latex.loc['alpha', 'CMV_fac'] = alpha_fac * 12\n",
    "latex.loc['alpha', 'CMV_mkt'] = alpha_mkt * 12\n",
    "latex.loc['t(alpha)', 'CMV_fac'] = tstat_alpha_fac\n",
    "latex.loc['t(alpha)', 'CMV_mkt'] = tstat_alpha_mkt\n",
    "\n",
    "print(latex.to_latex(float_format=\"%.4f\"))"
   ]
  },
  {
   "cell_type": "code",
   "execution_count": 9,
   "metadata": {},
   "outputs": [
    {
     "data": {
      "image/png": "[encoded data removed]",
      "text/plain": [
       "<Figure size 1200x600 with 1 Axes>"
      ]
     },
     "metadata": {},
     "output_type": "display_data"
    }
   ],
   "source": [
    "### Plotting cumulative returns for all the 3 portfolios in MV\n",
    "plt.figure(figsize=(12, 6))\n",
    "plt.plot(np.log(1 + MV.astype(float)).cumsum())\n",
    "plt.ylabel('Cumulative returns')\n",
    "plt.legend([\"CMV (factor volatility)\",\"CMV (Market volatility)\",\"UMV\"], loc='upper center', bbox_to_anchor=(0.5, -0.1), shadow=True, ncol=3)\n",
    "\n",
    "recessions = [\n",
    "    ('2001-03-01', '2001-11-30'),\n",
    "    ('2007-12-01', '2009-06-30'),\n",
    "    ('2020-02-01', '2020-04-30')\n",
    "]\n",
    "\n",
    "# Add grey fields for recessions\n",
    "for start, end in recessions:\n",
    "    plt.axvspan(start, end, color='grey', alpha=0.5)\n",
    "\n",
    "plt.savefig('Plots/cumulative_returns_ptfs.png')\n",
    "plt.show()"
   ]
  },
  {
   "cell_type": "code",
   "execution_count": 10,
   "metadata": {},
   "outputs": [],
   "source": [
    "### Storing the data\n",
    "conn = sqlite3.connect('Data/data.db')\n",
    "\n",
    "MV.to_sql('MV', conn, if_exists='replace')\n",
    "volatility_timed_factors_mkt.to_sql('volatility_timed_factors_mkt', conn, if_exists='replace')\n",
    "volatility_timed_factors_fac.to_sql('volatility_timed_factors_fac', conn, if_exists='replace')\n",
    "\n",
    "conn.close()"
   ]
  }
 ],
 "metadata": {
  "kernelspec": {
   "display_name": "Python 3",
   "language": "python",
   "name": "python3"
  },
  "language_info": {
   "codemirror_mode": {
    "name": "ipython",
    "version": 3
   },
   "file_extension": ".py",
   "mimetype": "text/x-python",
   "name": "python",
   "nbconvert_exporter": "python",
   "pygments_lexer": "ipython3",
   "version": "3.13.1"
  }
 },
 "nbformat": 4,
 "nbformat_minor": 2
}
