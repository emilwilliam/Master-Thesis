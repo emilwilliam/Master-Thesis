{
 "cells": [
  {
   "cell_type": "code",
   "execution_count": 4,
   "id": "f56ead0d",
   "metadata": {
    "execution": {
     "iopub.execute_input": "2025-03-04T15:20:24.416240Z",
     "iopub.status.busy": "2025-03-04T15:20:24.415958Z",
     "iopub.status.idle": "2025-03-04T15:20:24.635404Z",
     "shell.execute_reply": "2025-03-04T15:20:24.635104Z"
    },
    "papermill": {
     "duration": 0.225883,
     "end_time": "2025-03-04T15:20:24.636375",
     "exception": false,
     "start_time": "2025-03-04T15:20:24.410492",
     "status": "completed"
    },
    "tags": []
   },
   "outputs": [],
   "source": [
    "### Installing the required packages if not already installed\n",
    "packages = ['numpy', 'pandas', 'warnings', 'sqlite3', 'sqlite3']\n",
    "\n",
    "for package in packages:\n",
    "    try:\n",
    "        __import__(package)\n",
    "    except ImportError:\n",
    "        %pip install {package}\n",
    "\n",
    "import numpy as np    # For numerical computing\n",
    "import pandas as pd   # For data manipulation\n",
    "import sqlite3        # For connecting to SQL database\n",
    "import os\n",
    "\n",
    "### Ignoring the warnings\n",
    "import warnings\n",
    "warnings.filterwarnings('ignore')\n",
    "\n",
    "### Pandas display options\n",
    "pd.options.display.float_format = '{:.4f}'.format\n",
    "\n",
    "### Setting working directory\n",
    "os.chdir('/Users/emilwilliamhansen/Desktop/Master-Thesis/Code')"
   ]
  },
  {
   "cell_type": "code",
   "execution_count": 5,
   "id": "87b0f714",
   "metadata": {
    "execution": {
     "iopub.execute_input": "2025-03-04T15:20:24.639220Z",
     "iopub.status.busy": "2025-03-04T15:20:24.639079Z",
     "iopub.status.idle": "2025-03-04T15:20:25.814788Z",
     "shell.execute_reply": "2025-03-04T15:20:25.814517Z"
    },
    "papermill": {
     "duration": 1.177946,
     "end_time": "2025-03-04T15:20:25.815633",
     "exception": false,
     "start_time": "2025-03-04T15:20:24.637687",
     "status": "completed"
    },
    "tags": []
   },
   "outputs": [],
   "source": [
    "### Extracting the data from the database\n",
    "conn = sqlite3.connect('Data/data.db')\n",
    "\n",
    "### Reading the data from the database\n",
    "stock_ret_d = pd.read_sql('SELECT * FROM filtered_daily_returns', conn).set_index('Date')\n",
    "stock_ret_m = pd.read_sql('SELECT * FROM filtered_monthly_returns', conn).set_index('Date')\n",
    "factor_ret_d = pd.read_sql('SELECT * FROM factors_daily', conn).set_index('Date')\n",
    "factor_ret_m = pd.read_sql('SELECT * FROM factors_monthly', conn).set_index('Date')\n",
    "\n",
    "### Closing the connection\n",
    "conn.close()\n",
    "\n",
    "### Making sure the index is a datetime index\n",
    "stock_ret_d.index = pd.to_datetime(stock_ret_d.index)\n",
    "stock_ret_m.index = pd.to_datetime(stock_ret_m.index)\n",
    "factor_ret_d.index = pd.to_datetime(factor_ret_d.index)\n",
    "factor_ret_m.index = pd.to_datetime(factor_ret_m.index)\n",
    "\n",
    "### Extracting risk-free rate\n",
    "rf_d = factor_ret_d['rf']\n",
    "rf_m = factor_ret_m['rf']\n",
    "\n",
    "### Extracting the market return\n",
    "exc_mkt_ret_d = factor_ret_d['VW']\n",
    "exc_mkt_ret_m = factor_ret_m['VW']\n",
    "\n",
    "exc_ew_ret_d = factor_ret_d['EW']\n",
    "exc_ew_ret_m = factor_ret_m['EW']\n",
    "\n",
    "### Calculating the excess returns\n",
    "exc_stock_ret_d = stock_ret_d.sub(rf_d, axis=0)\n",
    "exc_stock_ret_m = stock_ret_m.sub(rf_m, axis=0)"
   ]
  },
  {
   "cell_type": "markdown",
   "id": "ad519491",
   "metadata": {
    "papermill": {
     "duration": 0.000921,
     "end_time": "2025-03-04T15:20:25.817818",
     "exception": false,
     "start_time": "2025-03-04T15:20:25.816897",
     "status": "completed"
    },
    "tags": []
   },
   "source": [
    "# Recreating BAB\n",
    "\n",
    "Code inspired by:\n",
    "- https://github.com/WenqiAngieWu/Betting-Against-Beta/blob/master/main.py\n",
    "\n",
    "I'll compute betas on a daily basis to capture as much information as possible. For each beta, denoted as $\\beta_t$, we'll only use data from before time $t$. This ensures that each beta is applied within its corresponding time period, avoiding any look-ahead bias.\n",
    "\n",
    "To do this, we introduce `closed='left'` in the `rolling` function. This sets the window to include the past $w$ observations while excluding the current one, essentially replicating the effect of shifting the betas but in a more robust manner.\n"
   ]
  },
  {
   "cell_type": "code",
   "execution_count": 6,
   "id": "8491cbe1",
   "metadata": {
    "execution": {
     "iopub.execute_input": "2025-03-04T15:20:25.819778Z",
     "iopub.status.busy": "2025-03-04T15:20:25.819677Z",
     "iopub.status.idle": "2025-03-04T15:20:27.079047Z",
     "shell.execute_reply": "2025-03-04T15:20:27.077939Z"
    },
    "papermill": {
     "duration": 1.263747,
     "end_time": "2025-03-04T15:20:27.082333",
     "exception": false,
     "start_time": "2025-03-04T15:20:25.818586",
     "status": "completed"
    },
    "tags": []
   },
   "outputs": [],
   "source": [
    "### Getting the 3-day log returns\n",
    "log_stock_ret_d = np.log(1 + exc_stock_ret_d.astype(float))\n",
    "log_market_ret_d = np.log(1 + exc_mkt_ret_d)\n",
    "\n",
    "three_day_exc_stock_ret = log_stock_ret_d.rolling(window=3).sum()\n",
    "three_day_exc_mkt_ret = log_market_ret_d.rolling(window=3).sum()\n",
    "\n",
    "### Getting the volatility\n",
    "# we follow the original paper and use a 1 year (252 days) window.\n",
    "# we also use daily returns, and not the three-day returns.\n",
    "# we also restrict the window to at least have 120 days of data.\n",
    "vol_stock_ret_d = log_stock_ret_d.rolling(window=252, min_periods=120, closed='left').std()\n",
    "vol_mkt_ret_d = log_market_ret_d.rolling(window=252, min_periods=120, closed='left').std()\n",
    "\n",
    "### Getting the correlations\n",
    "# we follow the original paper and use a 5 year (252*5 days) window.\n",
    "# we also use the three-day returns, and not the daily returns.\n",
    "# we also restrict the window to at least have 750 days of data.\n",
    "correlation = three_day_exc_stock_ret.rolling(window=252*5, min_periods=750, closed='left').corr(three_day_exc_mkt_ret)\n",
    "\n",
    "### Getting the beta\n",
    "# we compute the beta using the formula from the original paper.\n",
    "# we shrink the betas using the formula from the original paper.\n",
    "beta_d = 0.6 * correlation * vol_stock_ret_d.div(vol_mkt_ret_d, axis=0) + 0.4 * 1\n",
    "\n",
    "### Getting the monthly beta\n",
    "# Since the beta is just based on past values, the first beta of each month is the beta we are interested in.\n",
    "beta_m = beta_d.resample('M').first()"
   ]
  },
  {
   "cell_type": "code",
   "execution_count": 7,
   "id": "af8cb5ed",
   "metadata": {
    "execution": {
     "iopub.execute_input": "2025-03-04T15:20:27.089933Z",
     "iopub.status.busy": "2025-03-04T15:20:27.089723Z",
     "iopub.status.idle": "2025-03-04T15:20:27.459061Z",
     "shell.execute_reply": "2025-03-04T15:20:27.458785Z"
    },
    "papermill": {
     "duration": 0.372388,
     "end_time": "2025-03-04T15:20:27.460019",
     "exception": false,
     "start_time": "2025-03-04T15:20:27.087631",
     "status": "completed"
    },
    "tags": []
   },
   "outputs": [],
   "source": [
    "### Getting the beta ranks\n",
    "betarank_m = beta_m.rank(axis=1, method='average')\n",
    "\n",
    "### Getting the median\n",
    "betamedian_m = betarank_m.median(axis=1)\n",
    "\n",
    "### Normalizing the betas\n",
    "k_m = 2 / abs(betarank_m.sub(betamedian_m, axis=0)).sum(axis=1)\n",
    "\n",
    "### Getting the weights\n",
    "w_m = betarank_m.sub(betamedian_m, axis=0).mul(k_m, axis=0)\n",
    "wH_m = w_m.applymap(lambda x:x if x > 0 else 0)\n",
    "wL_m = w_m.applymap(lambda x:-x if x < 0 else 0)\n",
    "\n",
    "### Getting the portfolio returns\n",
    "exc_ret_bab_H_m = (stock_ret_m.mul(wH_m, axis=1).sum(axis=1) - factor_ret_m['rf']) / (beta_m.mul(wH_m, axis=1).sum(axis=1).replace(0, np.nan))\n",
    "exc_ret_bab_L_m = (stock_ret_m.mul(wL_m, axis=1).sum(axis=1) - factor_ret_m['rf']) / (beta_m.mul(wL_m, axis=1).sum(axis=1).replace(0, np.nan))\n",
    "exc_ret_bab_m = exc_ret_bab_L_m - exc_ret_bab_H_m"
   ]
  },
  {
   "cell_type": "code",
   "execution_count": 8,
   "id": "a6594040",
   "metadata": {
    "execution": {
     "iopub.execute_input": "2025-03-04T15:20:27.462918Z",
     "iopub.status.busy": "2025-03-04T15:20:27.462758Z",
     "iopub.status.idle": "2025-03-04T15:20:27.466025Z",
     "shell.execute_reply": "2025-03-04T15:20:27.465664Z"
    },
    "papermill": {
     "duration": 0.005387,
     "end_time": "2025-03-04T15:20:27.466782",
     "exception": false,
     "start_time": "2025-03-04T15:20:27.461395",
     "status": "completed"
    },
    "tags": []
   },
   "outputs": [
    {
     "name": "stdout",
     "output_type": "stream",
     "text": [
      "The sharpe ratios of BAB with monthly rebalancing are 0.80\n",
      "The sharpe ratios of BAB High with monthly rebalancing are 0.34\n",
      "The sharpe ratios of BAB Low with monthly rebalancing are 0.92\n"
     ]
    }
   ],
   "source": [
    "### Printing the sharpe ratios\n",
    "print(f\"The sharpe ratios of BAB with monthly rebalancing are {exc_ret_bab_m.mean() / exc_ret_bab_m.std() * np.sqrt(12):.2f}\")\n",
    "print(f\"The sharpe ratios of BAB High with monthly rebalancing are {exc_ret_bab_H_m.mean() / exc_ret_bab_H_m.std() * np.sqrt(12):.2f}\")\n",
    "print(f\"The sharpe ratios of BAB Low with monthly rebalancing are {exc_ret_bab_L_m.mean() / exc_ret_bab_L_m.std() * np.sqrt(12):.2f}\")"
   ]
  },
  {
   "cell_type": "code",
   "execution_count": 9,
   "id": "ee9e0626",
   "metadata": {
    "execution": {
     "iopub.execute_input": "2025-03-04T15:20:27.469045Z",
     "iopub.status.busy": "2025-03-04T15:20:27.468928Z",
     "iopub.status.idle": "2025-03-04T15:20:34.277159Z",
     "shell.execute_reply": "2025-03-04T15:20:34.276513Z"
    },
    "papermill": {
     "duration": 6.811373,
     "end_time": "2025-03-04T15:20:34.279203",
     "exception": false,
     "start_time": "2025-03-04T15:20:27.467830",
     "status": "completed"
    },
    "tags": []
   },
   "outputs": [],
   "source": [
    "### Using monthly weights to get the daily weights\n",
    "wH_d = pd.DataFrame(index=stock_ret_d.index, columns=stock_ret_d.columns)\n",
    "wL_d = pd.DataFrame(index=stock_ret_d.index, columns=stock_ret_d.columns)\n",
    "beta_d = pd.DataFrame(index=stock_ret_d.index, columns=stock_ret_d.columns)\n",
    "\n",
    "for date in w_m.index:\n",
    "    short_date = date.strftime('%Y-%m')\n",
    "    wH_d.loc[short_date] = wH_m.loc[date].values\n",
    "    wL_d.loc[short_date] = wL_m.loc[date].values\n",
    "    beta_d.loc[short_date] = beta_m.loc[date].values\n",
    "\n",
    "### Getting the daily portfolio returns\n",
    "exc_ret_bab_H_d = (stock_ret_d.mul(wH_d, axis=1).sum(axis=1) - factor_ret_d['rf']) / (beta_d.mul(wH_d, axis=1).sum(axis=1).replace(0, np.nan))\n",
    "exc_ret_bab_L_d = (stock_ret_d.mul(wL_d, axis=1).sum(axis=1) - factor_ret_d['rf']) / (beta_d.mul(wL_d, axis=1).sum(axis=1).replace(0, np.nan))\n",
    "exc_ret_bab_d = exc_ret_bab_L_d - exc_ret_bab_H_d"
   ]
  },
  {
   "cell_type": "code",
   "execution_count": 10,
   "id": "479bc02b",
   "metadata": {
    "execution": {
     "iopub.execute_input": "2025-03-04T15:20:34.283930Z",
     "iopub.status.busy": "2025-03-04T15:20:34.283738Z",
     "iopub.status.idle": "2025-03-04T15:20:34.286090Z",
     "shell.execute_reply": "2025-03-04T15:20:34.285852Z"
    },
    "papermill": {
     "duration": 0.005024,
     "end_time": "2025-03-04T15:20:34.286880",
     "exception": false,
     "start_time": "2025-03-04T15:20:34.281856",
     "status": "completed"
    },
    "tags": []
   },
   "outputs": [],
   "source": [
    "# ### Getting the scaled weights\n",
    "# wH_m_scaled = wH_m.replace(0, np.nan).div(beta_m.mul(wH_m, axis=1).sum(axis=1).replace(0, np.nan), axis=0)\n",
    "# wL_m_scaled = wL_m.replace(0, np.nan).div(beta_m.mul(wL_m, axis=1).sum(axis=1).replace(0, np.nan), axis=0)\n",
    "# w_scaled = wL_m_scaled.fillna(-wH_m_scaled)\n",
    "\n",
    "### Getting the volatility\n",
    "# volatility['BAB'] = np.nan\n",
    "# for month in factor_ret_m.index:\n",
    "    # w = w_scaled.loc[month].replace(np.nan, 0)\n",
    "    # ret = stock_ret_d.loc[month.strftime('%Y-%m')]\n",
    "    # cov = ret.cov().replace(np.nan, 0)\n",
    "    # volatility.loc[month, 'BAB'] = np.sqrt(abs(np.dot(w, np.dot(cov, w)))) * np.sqrt(252)\n",
    "#     volatility.loc[month, 'BAB'] = exc_ret_bab_d.loc[month.strftime('%Y-%m')].std() * np.sqrt(252)\n",
    "\n",
    "# volatility = volatility.replace(0, np.nan)\n",
    "# volatility"
   ]
  },
  {
   "cell_type": "code",
   "execution_count": 11,
   "id": "0a1c17c5",
   "metadata": {
    "execution": {
     "iopub.execute_input": "2025-03-04T15:20:34.289013Z",
     "iopub.status.busy": "2025-03-04T15:20:34.288910Z",
     "iopub.status.idle": "2025-03-04T15:20:34.340832Z",
     "shell.execute_reply": "2025-03-04T15:20:34.340557Z"
    },
    "papermill": {
     "duration": 0.053845,
     "end_time": "2025-03-04T15:20:34.341652",
     "exception": false,
     "start_time": "2025-03-04T15:20:34.287807",
     "status": "completed"
    },
    "tags": []
   },
   "outputs": [],
   "source": [
    "### Saving the data\n",
    "conn = sqlite3.connect('Data/data.db')\n",
    "\n",
    "factor_ret_m['BAB'] = exc_ret_bab_m\n",
    "factor_ret_d['BAB'] = exc_ret_bab_d\n",
    "\n",
    "factor_ret_d.to_sql('factors_daily', conn, if_exists='replace')\n",
    "factor_ret_m.to_sql('factors_monthly', conn, if_exists='replace')\n",
    "\n",
    "conn.close()"
   ]
  }
 ],
 "metadata": {
  "kernelspec": {
   "display_name": "Python 3",
   "language": "python",
   "name": "python3"
  },
  "language_info": {
   "codemirror_mode": {
    "name": "ipython",
    "version": 3
   },
   "file_extension": ".py",
   "mimetype": "text/x-python",
   "name": "python",
   "nbconvert_exporter": "python",
   "pygments_lexer": "ipython3",
   "version": "3.13.1"
  },
  "papermill": {
   "default_parameters": {},
   "duration": 11.439753,
   "end_time": "2025-03-04T15:20:35.266673",
   "environment_variables": {},
   "exception": null,
   "input_path": "11_bab_replication.ipynb",
   "output_path": "11_bab_replication.ipynb",
   "parameters": {},
   "start_time": "2025-03-04T15:20:23.826920",
   "version": "2.6.0"
  }
 },
 "nbformat": 4,
 "nbformat_minor": 5
}
