{
 "cells": [
  {
   "cell_type": "code",
   "execution_count": 1,
   "id": "14bf0acd",
   "metadata": {
    "execution": {
     "iopub.execute_input": "2025-03-13T16:20:35.529664Z",
     "iopub.status.busy": "2025-03-13T16:20:35.529066Z",
     "iopub.status.idle": "2025-03-13T16:20:36.209002Z",
     "shell.execute_reply": "2025-03-13T16:20:36.208712Z"
    },
    "papermill": {
     "duration": 0.689837,
     "end_time": "2025-03-13T16:20:36.209881",
     "exception": false,
     "start_time": "2025-03-13T16:20:35.520044",
     "status": "completed"
    },
    "tags": []
   },
   "outputs": [],
   "source": [
    "### Installing the required packages if not already installed\n",
    "packages = ['numpy', 'pandas', 'warnings', 'sqlite3', 'sqlite3', 'scipy']\n",
    "\n",
    "for package in packages:\n",
    "    try:\n",
    "        __import__(package)\n",
    "    except ImportError:\n",
    "        %pip install {package}\n",
    "\n",
    "import numpy as np    # For numerical computing\n",
    "import pandas as pd   # For data manipulation\n",
    "import sqlite3        # For connecting to SQL database\n",
    "import os\n",
    "from scipy.stats.mstats import winsorize\n",
    "\n",
    "\n",
    "### Ignoring the warnings\n",
    "import warnings\n",
    "warnings.filterwarnings('ignore')\n",
    "\n",
    "### Pandas display options\n",
    "pd.options.display.float_format = '{:.4f}'.format\n",
    "\n",
    "### Setting working directory\n",
    "os.chdir('/Users/emilwilliamhansen/Desktop/Master-Thesis/Code')"
   ]
  },
  {
   "cell_type": "code",
   "execution_count": 2,
   "id": "e890ff45",
   "metadata": {
    "execution": {
     "iopub.execute_input": "2025-03-13T16:20:36.213003Z",
     "iopub.status.busy": "2025-03-13T16:20:36.212814Z",
     "iopub.status.idle": "2025-03-13T16:20:36.377858Z",
     "shell.execute_reply": "2025-03-13T16:20:36.377321Z"
    },
    "papermill": {
     "duration": 0.16723,
     "end_time": "2025-03-13T16:20:36.378573",
     "exception": true,
     "start_time": "2025-03-13T16:20:36.211343",
     "status": "failed"
    },
    "tags": []
   },
   "outputs": [],
   "source": [
    "### Extracting the data from the database\n",
    "conn = sqlite3.connect('Data/data.db')\n",
    "\n",
    "### Reading the data from the database\n",
    "stock_ret_d = pd.read_sql('SELECT * FROM filtered_daily_returns', conn).set_index('Date')\n",
    "stock_ret_m = pd.read_sql('SELECT * FROM filtered_monthly_returns', conn).set_index('Date')\n",
    "factor_ret_d = pd.read_sql('SELECT * FROM factors_daily', conn).set_index('Date')\n",
    "factor_ret_m = pd.read_sql('SELECT * FROM factors_monthly', conn).set_index('Date')\n",
    "\n",
    "### Closing the connection\n",
    "conn.close()\n",
    "\n",
    "### Making sure the index is a datetime index\n",
    "stock_ret_d.index = pd.to_datetime(stock_ret_d.index)\n",
    "stock_ret_m.index = pd.to_datetime(stock_ret_m.index)\n",
    "factor_ret_d.index = pd.to_datetime(factor_ret_d.index)\n",
    "factor_ret_m.index = pd.to_datetime(factor_ret_m.index)"
   ]
  },
  {
   "cell_type": "code",
   "execution_count": 3,
   "id": "4482448a",
   "metadata": {
    "execution": {
     "iopub.execute_input": "2025-03-04T15:20:19.176795Z",
     "iopub.status.busy": "2025-03-04T15:20:19.176677Z",
     "iopub.status.idle": "2025-03-04T15:20:19.464277Z",
     "shell.execute_reply": "2025-03-04T15:20:19.463928Z"
    },
    "papermill": {
     "duration": null,
     "end_time": null,
     "exception": null,
     "start_time": null,
     "status": "pending"
    },
    "tags": []
   },
   "outputs": [],
   "source": [
    "### Winsorizing the monthly returns to inclide 95% of the data\n",
    "stock_ret_m = stock_ret_m.apply(lambda x: x.clip(lower=x.quantile(0.025), upper=x.quantile(0.975)), axis=1)"
   ]
  },
  {
   "cell_type": "code",
   "execution_count": 4,
   "id": "76c79cae",
   "metadata": {
    "execution": {
     "iopub.execute_input": "2025-03-04T15:20:19.468054Z",
     "iopub.status.busy": "2025-03-04T15:20:19.467924Z",
     "iopub.status.idle": "2025-03-04T15:20:19.471431Z",
     "shell.execute_reply": "2025-03-04T15:20:19.471057Z"
    },
    "papermill": {
     "duration": null,
     "end_time": null,
     "exception": null,
     "start_time": null,
     "status": "pending"
    },
    "tags": []
   },
   "outputs": [],
   "source": [
    "stock_ret_m = stock_ret_m.replace(0, np.nan)"
   ]
  },
  {
   "cell_type": "code",
   "execution_count": 5,
   "id": "2ab7979f",
   "metadata": {
    "execution": {
     "iopub.execute_input": "2025-03-04T15:20:19.474706Z",
     "iopub.status.busy": "2025-03-04T15:20:19.474582Z",
     "iopub.status.idle": "2025-03-04T15:20:19.478227Z",
     "shell.execute_reply": "2025-03-04T15:20:19.477923Z"
    },
    "papermill": {
     "duration": null,
     "end_time": null,
     "exception": null,
     "start_time": null,
     "status": "pending"
    },
    "tags": []
   },
   "outputs": [],
   "source": [
    "def momentum(\n",
    "        returns: pd.DataFrame,\n",
    "        lookback_period: int = 12,\n",
    "        lag: int = 1,\n",
    "        half_life: float = 2.0,\n",
    "        n_ptf: int = 5,\n",
    "        weighting: str = 'ranked'\n",
    ") -> pd.DataFrame:\n",
    "    \n",
    "    exp_w = np.exp(-np.log(2) / half_life * np.arange(lookback_period)[::-1])\n",
    "    if lag > 0:\n",
    "        exp_w[-lag:] = 0\n",
    "    exp_w /= exp_w.sum()\n",
    "\n",
    "    log_ret = np.log(1 + returns)\n",
    "\n",
    "    mom_score = log_ret.rolling(lookback_period, min_periods=lookback_period, closed='left').apply(lambda x: np.dot(exp_w, x))\n",
    "\n",
    "    mom_rank = mom_score.rank(axis=1)\n",
    "\n",
    "    mom_group = mom_rank.dropna(how='all', axis=0).apply(lambda x: pd.qcut(x, n_ptf, labels=False), axis=1)\n",
    "    mom_group = mom_group.reindex(returns.index)\n",
    "\n",
    "    if weighting == 'ranked':\n",
    "        low_mom_w = mom_rank.where(mom_group == 0, np.nan).apply(lambda x: x / x.abs().sum(), axis=1)\n",
    "        high_mom_w = mom_rank.where(mom_group == n_ptf-1, np.nan).apply(lambda x: x / x.abs().sum(), axis=1)\n",
    "\n",
    "    elif weighting == 'equal':\n",
    "        low_mom_w = mom_rank.where(mom_group == 0, np.nan).apply(lambda x: x / x.abs().sum(), axis=1)\n",
    "        high_mom_w = mom_rank.where(mom_group == n_ptf-1, np.nan).apply(lambda x: x / x.abs().sum(), axis=1)\n",
    "\n",
    "        low_mom_w = mom_rank.where(low_mom_w.isna(), 1).apply(lambda x: x / x.abs().sum(), axis=1)\n",
    "        high_mom_w = mom_rank.where(high_mom_w.isna(), 1).apply(lambda x: x / x.abs().sum(), axis=1)\n",
    "\n",
    "\n",
    "    exc_ret_mom_H_m = (high_mom_w * stock_ret_m).sum(axis=1)\n",
    "    exc_ret_mom_L_m = (low_mom_w * stock_ret_m).sum(axis=1)\n",
    "    exc_ret_mom_m = exc_ret_mom_H_m - exc_ret_mom_L_m\n",
    "\n",
    "    return exc_ret_mom_m, exc_ret_mom_H_m, exc_ret_mom_L_m, high_mom_w, low_mom_w"
   ]
  },
  {
   "cell_type": "code",
   "execution_count": 6,
   "id": "cac2d0b7",
   "metadata": {
    "execution": {
     "iopub.execute_input": "2025-03-04T15:20:19.481331Z",
     "iopub.status.busy": "2025-03-04T15:20:19.481133Z",
     "iopub.status.idle": "2025-03-04T15:20:21.407895Z",
     "shell.execute_reply": "2025-03-04T15:20:21.407575Z"
    },
    "papermill": {
     "duration": null,
     "end_time": null,
     "exception": null,
     "start_time": null,
     "status": "pending"
    },
    "tags": []
   },
   "outputs": [],
   "source": [
    "fun = momentum(stock_ret_m, lookback_period=12, lag=1, half_life=2, n_ptf=4, weighting='ranked')\n",
    "mom = fun[0].replace(0, np.nan)\n",
    "high = fun[1]\n",
    "low = fun[2]\n",
    "weights = fun[3].fillna(-fun[4])"
   ]
  },
  {
   "cell_type": "code",
   "execution_count": 7,
   "id": "c300282a",
   "metadata": {
    "execution": {
     "iopub.execute_input": "2025-03-04T15:20:21.418034Z",
     "iopub.status.busy": "2025-03-04T15:20:21.417791Z",
     "iopub.status.idle": "2025-03-04T15:20:21.421375Z",
     "shell.execute_reply": "2025-03-04T15:20:21.421126Z"
    },
    "papermill": {
     "duration": null,
     "end_time": null,
     "exception": null,
     "start_time": null,
     "status": "pending"
    },
    "tags": []
   },
   "outputs": [
    {
     "name": "stdout",
     "output_type": "stream",
     "text": [
      "The Sharpe ratio of the momentum strategy is 1.04\n",
      "The Sharpe ratio of the momentum strategy (high) is 1.01\n",
      "The Sharpe ratio of the momentum strategy (low) is 0.13\n"
     ]
    }
   ],
   "source": [
    "### printing the sharpe ratio of the momentum strategy\n",
    "print(f'The Sharpe ratio of the momentum strategy is {mom.mean() / mom.std()*np.sqrt(12):.2f}')\n",
    "print(f'The Sharpe ratio of the momentum strategy (high) is {high.mean() / high.std()*np.sqrt(12):.2f}')\n",
    "print(f'The Sharpe ratio of the momentum strategy (low) is {low.mean() / low.std()*np.sqrt(12):.2f}')"
   ]
  },
  {
   "cell_type": "code",
   "execution_count": 8,
   "id": "eeecafc9",
   "metadata": {
    "execution": {
     "iopub.execute_input": "2025-03-04T15:20:21.424956Z",
     "iopub.status.busy": "2025-03-04T15:20:21.424801Z",
     "iopub.status.idle": "2025-03-04T15:20:23.231646Z",
     "shell.execute_reply": "2025-03-04T15:20:23.231192Z"
    },
    "papermill": {
     "duration": null,
     "end_time": null,
     "exception": null,
     "start_time": null,
     "status": "pending"
    },
    "tags": []
   },
   "outputs": [
    {
     "data": {
      "text/plain": [
       "Date\n",
       "1980-01-03       NaN\n",
       "1980-01-04       NaN\n",
       "1980-01-07       NaN\n",
       "1980-01-08       NaN\n",
       "1980-01-09       NaN\n",
       "               ...  \n",
       "2023-12-21    0.0057\n",
       "2023-12-22   -0.0162\n",
       "2023-12-27   -0.0077\n",
       "2023-12-28    0.0070\n",
       "2023-12-29   -0.0011\n",
       "Length: 11041, dtype: float64"
      ]
     },
     "execution_count": 8,
     "metadata": {},
     "output_type": "execute_result"
    }
   ],
   "source": [
    "### Using monthly weights to get the daily weights\n",
    "daily_weights = pd.DataFrame(index=stock_ret_d.index, columns=stock_ret_d.columns)\n",
    "for date in weights.index:\n",
    "    short_date = date.strftime('%Y-%m')\n",
    "    daily_weights.loc[short_date] = weights.loc[date].values\n",
    "\n",
    "daily_mom = (daily_weights * stock_ret_d).sum(axis=1).replace(0, np.nan)\n",
    "daily_mom"
   ]
  },
  {
   "cell_type": "code",
   "execution_count": 10,
   "id": "183786bf",
   "metadata": {
    "execution": {
     "iopub.execute_input": "2025-03-04T15:20:23.242432Z",
     "iopub.status.busy": "2025-03-04T15:20:23.242334Z",
     "iopub.status.idle": "2025-03-04T15:20:23.284249Z",
     "shell.execute_reply": "2025-03-04T15:20:23.283963Z"
    },
    "papermill": {
     "duration": null,
     "end_time": null,
     "exception": null,
     "start_time": null,
     "status": "pending"
    },
    "tags": []
   },
   "outputs": [],
   "source": [
    "factor_ret_m['UMD'] = mom\n",
    "factor_ret_d['UMD'] = daily_mom\n",
    "\n",
    "### Saving the data to the database\n",
    "conn = sqlite3.connect('Data/data.db')\n",
    "\n",
    "factor_ret_m.to_sql('factors_monthly', conn, if_exists='replace')\n",
    "factor_ret_d.to_sql('factors_daily', conn, if_exists='replace')\n",
    "\n",
    "conn.close()"
   ]
  }
 ],
 "metadata": {
  "kernelspec": {
   "display_name": "Python 3",
   "language": "python",
   "name": "python3"
  },
  "language_info": {
   "codemirror_mode": {
    "name": "ipython",
    "version": 3
   },
   "file_extension": ".py",
   "mimetype": "text/x-python",
   "name": "python",
   "nbconvert_exporter": "python",
   "pygments_lexer": "ipython3",
   "version": "3.13.1"
  },
  "papermill": {
   "default_parameters": {},
   "duration": 1.761375,
   "end_time": "2025-03-13T16:20:36.596394",
   "environment_variables": {},
   "exception": true,
   "input_path": "10_umd_replication.ipynb",
   "output_path": "10_umd_replication.ipynb",
   "parameters": {},
   "start_time": "2025-03-13T16:20:34.835019",
   "version": "2.6.0"
  }
 },
 "nbformat": 4,
 "nbformat_minor": 5
}
