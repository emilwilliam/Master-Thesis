{
 "cells": [
  {
   "cell_type": "code",
   "execution_count": 16,
   "id": "d2dd9378",
   "metadata": {
    "execution": {
     "iopub.execute_input": "2025-03-13T16:20:24.659100Z",
     "iopub.status.busy": "2025-03-13T16:20:24.658674Z",
     "iopub.status.idle": "2025-03-13T16:20:25.195366Z",
     "shell.execute_reply": "2025-03-13T16:20:25.195112Z"
    },
    "papermill": {
     "duration": 0.543569,
     "end_time": "2025-03-13T16:20:25.196241",
     "exception": false,
     "start_time": "2025-03-13T16:20:24.652672",
     "status": "completed"
    },
    "tags": []
   },
   "outputs": [],
   "source": [
    "### Installing the required packages if not already installed\n",
    "packages = ['numpy', 'pandas', 'warnings', 'sqlite3', 'yfinance', 'numba', 'time']\n",
    "\n",
    "for package in packages:\n",
    "    try:\n",
    "        __import__(package)\n",
    "    except ImportError:\n",
    "        %pip install {package}\n",
    "\n",
    "\n",
    "### Start timer\n",
    "import time\n",
    "start = time.time()\n",
    "\n",
    "import numpy as np\n",
    "import pandas as pd\n",
    "import warnings\n",
    "import sqlite3\n",
    "import os\n",
    "\n",
    "### Ignoring the warnings\n",
    "warnings.filterwarnings('ignore')\n",
    "\n",
    "### Setting working directory\n",
    "os.chdir('/Users/emilwilliamhansen/Desktop/Master-Thesis/Code')"
   ]
  },
  {
   "cell_type": "code",
   "execution_count": 17,
   "id": "a39fabbe",
   "metadata": {
    "execution": {
     "iopub.execute_input": "2025-03-13T16:20:25.198650Z",
     "iopub.status.busy": "2025-03-13T16:20:25.198487Z",
     "iopub.status.idle": "2025-03-13T16:20:25.215830Z",
     "shell.execute_reply": "2025-03-13T16:20:25.215600Z"
    },
    "papermill": {
     "duration": 0.019194,
     "end_time": "2025-03-13T16:20:25.216646",
     "exception": false,
     "start_time": "2025-03-13T16:20:25.197452",
     "status": "completed"
    },
    "tags": []
   },
   "outputs": [],
   "source": [
    "### Getting all the factor data\n",
    "liq_monthly = pd.read_csv(\"Data/ba-odegaard.no/liq_measures_ose_monthly.txt\",\n",
    "                        sep=',', encoding='latin1')\n",
    "\n",
    "liq_daily = pd.read_csv(\"Data/ba-odegaard.no/liq_measures_ose_daily.txt\",\n",
    "                        sep=',', encoding='latin1')\n",
    "\n",
    "mkt_daily = pd.read_csv(\"Data/ba-odegaard.no/market_portfolios_daily.txt\",\n",
    "                        sep=',', encoding='latin1')\n",
    "\n",
    "mkt_monthly = pd.read_csv(\"Data/ba-odegaard.no/market_portfolios_monthly.txt\",\n",
    "                        sep=',', encoding='latin1')\n",
    "\n",
    "factors_daily = pd.read_csv(\"Data/ba-odegaard.no/pricing_factors_daily.txt\",\n",
    "                        sep=',', encoding='latin1')\n",
    "\n",
    "factors_monthly = pd.read_csv(\"Data/ba-odegaard.no/pricing_factors_monthly.txt\",\n",
    "                        sep=',', encoding='latin1')\n",
    "\n",
    "rf_daily = pd.read_csv(\"Data/ba-odegaard.no/rf_daily.txt\",\n",
    "                        sep=',', encoding='latin1', skiprows=1)\n",
    "\n",
    "rf_monthly = pd.read_csv(\"Data/ba-odegaard.no/rf_monthly.txt\",\n",
    "                        sep=',', encoding='latin1', skiprows=1)"
   ]
  },
  {
   "cell_type": "code",
   "execution_count": 18,
   "id": "a98a4fb0",
   "metadata": {
    "execution": {
     "iopub.execute_input": "2025-03-13T16:20:25.218329Z",
     "iopub.status.busy": "2025-03-13T16:20:25.218221Z",
     "iopub.status.idle": "2025-03-13T16:20:25.233456Z",
     "shell.execute_reply": "2025-03-13T16:20:25.233196Z"
    },
    "papermill": {
     "duration": 0.016848,
     "end_time": "2025-03-13T16:20:25.234163",
     "exception": false,
     "start_time": "2025-03-13T16:20:25.217315",
     "status": "completed"
    },
    "tags": []
   },
   "outputs": [],
   "source": [
    "### Fixing the dates and putting them as the index\n",
    "liq_monthly['date'] = pd.to_datetime(liq_monthly['date'], format='%Y%m%d')\n",
    "liq_monthly.set_index('date', inplace=True)\n",
    "\n",
    "liq_daily['date'] = pd.to_datetime(liq_daily['date'], format='%Y%m%d')\n",
    "liq_daily.set_index('date', inplace=True)\n",
    "\n",
    "mkt_daily['date'] = pd.to_datetime(mkt_daily['date'], format='%Y%m%d')\n",
    "mkt_daily.set_index('date', inplace=True)\n",
    "\n",
    "mkt_monthly['date'] = pd.to_datetime(mkt_monthly['date'], format='%Y%m%d')\n",
    "mkt_monthly.set_index('date', inplace=True)\n",
    "\n",
    "factors_daily['date'] = pd.to_datetime(factors_daily['date'], format='%Y%m%d')\n",
    "factors_daily.set_index('date', inplace=True)\n",
    "\n",
    "factors_monthly['date'] = pd.to_datetime(factors_monthly['date'], format='%Y%m%d')\n",
    "factors_monthly.set_index('date', inplace=True)\n",
    "\n",
    "rf_daily['date'] = pd.to_datetime(rf_daily['date'], format='%Y%m%d')\n",
    "rf_daily.set_index('date', inplace=True)\n",
    "\n",
    "rf_monthly['date'] = pd.to_datetime(rf_monthly['date'], format='%Y%m%d')\n",
    "rf_monthly.set_index('date', inplace=True)"
   ]
  },
  {
   "cell_type": "code",
   "execution_count": 19,
   "id": "e1cc3eec",
   "metadata": {
    "execution": {
     "iopub.execute_input": "2025-03-13T16:20:25.235861Z",
     "iopub.status.busy": "2025-03-13T16:20:25.235764Z",
     "iopub.status.idle": "2025-03-13T16:20:25.244916Z",
     "shell.execute_reply": "2025-03-13T16:20:25.244593Z"
    },
    "papermill": {
     "duration": 0.01076,
     "end_time": "2025-03-13T16:20:25.245647",
     "exception": false,
     "start_time": "2025-03-13T16:20:25.234887",
     "status": "completed"
    },
    "tags": []
   },
   "outputs": [],
   "source": [
    "### Putting factors_daily and rf_daily together\n",
    "factors_daily = pd.concat([factors_daily, rf_daily, mkt_daily[[\"EW\", \"VW\"]]], axis=1)\n",
    "\n",
    "### Changing the column name of Rf(1d) to rf\n",
    "factors_daily.rename(columns={'Rf(1d)': 'rf'}, inplace=True)\n",
    "\n",
    "### Interpolating the risk free rate\n",
    "factors_daily['rf'] = factors_daily['rf'].interpolate()\n",
    "\n",
    "### Doing the same for the monthly data\n",
    "factors_monthly = pd.concat([factors_monthly, rf_monthly, mkt_monthly[[\"EW\", \"VW\"]]], axis=1)\n",
    "factors_monthly.rename(columns={'Rf(1m)': 'rf'}, inplace=True)\n",
    "factors_monthly['rf'] = factors_monthly['rf'].interpolate()\n",
    "\n",
    "### Restricting the period to 1980-2023\n",
    "factors_daily = factors_daily['1980':'2023']\n",
    "\n",
    "factors_monthly = factors_monthly['1980':'2023']\n",
    "\n",
    "### Getting the excess returns of EW and VW\n",
    "factors_daily['EW'] = factors_daily['EW'] - factors_daily['rf']\n",
    "factors_daily['VW'] = factors_daily['VW'] - factors_daily['rf']\n",
    "factors_monthly['EW'] = factors_monthly['EW'] - factors_monthly['rf']\n",
    "factors_monthly['VW'] = factors_monthly['VW'] - factors_monthly['rf']"
   ]
  },
  {
   "cell_type": "code",
   "execution_count": 20,
   "id": "0d4f6335",
   "metadata": {
    "execution": {
     "iopub.execute_input": "2025-03-13T16:20:25.247473Z",
     "iopub.status.busy": "2025-03-13T16:20:25.247256Z",
     "iopub.status.idle": "2025-03-13T16:20:25.335177Z",
     "shell.execute_reply": "2025-03-13T16:20:25.334950Z"
    },
    "papermill": {
     "duration": 0.089658,
     "end_time": "2025-03-13T16:20:25.335983",
     "exception": false,
     "start_time": "2025-03-13T16:20:25.246325",
     "status": "completed"
    },
    "tags": []
   },
   "outputs": [],
   "source": [
    "### Adding the factors to the database\n",
    "conn = sqlite3.connect('Data/data.db')\n",
    "\n",
    "factors_daily.to_sql('factors_daily', conn, if_exists='replace')\n",
    "factors_monthly.to_sql('factors_monthly', conn, if_exists='replace')\n",
    "liq_daily.to_sql('liq_daily', conn, if_exists='replace')\n",
    "liq_monthly.to_sql('liq_monthly', conn, if_exists='replace')\n",
    "\n",
    "conn.close()"
   ]
  }
 ],
 "metadata": {
  "kernelspec": {
   "display_name": "Python 3",
   "language": "python",
   "name": "python3"
  },
  "language_info": {
   "codemirror_mode": {
    "name": "ipython",
    "version": 3
   },
   "file_extension": ".py",
   "mimetype": "text/x-python",
   "name": "python",
   "nbconvert_exporter": "python",
   "pygments_lexer": "ipython3",
   "version": "3.13.1"
  },
  "papermill": {
   "default_parameters": {},
   "duration": 1.767978,
   "end_time": "2025-03-13T16:20:25.553488",
   "environment_variables": {},
   "exception": null,
   "input_path": "01_data_factors_rf_mkt.ipynb",
   "output_path": "01_data_factors_rf_mkt.ipynb",
   "parameters": {},
   "start_time": "2025-03-13T16:20:23.785510",
   "version": "2.6.0"
  }
 },
 "nbformat": 4,
 "nbformat_minor": 5
}
