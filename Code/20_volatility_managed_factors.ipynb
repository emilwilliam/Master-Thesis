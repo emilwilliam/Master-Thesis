{
 "cells": [
  {
   "cell_type": "markdown",
   "id": "163dbc23",
   "metadata": {
    "papermill": {
     "duration": 0.005572,
     "end_time": "2025-02-21T13:17:00.582702",
     "exception": false,
     "start_time": "2025-02-21T13:17:00.577130",
     "status": "completed"
    },
    "tags": []
   },
   "source": [
    "# Housekeeping"
   ]
  },
  {
   "cell_type": "code",
   "execution_count": 1,
   "id": "025b8bf5",
   "metadata": {
    "execution": {
     "iopub.execute_input": "2025-02-21T13:17:00.594085Z",
     "iopub.status.busy": "2025-02-21T13:17:00.593741Z",
     "iopub.status.idle": "2025-02-21T13:17:01.760687Z",
     "shell.execute_reply": "2025-02-21T13:17:01.760334Z"
    },
    "papermill": {
     "duration": 1.172674,
     "end_time": "2025-02-21T13:17:01.761635",
     "exception": false,
     "start_time": "2025-02-21T13:17:00.588961",
     "status": "completed"
    },
    "tags": []
   },
   "outputs": [],
   "source": [
    "### Installing the required packages if not already installed\n",
    "packages = ['numpy', 'pandas', 'warnings', 'sqlite3', 'scipy', 'matplotlib', 'numba']\n",
    "\n",
    "for package in packages:\n",
    "    try:\n",
    "        __import__(package)\n",
    "    except ImportError:\n",
    "        %pip install {package}\n",
    "\n",
    "import numpy as np    # For numerical computing\n",
    "import pandas as pd   # For data manipulation\n",
    "import sqlite3        # For connecting to SQL database\n",
    "import matplotlib.pyplot as plt\n",
    "from scipy.optimize import minimize\n",
    "from scipy import stats\n",
    "from numba import njit\n",
    "\n",
    "### Setting the random seed for reproducibility\n",
    "np.random.seed(42)\n",
    "\n",
    "### Ignoring the warnings\n",
    "import warnings\n",
    "warnings.filterwarnings('ignore')\n",
    "\n",
    "### Pandas display options\n",
    "pd.options.display.float_format = '{:.4f}'.format\n",
    "\n",
    "### Getting some fuctions from the other notebook\n",
    "%run 99_functions.ipynb"
   ]
  },
  {
   "cell_type": "markdown",
   "id": "02e9383a",
   "metadata": {
    "papermill": {
     "duration": 0.001733,
     "end_time": "2025-02-21T13:17:01.765200",
     "exception": false,
     "start_time": "2025-02-21T13:17:01.763467",
     "status": "completed"
    },
    "tags": []
   },
   "source": [
    "## Preparing the data needed"
   ]
  },
  {
   "cell_type": "code",
   "execution_count": 2,
   "id": "70729f53",
   "metadata": {
    "execution": {
     "iopub.execute_input": "2025-02-21T13:17:01.768299Z",
     "iopub.status.busy": "2025-02-21T13:17:01.768160Z",
     "iopub.status.idle": "2025-02-21T13:17:01.797833Z",
     "shell.execute_reply": "2025-02-21T13:17:01.797323Z"
    },
    "papermill": {
     "duration": 0.032177,
     "end_time": "2025-02-21T13:17:01.798663",
     "exception": false,
     "start_time": "2025-02-21T13:17:01.766486",
     "status": "completed"
    },
    "tags": []
   },
   "outputs": [
    {
     "name": "stdout",
     "output_type": "stream",
     "text": [
      "SMB    0\n",
      "HML    0\n",
      "UMD    0\n",
      "EW     0\n",
      "VW     0\n",
      "BAB    0\n",
      "dtype: int64\n",
      "SMB    0\n",
      "HML    0\n",
      "UMD    0\n",
      "EW     0\n",
      "VW     0\n",
      "BAB    0\n",
      "dtype: int64\n"
     ]
    }
   ],
   "source": [
    "### Extracting the data from the database\n",
    "conn = sqlite3.connect('Data/data.db')\n",
    "\n",
    "factor_ret_d = pd.read_sql('SELECT * FROM factors_daily', conn).set_index('Date').drop(columns='rf')\n",
    "factor_ret_m = pd.read_sql('SELECT * FROM factors_monthly', conn).set_index('Date')\n",
    "\n",
    "conn.close()\n",
    "\n",
    "rf = factor_ret_m[['rf']]\n",
    "factor_ret_m = factor_ret_m.drop(columns='rf')\n",
    "\n",
    "### making sure all the data is in the same format\n",
    "factor_ret_d.index = pd.to_datetime(factor_ret_d.index)\n",
    "factor_ret_m.index = pd.to_datetime(factor_ret_m.index)\n",
    "rf.index = pd.to_datetime(rf.index)\n",
    "\n",
    "### Since the BAB factor start in 1983, we will only consider the data from 1983 onwards\n",
    "factor_ret_d = factor_ret_d['1983':]\n",
    "factor_ret_m = factor_ret_m['1983':]\n",
    "rf = rf['1983':]\n",
    "\n",
    "### Looking if we have any NaN\n",
    "print(factor_ret_d.isna().sum())\n",
    "print(factor_ret_m.isna().sum())"
   ]
  },
  {
   "cell_type": "markdown",
   "id": "d79b5b9f",
   "metadata": {
    "papermill": {
     "duration": 0.001288,
     "end_time": "2025-02-21T13:17:01.801519",
     "exception": false,
     "start_time": "2025-02-21T13:17:01.800231",
     "status": "completed"
    },
    "tags": []
   },
   "source": [
    "To compute the monthly volatilities and variances for each factor, we utilize daily data. Since the UMD and BAB factors are constructed by us, we have already applied the respective monthly weights to the daily data. Specifically, at the beginning of each month, we allocate capital to stocks according to that month's predetermined weights, maintaining these positions without rebalancing until the subsequent month.\n",
    "\n",
    "For the HML, SMB, EW, and VW factors, we assume, for simplicity, that their weights do not exhibit substantial daily variation. Consequently, we use their daily rebalanced returns as a proxy for estimating monthly volatility and variance. This approach ensures consistency across factors while reducing the complexity associated with daily weight adjustments."
   ]
  },
  {
   "cell_type": "code",
   "execution_count": 3,
   "id": "82a06f64",
   "metadata": {
    "execution": {
     "iopub.execute_input": "2025-02-21T13:17:01.804834Z",
     "iopub.status.busy": "2025-02-21T13:17:01.804709Z",
     "iopub.status.idle": "2025-02-21T13:17:02.875877Z",
     "shell.execute_reply": "2025-02-21T13:17:02.875593Z"
    },
    "papermill": {
     "duration": 1.073899,
     "end_time": "2025-02-21T13:17:02.876695",
     "exception": false,
     "start_time": "2025-02-21T13:17:01.802796",
     "status": "completed"
    },
    "tags": []
   },
   "outputs": [
    {
     "name": "stdout",
     "output_type": "stream",
     "text": [
      "SMB    0\n",
      "HML    0\n",
      "UMD    0\n",
      "EW     0\n",
      "VW     0\n",
      "BAB    0\n",
      "dtype: int64\n",
      "SMB    0\n",
      "HML    0\n",
      "UMD    0\n",
      "EW     0\n",
      "VW     0\n",
      "BAB    0\n",
      "dtype: int64\n"
     ]
    }
   ],
   "source": [
    "### Getting the daily volatilites we are missing using the daily returns\n",
    "volatility = pd.DataFrame(index=factor_ret_m.index, columns=factor_ret_m.columns)\n",
    "variance = pd.DataFrame(index=factor_ret_m.index, columns=factor_ret_m.columns)\n",
    "\n",
    "for factor in factor_ret_m.columns:\n",
    "    for date in factor_ret_m.index:\n",
    "        volatility.loc[date, factor] = factor_ret_d.loc[date.strftime('%Y-%m'), factor].std() * np.sqrt(252)\n",
    "        variance.loc[date, factor] = factor_ret_d.loc[date.strftime('%Y-%m'), factor].var() * 252\n",
    "\n",
    "### Looking if we have any NaN\n",
    "print(volatility.isna().sum())\n",
    "print(variance.isna().sum())"
   ]
  },
  {
   "cell_type": "markdown",
   "id": "6bc8ccab",
   "metadata": {
    "papermill": {
     "duration": 0.001528,
     "end_time": "2025-02-21T13:17:02.880046",
     "exception": false,
     "start_time": "2025-02-21T13:17:02.878518",
     "status": "completed"
    },
    "tags": []
   },
   "source": [
    "To ensure that the volatility of both the original factor and the volatility-managed factor remains the same, we will select an appropriate value for $c$. This scaling parameter $c$ is chosen such that the standard deviation of the volatility-managed factor matches that of the original factor.\n",
    "\n",
    "Mathematically, we define $c$ such that:\n",
    "\n",
    "$$Std \\left ( \\frac{c}{\\sigma^2_{k,t}} r_{k,t+1} \\right ) = Std \\left ( r_{k,t+1} \\right )$$"
   ]
  },
  {
   "cell_type": "code",
   "execution_count": 4,
   "id": "fd51c21a",
   "metadata": {
    "execution": {
     "iopub.execute_input": "2025-02-21T13:17:02.883473Z",
     "iopub.status.busy": "2025-02-21T13:17:02.883345Z",
     "iopub.status.idle": "2025-02-21T13:17:02.910083Z",
     "shell.execute_reply": "2025-02-21T13:17:02.909833Z"
    },
    "papermill": {
     "duration": 0.02916,
     "end_time": "2025-02-21T13:17:02.910761",
     "exception": false,
     "start_time": "2025-02-21T13:17:02.881601",
     "status": "completed"
    },
    "tags": []
   },
   "outputs": [],
   "source": [
    "### Calculating the optimal c for each factor\n",
    "c = pd.DataFrame(columns=factor_ret_m.columns)\n",
    "c.loc['c', :] = np.nan\n",
    "\n",
    "for factor in factor_ret_m.columns:\n",
    "    def obj_func(c):\n",
    "        vol_timed = (c / variance[factor]).shift(1) * factor_ret_m[factor]\n",
    "        return (vol_timed.std() - factor_ret_m.iloc[1:,][factor].std())**2\n",
    "\n",
    "    res = minimize(obj_func, 0.1)\n",
    "    c.loc['c', factor] = res.x[0]"
   ]
  },
  {
   "cell_type": "markdown",
   "id": "5132f91a",
   "metadata": {
    "papermill": {
     "duration": 0.001324,
     "end_time": "2025-02-21T13:17:02.913653",
     "exception": false,
     "start_time": "2025-02-21T13:17:02.912329",
     "status": "completed"
    },
    "tags": []
   },
   "source": [
    "The volatility-timed factors are then defined as:\n",
    "\n",
    "$$r_{k,t+1}^\\sigma=\\frac{c}{\\sigma^2_{k,t}} r_{k,t+1}$$"
   ]
  },
  {
   "cell_type": "code",
   "execution_count": 5,
   "id": "4a04c11b",
   "metadata": {
    "execution": {
     "iopub.execute_input": "2025-02-21T13:17:02.917076Z",
     "iopub.status.busy": "2025-02-21T13:17:02.916958Z",
     "iopub.status.idle": "2025-02-21T13:17:02.921124Z",
     "shell.execute_reply": "2025-02-21T13:17:02.920883Z"
    },
    "papermill": {
     "duration": 0.006641,
     "end_time": "2025-02-21T13:17:02.921796",
     "exception": false,
     "start_time": "2025-02-21T13:17:02.915155",
     "status": "completed"
    },
    "tags": []
   },
   "outputs": [
    {
     "name": "stdout",
     "output_type": "stream",
     "text": [
      "SMB    0\n",
      "HML    0\n",
      "UMD    0\n",
      "EW     0\n",
      "VW     0\n",
      "BAB    0\n",
      "dtype: int64\n",
      "SMB   -0.0000\n",
      "HML   -0.0000\n",
      "UMD   -0.0000\n",
      "EW    -0.0000\n",
      "VW    -0.0000\n",
      "BAB   -0.0000\n",
      "dtype: object\n"
     ]
    }
   ],
   "source": [
    "### Getting the volatility timed returns\n",
    "volatility_timed_factors = (c.loc['c',] / variance).shift(1) * factor_ret_m\n",
    "\n",
    "### Since we are shifting the returns, we will lose the first row, so we will drop it from all data\n",
    "volatility_timed_factors = volatility_timed_factors.dropna()\n",
    "factor_ret_m = factor_ret_m.loc[volatility_timed_factors.index]\n",
    "rf = rf.loc[volatility_timed_factors.index]\n",
    "\n",
    "### Looking if we have any NaN\n",
    "print(volatility_timed_factors.isna().sum())\n",
    "\n",
    "### Checking that the volatility timed factors have the same volatility as the original factors\n",
    "print(volatility_timed_factors.std() - factor_ret_m.std())"
   ]
  },
  {
   "cell_type": "markdown",
   "id": "cfcaf3b7",
   "metadata": {},
   "source": [
    "Now, we construct new dataframes that incorporate both the volatility-timed factor and the original factor. We then apply mean-variance optimization, utilizing the past five years of data to determine the optimal weights for both returns and a risk-free asset. \n",
    "\n",
    "Since we are working with excess returns, the excess return on the risk-free asset is $0\\%$. In accordance with the referenced paper, we set $\\gamma = 5$, although the choice of $\\gamma$ does not impact the Sharpe ratios significantly. \n",
    "\n",
    "To ensure more realistic results, we impose a no-short-selling constraint. Given that the factors are correlated, allowing short selling could lead the optimization to exploit an apparent \"arbitrage\" opportunity, resulting in unrealistic weight allocations.\n"
   ]
  },
  {
   "cell_type": "code",
   "execution_count": 6,
   "id": "be41316a",
   "metadata": {
    "execution": {
     "iopub.execute_input": "2025-02-21T13:17:02.932546Z",
     "iopub.status.busy": "2025-02-21T13:17:02.932425Z",
     "iopub.status.idle": "2025-02-21T13:17:02.937281Z",
     "shell.execute_reply": "2025-02-21T13:17:02.937054Z"
    },
    "papermill": {
     "duration": 0.007527,
     "end_time": "2025-02-21T13:17:02.937949",
     "exception": false,
     "start_time": "2025-02-21T13:17:02.930422",
     "status": "completed"
    },
    "tags": []
   },
   "outputs": [
    {
     "data": {
      "text/html": [
       "<div>\n",
       "<style scoped>\n",
       "    .dataframe tbody tr th:only-of-type {\n",
       "        vertical-align: middle;\n",
       "    }\n",
       "\n",
       "    .dataframe tbody tr th {\n",
       "        vertical-align: top;\n",
       "    }\n",
       "\n",
       "    .dataframe thead th {\n",
       "        text-align: right;\n",
       "    }\n",
       "</style>\n",
       "<table border=\"1\" class=\"dataframe\">\n",
       "  <thead>\n",
       "    <tr style=\"text-align: right;\">\n",
       "      <th></th>\n",
       "      <th>SMB</th>\n",
       "      <th>HML</th>\n",
       "      <th>UMD</th>\n",
       "      <th>EW</th>\n",
       "      <th>VW</th>\n",
       "      <th>BAB</th>\n",
       "    </tr>\n",
       "  </thead>\n",
       "  <tbody>\n",
       "    <tr>\n",
       "      <th>Orginal</th>\n",
       "      <td>0.8157</td>\n",
       "      <td>0.3184</td>\n",
       "      <td>1.0066</td>\n",
       "      <td>0.4095</td>\n",
       "      <td>0.8278</td>\n",
       "      <td>0.8119</td>\n",
       "    </tr>\n",
       "    <tr>\n",
       "      <th>Volatility Managed Factor</th>\n",
       "      <td>0.7984</td>\n",
       "      <td>0.2277</td>\n",
       "      <td>1.2638</td>\n",
       "      <td>0.4669</td>\n",
       "      <td>0.8500</td>\n",
       "      <td>0.4282</td>\n",
       "    </tr>\n",
       "    <tr>\n",
       "      <th>Volatility Managed Factor Portfolio In-Sample</th>\n",
       "      <td>1.0150</td>\n",
       "      <td>0.2693</td>\n",
       "      <td>1.4745</td>\n",
       "      <td>0.6404</td>\n",
       "      <td>1.0166</td>\n",
       "      <td>0.9193</td>\n",
       "    </tr>\n",
       "    <tr>\n",
       "      <th>Volatility Managed Factor Portfolio Out-of-Sample</th>\n",
       "      <td>0.9558</td>\n",
       "      <td>0.1350</td>\n",
       "      <td>1.4334</td>\n",
       "      <td>0.5652</td>\n",
       "      <td>0.9225</td>\n",
       "      <td>0.8709</td>\n",
       "    </tr>\n",
       "  </tbody>\n",
       "</table>\n",
       "</div>"
      ],
      "text/plain": [
       "                                                     SMB    HML    UMD     EW  \\\n",
       "Orginal                                           0.8157 0.3184 1.0066 0.4095   \n",
       "Volatility Managed Factor                         0.7984 0.2277 1.2638 0.4669   \n",
       "Volatility Managed Factor Portfolio In-Sample     1.0150 0.2693 1.4745 0.6404   \n",
       "Volatility Managed Factor Portfolio Out-of-Sample 0.9558 0.1350 1.4334 0.5652   \n",
       "\n",
       "                                                      VW    BAB  \n",
       "Orginal                                           0.8278 0.8119  \n",
       "Volatility Managed Factor                         0.8500 0.4282  \n",
       "Volatility Managed Factor Portfolio In-Sample     1.0166 0.9193  \n",
       "Volatility Managed Factor Portfolio Out-of-Sample 0.9225 0.8709  "
      ]
     },
     "execution_count": 6,
     "metadata": {},
     "output_type": "execute_result"
    }
   ],
   "source": [
    "### Creating a dataframe for each factor with the normal and volatility timed returns\n",
    "factor_dataframes = {}\n",
    "for factor in factor_ret_m.columns:\n",
    "    factor_df = pd.DataFrame(columns=['Normal', 'Volatility Timed'], index=factor_ret_m.index)\n",
    "    factor_df['Normal'] = factor_ret_m[factor]\n",
    "    factor_df['Volatility Timed'] = volatility_timed_factors[factor]\n",
    "    factor_dataframes[factor] = factor_df.astype(float)\n",
    "\n",
    "# Create an empty DataFrame to store in-sample volatility managed factor portfolio returns\n",
    "w = 120  # Window size for rolling calculation\n",
    "volatility_managed_factor_ptf_insample = pd.DataFrame(columns=factor_ret_m.columns, index=factor_ret_m.index).iloc[w:,]\n",
    "volatility_managed_factor_ptf_outofsample = pd.DataFrame(columns=factor_ret_m.columns, index=factor_ret_m.index).iloc[w:,]\n",
    "\n",
    "# Loop through each factor to calculate in-sample volatility managed returns\n",
    "for factor in factor_ret_m.columns:\n",
    "    dates = factor_dataframes[factor].index\n",
    "    for i in range(w, len(factor_dataframes[factor])):\n",
    "        # Get the returns for the past 'w' months\n",
    "        ret = factor_dataframes[factor].loc[dates[i-w]:dates[i-1]]\n",
    "\n",
    "        # Getting the weights\n",
    "        weight = ptf_weights(ret, negative=False, type = \"MVP\", gamma = 5)\n",
    "\n",
    "        # Calculate the portfolio weights and apply them to the current month's returns\n",
    "        volatility_managed_factor_ptf_insample.loc[dates[i], factor] = (weight * factor_dataframes[factor].loc[dates[i-1]].values).sum()\n",
    "        volatility_managed_factor_ptf_outofsample.loc[dates[i], factor] = (weight * factor_dataframes[factor].loc[dates[i]].values).sum()\n",
    "\n",
    "### Replacing the NaN values with 0 since we have some months where we only invest in the risk-free rate\n",
    "volatility_managed_factor_ptf_insample = volatility_managed_factor_ptf_insample.fillna(0)\n",
    "volatility_managed_factor_ptf_outofsample = volatility_managed_factor_ptf_outofsample.fillna(0)\n",
    "\n",
    "### Getting the sharpes ratios\n",
    "SR = pd.DataFrame(columns=factor_ret_m.columns)\n",
    "SR.loc['Orginal', :] = sharpes_ratio(factor_ret_m)\n",
    "SR.loc['Volatility Managed Factor', :] = sharpes_ratio(volatility_timed_factors)\n",
    "SR.loc['Volatility Managed Factor Portfolio In-Sample', :] = sharpes_ratio(volatility_managed_factor_ptf_insample)\n",
    "SR.loc['Volatility Managed Factor Portfolio Out-of-Sample', :] = sharpes_ratio(volatility_managed_factor_ptf_outofsample)\n",
    "SR"
   ]
  },
  {
   "cell_type": "markdown",
   "id": "a23ebe4d",
   "metadata": {},
   "source": [
    "Next, we compute the p-values for the Sharpe ratios to determine the proportion of times, out of $n_{\\text{boot}}$ simulations, that the Sharpe ratio exceeds that of the original factor. \n",
    "\n",
    "To account for potential trends in the data, we employ stationary bootstrapping in our resampling procedure.\n"
   ]
  },
  {
   "cell_type": "code",
   "execution_count": 7,
   "id": "d4d607b6",
   "metadata": {
    "execution": {
     "iopub.execute_input": "2025-02-21T13:17:09.289306Z",
     "iopub.status.busy": "2025-02-21T13:17:09.289173Z",
     "iopub.status.idle": "2025-02-21T13:17:09.297994Z",
     "shell.execute_reply": "2025-02-21T13:17:09.297725Z"
    },
    "papermill": {
     "duration": 0.011679,
     "end_time": "2025-02-21T13:17:09.299062",
     "exception": false,
     "start_time": "2025-02-21T13:17:09.287383",
     "status": "completed"
    },
    "tags": []
   },
   "outputs": [
    {
     "data": {
      "text/html": [
       "<div>\n",
       "<style scoped>\n",
       "    .dataframe tbody tr th:only-of-type {\n",
       "        vertical-align: middle;\n",
       "    }\n",
       "\n",
       "    .dataframe tbody tr th {\n",
       "        vertical-align: top;\n",
       "    }\n",
       "\n",
       "    .dataframe thead th {\n",
       "        text-align: right;\n",
       "    }\n",
       "</style>\n",
       "<table border=\"1\" class=\"dataframe\">\n",
       "  <thead>\n",
       "    <tr style=\"text-align: right;\">\n",
       "      <th></th>\n",
       "      <th>SMB</th>\n",
       "      <th>HML</th>\n",
       "      <th>UMD</th>\n",
       "      <th>EW</th>\n",
       "      <th>VW</th>\n",
       "      <th>BAB</th>\n",
       "    </tr>\n",
       "  </thead>\n",
       "  <tbody>\n",
       "    <tr>\n",
       "      <th>Individual</th>\n",
       "      <td>0.6072</td>\n",
       "      <td>0.8787</td>\n",
       "      <td>0.0183</td>\n",
       "      <td>0.3289</td>\n",
       "      <td>0.4465</td>\n",
       "      <td>0.8686</td>\n",
       "    </tr>\n",
       "    <tr>\n",
       "      <th>In-Sample</th>\n",
       "      <td>0.3136</td>\n",
       "      <td>0.4161</td>\n",
       "      <td>0.0236</td>\n",
       "      <td>0.3198</td>\n",
       "      <td>0.3879</td>\n",
       "      <td>0.5135</td>\n",
       "    </tr>\n",
       "    <tr>\n",
       "      <th>Out-of-Sample</th>\n",
       "      <td>0.4892</td>\n",
       "      <td>0.9563</td>\n",
       "      <td>0.0054</td>\n",
       "      <td>0.5185</td>\n",
       "      <td>0.7699</td>\n",
       "      <td>0.6918</td>\n",
       "    </tr>\n",
       "  </tbody>\n",
       "</table>\n",
       "</div>"
      ],
      "text/plain": [
       "                 SMB    HML    UMD     EW     VW    BAB\n",
       "Individual    0.6072 0.8787 0.0183 0.3289 0.4465 0.8686\n",
       "In-Sample     0.3136 0.4161 0.0236 0.3198 0.3879 0.5135\n",
       "Out-of-Sample 0.4892 0.9563 0.0054 0.5185 0.7699 0.6918"
      ]
     },
     "execution_count": 7,
     "metadata": {},
     "output_type": "execute_result"
    }
   ],
   "source": [
    "### Creating a dataframe for each factor with the normal and volatility managed returns\n",
    "factor_returns = {}\n",
    "factor_returns_outofsample = {}\n",
    "factor_returns_insample = {}\n",
    "\n",
    "for factor in factor_ret_m.columns:\n",
    "    df = pd.DataFrame(columns=['Normal', 'Volatility Managed'], index=factor_ret_m.index)\n",
    "    df['Normal'] = factor_ret_m[factor]\n",
    "    df['Volatility Managed'] = volatility_managed_factor_ptf_outofsample[factor]\n",
    "    factor_returns_outofsample[factor] = df.dropna()\n",
    "\n",
    "    df = df.drop(['Volatility Managed'], axis=1)\n",
    "    df['Volatility Managed'] = volatility_managed_factor_ptf_insample[factor]\n",
    "    factor_returns_insample[factor] = df.dropna()\n",
    "\n",
    "    df = df.drop(['Volatility Managed'], axis=1)\n",
    "    df['Volatility Managed'] = volatility_timed_factors[factor]\n",
    "    factor_returns[factor] = df.dropna()\n",
    "\n",
    "### Getting the p-values\n",
    "p_values = pd.DataFrame(columns=factor_ret_m.columns, index=['Individual','In-Sample', 'Out-of-Sample'])\n",
    "n_boot = 100000\n",
    "\n",
    "for factor in factor_ret_m.columns:\n",
    "\n",
    "    ### Getting the p-values for the individual factors\n",
    "    SR_diff = []\n",
    "    ret = factor_returns[factor].astype(float).dropna()\n",
    "    for i in range(n_boot):\n",
    "        boot = stationary_bootstrap_multivariate(np.array(ret), 5, len(ret))\n",
    "        SR_diff.append((sharpes_ratio(boot[:,1]) - sharpes_ratio(boot[:,0])))\n",
    "    p_values.loc['Individual', factor] = (np.sum(np.array(SR_diff) < 0) / len(SR_diff))\n",
    "\n",
    "    ### Getting the p-values for the in-sample volatility managed factors\n",
    "    SR_diff = []\n",
    "    ret = factor_returns_insample[factor].astype(float).dropna()\n",
    "    for i in range(n_boot):\n",
    "        boot = stationary_bootstrap_multivariate(np.array(ret), 5, len(ret))\n",
    "        SR_diff.append((sharpes_ratio(boot[:,1]) - sharpes_ratio(boot[:,0])))\n",
    "    p_values.loc['In-Sample', factor] = (np.sum(np.array(SR_diff) < 0) / len(SR_diff))\n",
    "    \n",
    "    ### Getting the p-values for the out-of-sample volatility managed factors\n",
    "    SR_diff = []\n",
    "    ret = factor_returns_outofsample[factor].astype(float).dropna()\n",
    "    for i in range(n_boot):\n",
    "        boot = stationary_bootstrap_multivariate(np.array(ret), 5, len(ret))\n",
    "        SR_diff.append((sharpes_ratio(boot[:,1]) - sharpes_ratio(boot[:,0])))\n",
    "    p_values.loc['Out-of-Sample', factor] = (np.sum(np.array(SR_diff) < 0) / len(SR_diff))\n",
    "\n",
    "### Looking at the p-values\n",
    "p_values"
   ]
  },
  {
   "cell_type": "code",
   "execution_count": 8,
   "id": "7e6700c7",
   "metadata": {
    "execution": {
     "iopub.execute_input": "2025-02-21T13:17:25.937288Z",
     "iopub.status.busy": "2025-02-21T13:17:25.937166Z",
     "iopub.status.idle": "2025-02-21T13:17:25.948694Z",
     "shell.execute_reply": "2025-02-21T13:17:25.948453Z"
    },
    "papermill": {
     "duration": 0.014512,
     "end_time": "2025-02-21T13:17:25.949437",
     "exception": false,
     "start_time": "2025-02-21T13:17:25.934925",
     "status": "completed"
    },
    "tags": []
   },
   "outputs": [
    {
     "data": {
      "text/html": [
       "<div>\n",
       "<style scoped>\n",
       "    .dataframe tbody tr th:only-of-type {\n",
       "        vertical-align: middle;\n",
       "    }\n",
       "\n",
       "    .dataframe tbody tr th {\n",
       "        vertical-align: top;\n",
       "    }\n",
       "\n",
       "    .dataframe thead th {\n",
       "        text-align: right;\n",
       "    }\n",
       "</style>\n",
       "<table border=\"1\" class=\"dataframe\">\n",
       "  <thead>\n",
       "    <tr style=\"text-align: right;\">\n",
       "      <th></th>\n",
       "      <th>SMB</th>\n",
       "      <th>HML</th>\n",
       "      <th>UMD</th>\n",
       "      <th>EW</th>\n",
       "      <th>VW</th>\n",
       "      <th>BAB</th>\n",
       "    </tr>\n",
       "  </thead>\n",
       "  <tbody>\n",
       "    <tr>\n",
       "      <th>SR($r_k$)</th>\n",
       "      <td>0.8157</td>\n",
       "      <td>0.3184</td>\n",
       "      <td>1.0066</td>\n",
       "      <td>0.4095</td>\n",
       "      <td>0.8278</td>\n",
       "      <td>0.8119</td>\n",
       "    </tr>\n",
       "    <tr>\n",
       "      <th>SR($r_k^\\sigma$)</th>\n",
       "      <td>0.7984</td>\n",
       "      <td>0.2277</td>\n",
       "      <td>1.2638</td>\n",
       "      <td>0.4669</td>\n",
       "      <td>0.8500</td>\n",
       "      <td>0.4282</td>\n",
       "    </tr>\n",
       "    <tr>\n",
       "      <th>p-value(SR($r_k^\\sigma$) - SR($r_k$))</th>\n",
       "      <td>0.6072</td>\n",
       "      <td>0.8787</td>\n",
       "      <td>0.0183</td>\n",
       "      <td>0.3289</td>\n",
       "      <td>0.4465</td>\n",
       "      <td>0.8686</td>\n",
       "    </tr>\n",
       "    <tr>\n",
       "      <th>SR($r_k$)2</th>\n",
       "      <td>0.8157</td>\n",
       "      <td>0.3184</td>\n",
       "      <td>1.0066</td>\n",
       "      <td>0.4095</td>\n",
       "      <td>0.8278</td>\n",
       "      <td>0.8119</td>\n",
       "    </tr>\n",
       "    <tr>\n",
       "      <th>SR($r_k$, $r_k^\\sigma$)</th>\n",
       "      <td>1.0150</td>\n",
       "      <td>0.2693</td>\n",
       "      <td>1.4745</td>\n",
       "      <td>0.6404</td>\n",
       "      <td>1.0166</td>\n",
       "      <td>0.9193</td>\n",
       "    </tr>\n",
       "    <tr>\n",
       "      <th>p-value(SR($r_k$, $r_k^\\sigma$) - SR($r_k$))2</th>\n",
       "      <td>0.3136</td>\n",
       "      <td>0.4161</td>\n",
       "      <td>0.0236</td>\n",
       "      <td>0.3198</td>\n",
       "      <td>0.3879</td>\n",
       "      <td>0.5135</td>\n",
       "    </tr>\n",
       "    <tr>\n",
       "      <th>SR($r_k$)3</th>\n",
       "      <td>0.8157</td>\n",
       "      <td>0.3184</td>\n",
       "      <td>1.0066</td>\n",
       "      <td>0.4095</td>\n",
       "      <td>0.8278</td>\n",
       "      <td>0.8119</td>\n",
       "    </tr>\n",
       "    <tr>\n",
       "      <th>SR($r_k$, $r_k^\\sigma$)2</th>\n",
       "      <td>0.9558</td>\n",
       "      <td>0.1350</td>\n",
       "      <td>1.4334</td>\n",
       "      <td>0.5652</td>\n",
       "      <td>0.9225</td>\n",
       "      <td>0.8709</td>\n",
       "    </tr>\n",
       "    <tr>\n",
       "      <th>p-value(SR($r_k$, $r_k^\\sigma$) - SR($r_k$))3</th>\n",
       "      <td>0.4892</td>\n",
       "      <td>0.9563</td>\n",
       "      <td>0.0054</td>\n",
       "      <td>0.5185</td>\n",
       "      <td>0.7699</td>\n",
       "      <td>0.6918</td>\n",
       "    </tr>\n",
       "  </tbody>\n",
       "</table>\n",
       "</div>"
      ],
      "text/plain": [
       "                                                 SMB    HML    UMD     EW  \\\n",
       "SR($r_k$)                                     0.8157 0.3184 1.0066 0.4095   \n",
       "SR($r_k^\\sigma$)                              0.7984 0.2277 1.2638 0.4669   \n",
       "p-value(SR($r_k^\\sigma$) - SR($r_k$))         0.6072 0.8787 0.0183 0.3289   \n",
       "SR($r_k$)2                                    0.8157 0.3184 1.0066 0.4095   \n",
       "SR($r_k$, $r_k^\\sigma$)                       1.0150 0.2693 1.4745 0.6404   \n",
       "p-value(SR($r_k$, $r_k^\\sigma$) - SR($r_k$))2 0.3136 0.4161 0.0236 0.3198   \n",
       "SR($r_k$)3                                    0.8157 0.3184 1.0066 0.4095   \n",
       "SR($r_k$, $r_k^\\sigma$)2                      0.9558 0.1350 1.4334 0.5652   \n",
       "p-value(SR($r_k$, $r_k^\\sigma$) - SR($r_k$))3 0.4892 0.9563 0.0054 0.5185   \n",
       "\n",
       "                                                  VW    BAB  \n",
       "SR($r_k$)                                     0.8278 0.8119  \n",
       "SR($r_k^\\sigma$)                              0.8500 0.4282  \n",
       "p-value(SR($r_k^\\sigma$) - SR($r_k$))         0.4465 0.8686  \n",
       "SR($r_k$)2                                    0.8278 0.8119  \n",
       "SR($r_k$, $r_k^\\sigma$)                       1.0166 0.9193  \n",
       "p-value(SR($r_k$, $r_k^\\sigma$) - SR($r_k$))2 0.3879 0.5135  \n",
       "SR($r_k$)3                                    0.8278 0.8119  \n",
       "SR($r_k$, $r_k^\\sigma$)2                      0.9225 0.8709  \n",
       "p-value(SR($r_k$, $r_k^\\sigma$) - SR($r_k$))3 0.7699 0.6918  "
      ]
     },
     "execution_count": 8,
     "metadata": {},
     "output_type": "execute_result"
    }
   ],
   "source": [
    "### Creating latex table\n",
    "latex = pd.DataFrame(columns=factor_ret_m.columns)\n",
    "\n",
    "latex.loc['SR($r_k$)', :] = sharpes_ratio(factor_ret_m)\n",
    "latex.loc['SR($r_k^\\sigma$)', :] = sharpes_ratio(volatility_timed_factors)\n",
    "latex.loc['p-value(SR($r_k^\\sigma$) - SR($r_k$))', :] = p_values.loc['Individual', :]\n",
    "\n",
    "latex.loc['SR($r_k$)2', :] = sharpes_ratio(factor_ret_m)\n",
    "latex.loc['SR($r_k$, $r_k^\\sigma$)', :] = sharpes_ratio(volatility_managed_factor_ptf_insample)\n",
    "latex.loc['p-value(SR($r_k$, $r_k^\\sigma$) - SR($r_k$))2', :] = p_values.loc['In-Sample', :]\n",
    "\n",
    "latex.loc['SR($r_k$)3', :] = sharpes_ratio(factor_ret_m)\n",
    "latex.loc['SR($r_k$, $r_k^\\sigma$)2', :] = sharpes_ratio(volatility_managed_factor_ptf_outofsample)\n",
    "latex.loc['p-value(SR($r_k$, $r_k^\\sigma$) - SR($r_k$))3', :] = p_values.loc['Out-of-Sample', :]\n",
    "\n",
    "latex"
   ]
  },
  {
   "cell_type": "code",
   "execution_count": 9,
   "id": "801c0f92",
   "metadata": {
    "execution": {
     "iopub.execute_input": "2025-02-21T13:17:25.953180Z",
     "iopub.status.busy": "2025-02-21T13:17:25.953073Z",
     "iopub.status.idle": "2025-02-21T13:17:25.994344Z",
     "shell.execute_reply": "2025-02-21T13:17:25.994089Z"
    },
    "papermill": {
     "duration": 0.043946,
     "end_time": "2025-02-21T13:17:25.995130",
     "exception": false,
     "start_time": "2025-02-21T13:17:25.951184",
     "status": "completed"
    },
    "tags": []
   },
   "outputs": [
    {
     "name": "stdout",
     "output_type": "stream",
     "text": [
      "\\begin{tabular}{lllllll}\n",
      "\\toprule\n",
      " & SMB & HML & UMD & EW & VW & BAB \\\\\n",
      "\\midrule\n",
      "SR($r_k$) & 0.816 & 0.318 & 1.007 & 0.409 & 0.828 & 0.812 \\\\\n",
      "SR($r_k^\\sigma$) & 0.798 & 0.228 & 1.264 & 0.467 & 0.850 & 0.428 \\\\\n",
      "p-value(SR($r_k^\\sigma$) - SR($r_k$)) & 0.607 & 0.879 & 0.018 & 0.329 & 0.447 & 0.869 \\\\\n",
      "SR($r_k$)2 & 0.816 & 0.318 & 1.007 & 0.409 & 0.828 & 0.812 \\\\\n",
      "SR($r_k$, $r_k^\\sigma$) & 1.015 & 0.269 & 1.475 & 0.640 & 1.017 & 0.919 \\\\\n",
      "p-value(SR($r_k$, $r_k^\\sigma$) - SR($r_k$))2 & 0.314 & 0.416 & 0.024 & 0.320 & 0.388 & 0.514 \\\\\n",
      "SR($r_k$)3 & 0.816 & 0.318 & 1.007 & 0.409 & 0.828 & 0.812 \\\\\n",
      "SR($r_k$, $r_k^\\sigma$)2 & 0.956 & 0.135 & 1.433 & 0.565 & 0.923 & 0.871 \\\\\n",
      "p-value(SR($r_k$, $r_k^\\sigma$) - SR($r_k$))3 & 0.489 & 0.956 & 0.005 & 0.518 & 0.770 & 0.692 \\\\\n",
      "\\bottomrule\n",
      "\\end{tabular}\n",
      "\n"
     ]
    }
   ],
   "source": [
    "print(latex.to_latex(float_format=\"%.3f\"))"
   ]
  },
  {
   "cell_type": "code",
   "execution_count": 10,
   "id": "8e675235",
   "metadata": {
    "execution": {
     "iopub.execute_input": "2025-02-21T13:17:26.007947Z",
     "iopub.status.busy": "2025-02-21T13:17:26.007801Z",
     "iopub.status.idle": "2025-02-21T13:17:26.027826Z",
     "shell.execute_reply": "2025-02-21T13:17:26.027579Z"
    },
    "papermill": {
     "duration": 0.023211,
     "end_time": "2025-02-21T13:17:26.028566",
     "exception": false,
     "start_time": "2025-02-21T13:17:26.005355",
     "status": "completed"
    },
    "tags": []
   },
   "outputs": [],
   "source": [
    "### Storing the data\n",
    "conn = sqlite3.connect('Data/data.db')\n",
    "\n",
    "volatility.to_sql('volatility', conn, if_exists='replace')\n",
    "variance.to_sql('variance', conn, if_exists='replace')\n",
    "volatility_timed_factors.to_sql('volatility_timed_factors', conn, if_exists='replace')\n",
    "volatility_managed_factor_ptf_insample.to_sql('volatility_managed_factor_ptf_insample', conn, if_exists='replace')\n",
    "volatility_managed_factor_ptf_outofsample.to_sql('volatility_managed_factor_ptf_outofsample', conn, if_exists='replace')\n",
    "\n",
    "conn.close()"
   ]
  }
 ],
 "metadata": {
  "kernelspec": {
   "display_name": "Python 3",
   "language": "python",
   "name": "python3"
  },
  "language_info": {
   "codemirror_mode": {
    "name": "ipython",
    "version": 3
   },
   "file_extension": ".py",
   "mimetype": "text/x-python",
   "name": "python",
   "nbconvert_exporter": "python",
   "pygments_lexer": "ipython3",
   "version": "3.13.1"
  },
  "papermill": {
   "default_parameters": {},
   "duration": 26.565533,
   "end_time": "2025-02-21T13:17:26.453442",
   "environment_variables": {},
   "exception": null,
   "input_path": "12_volatility_managed_factors.ipynb",
   "output_path": "12_volatility_managed_factors.ipynb",
   "parameters": {},
   "start_time": "2025-02-21T13:16:59.887909",
   "version": "2.6.0"
  }
 },
 "nbformat": 4,
 "nbformat_minor": 5
}
