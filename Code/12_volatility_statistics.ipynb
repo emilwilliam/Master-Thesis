{
 "cells": [
  {
   "cell_type": "code",
   "execution_count": 1,
   "id": "a28c73d4",
   "metadata": {
    "execution": {
     "iopub.execute_input": "2025-03-19T10:55:48.158166Z",
     "iopub.status.busy": "2025-03-19T10:55:48.157779Z",
     "iopub.status.idle": "2025-03-19T10:55:48.633417Z",
     "shell.execute_reply": "2025-03-19T10:55:48.633136Z"
    },
    "papermill": {
     "duration": 0.483828,
     "end_time": "2025-03-19T10:55:48.634298",
     "exception": false,
     "start_time": "2025-03-19T10:55:48.150470",
     "status": "completed"
    },
    "tags": []
   },
   "outputs": [],
   "source": [
    "### Installing the required packages if not already installed\n",
    "packages = ['numpy', 'pandas', 'warnings', 'sqlite3', 'sqlite3']\n",
    "\n",
    "for package in packages:\n",
    "    try:\n",
    "        __import__(package)\n",
    "    except ImportError:\n",
    "        %pip install {package}\n",
    "\n",
    "import numpy as np    # For numerical computing\n",
    "import pandas as pd   # For data manipulation\n",
    "import sqlite3        # For connecting to SQL database\n",
    "import matplotlib.pyplot as plt\n",
    "import os\n",
    "\n",
    "### Ignoring the warnings\n",
    "import warnings\n",
    "warnings.filterwarnings('ignore')\n",
    "\n",
    "### Setting working directory\n",
    "os.chdir('/Users/emilwilliamhansen/Desktop/Master-Thesis/Code')"
   ]
  },
  {
   "cell_type": "code",
   "execution_count": 2,
   "id": "aa25f839",
   "metadata": {
    "execution": {
     "iopub.execute_input": "2025-03-19T10:55:48.637587Z",
     "iopub.status.busy": "2025-03-19T10:55:48.637422Z",
     "iopub.status.idle": "2025-03-19T10:55:48.699359Z",
     "shell.execute_reply": "2025-03-19T10:55:48.699088Z"
    },
    "papermill": {
     "duration": 0.06436,
     "end_time": "2025-03-19T10:55:48.700159",
     "exception": false,
     "start_time": "2025-03-19T10:55:48.635799",
     "status": "completed"
    },
    "tags": []
   },
   "outputs": [],
   "source": [
    "### Extracting the data from the database\n",
    "conn = sqlite3.connect('Data/data.db')\n",
    "\n",
    "factor_ret_m = pd.read_sql('SELECT * FROM factors_monthly', conn).set_index('Date').drop(columns='rf')\n",
    "factor_ret_d = pd.read_sql('SELECT * FROM factors_daily', conn).set_index('Date').drop(columns='rf')\n",
    "volatility = pd.read_sql('SELECT * FROM volatility', conn).set_index('Date')\n",
    "variance = pd.read_sql('SELECT * FROM variance', conn).set_index('Date')\n",
    "volatility_timed_factors = pd.read_sql('SELECT * FROM volatility_timed_factors', conn).set_index('Date')\n",
    "volatility_managed_factor_ptf_insample = pd.read_sql('SELECT * FROM volatility_managed_factor_ptf_insample', conn).set_index('Date').dropna()\n",
    "volatility_managed_factor_ptf_outofsample = pd.read_sql('SELECT * FROM volatility_managed_factor_ptf_outofsample', conn).set_index('Date').dropna()\n",
    "\n",
    "conn.close()\n",
    "\n",
    "### Fixing the date format\n",
    "factor_ret_m.index = pd.to_datetime(factor_ret_m.index)\n",
    "factor_ret_d.index = pd.to_datetime(factor_ret_d.index)\n",
    "volatility.index = pd.to_datetime(volatility.index)\n",
    "variance.index = pd.to_datetime(variance.index)\n",
    "volatility_timed_factors.index = pd.to_datetime(volatility_timed_factors.index)\n",
    "volatility_managed_factor_ptf_insample.index = pd.to_datetime(volatility_managed_factor_ptf_insample.index)\n",
    "volatility_managed_factor_ptf_outofsample.index = pd.to_datetime(volatility_managed_factor_ptf_outofsample.index)\n",
    "\n",
    "### Restricting data to after 1983-02\n",
    "factor_ret_m = factor_ret_m.loc['1993-02':]\n",
    "factor_ret_d = factor_ret_d.loc['1993-02':]\n",
    "volatility = volatility.loc['1993-02':]\n",
    "variance = variance.loc['1993-02':]\n",
    "volatility_timed_factors = volatility_timed_factors.loc['1993-02':]\n",
    "volatility_managed_factor_ptf_insample = volatility_managed_factor_ptf_insample.loc['1993-02':]\n",
    "volatility_managed_factor_ptf_outofsample = volatility_managed_factor_ptf_outofsample.loc['1993-02':]"
   ]
  },
  {
   "cell_type": "markdown",
   "id": "0519702a",
   "metadata": {
    "papermill": {
     "duration": 0.000942,
     "end_time": "2025-03-19T10:55:48.702186",
     "exception": false,
     "start_time": "2025-03-19T10:55:48.701244",
     "status": "completed"
    },
    "tags": []
   },
   "source": [
    "**Information**\n",
    "\n",
    "In this section of the code, we will sort the returns into terciles based on the volatility in $t-1$. Our goal is to try to see if the $\\sigma_{t-1}$ changes the risk-adjusted relationship. We will first use the market volatility, then look at the individual factor volatility."
   ]
  },
  {
   "cell_type": "markdown",
   "id": "5d1cdfa9",
   "metadata": {
    "papermill": {
     "duration": 0.000896,
     "end_time": "2025-03-19T10:55:48.704006",
     "exception": false,
     "start_time": "2025-03-19T10:55:48.703110",
     "status": "completed"
    },
    "tags": []
   },
   "source": [
    "# Market volatility"
   ]
  },
  {
   "cell_type": "code",
   "execution_count": 3,
   "id": "1ca60b03",
   "metadata": {
    "execution": {
     "iopub.execute_input": "2025-03-19T10:55:48.706173Z",
     "iopub.status.busy": "2025-03-19T10:55:48.706061Z",
     "iopub.status.idle": "2025-03-19T10:55:49.775698Z",
     "shell.execute_reply": "2025-03-19T10:55:49.775420Z"
    },
    "papermill": {
     "duration": 1.071762,
     "end_time": "2025-03-19T10:55:49.776604",
     "exception": false,
     "start_time": "2025-03-19T10:55:48.704842",
     "status": "completed"
    },
    "tags": []
   },
   "outputs": [],
   "source": [
    "### Categorising market vol as low, medium, high\n",
    "terciles = volatility['VW'].quantile([1/3, 2/3])\n",
    "market_vol = pd.cut(volatility['VW'], bins=[-np.inf, terciles.iloc[0], terciles.iloc[1], np.inf], labels=['low', 'medium', 'high']).shift(1)\n",
    "\n",
    "### Gettting the factor returns and sharpe ratios for each category\n",
    "low_ret = pd.DataFrame(index=factor_ret_m.index, columns=factor_ret_m.columns)\n",
    "medium_ret = low_ret.copy()\n",
    "high_ret = low_ret.copy()\n",
    "low_sharpe = low_ret.copy()\n",
    "medium_sharpe = low_ret.copy()\n",
    "high_sharpe = low_ret.copy()\n",
    "\n",
    "### Running a loop\n",
    "for factor in factor_ret_m.columns:\n",
    "    for date in factor_ret_m.index:\n",
    "        short_date = date.strftime('%Y-%m')\n",
    "        if market_vol.loc[date] == 'low':\n",
    "            low_ret.loc[date, factor] = factor_ret_d.loc[short_date, factor].mean() * 252\n",
    "            low_sharpe.loc[date, factor] = factor_ret_d.loc[short_date, factor].mean() / factor_ret_d.loc[short_date, factor].std() * np.sqrt(252)\n",
    "        elif market_vol.loc[date] == 'medium':\n",
    "            medium_ret.loc[date, factor] = factor_ret_d.loc[short_date, factor].mean() * 252\n",
    "            medium_sharpe.loc[date, factor] = factor_ret_d.loc[short_date, factor].mean() / factor_ret_d.loc[short_date, factor].std() * np.sqrt(252)\n",
    "        else:\n",
    "            high_ret.loc[date, factor] = factor_ret_d.loc[short_date, factor].mean() * 252\n",
    "            high_sharpe.loc[date, factor] = factor_ret_d.loc[short_date, factor].mean() / factor_ret_d.loc[short_date, factor].std() * np.sqrt(252)"
   ]
  },
  {
   "cell_type": "code",
   "execution_count": 4,
   "id": "58dd959d",
   "metadata": {
    "execution": {
     "iopub.execute_input": "2025-03-19T10:55:49.779923Z",
     "iopub.status.busy": "2025-03-19T10:55:49.779800Z",
     "iopub.status.idle": "2025-03-19T10:55:49.787931Z",
     "shell.execute_reply": "2025-03-19T10:55:49.787701Z"
    },
    "papermill": {
     "duration": 0.010468,
     "end_time": "2025-03-19T10:55:49.788661",
     "exception": false,
     "start_time": "2025-03-19T10:55:49.778193",
     "status": "completed"
    },
    "tags": []
   },
   "outputs": [
    {
     "data": {
      "text/html": [
       "<div>\n",
       "<style scoped>\n",
       "    .dataframe tbody tr th:only-of-type {\n",
       "        vertical-align: middle;\n",
       "    }\n",
       "\n",
       "    .dataframe tbody tr th {\n",
       "        vertical-align: top;\n",
       "    }\n",
       "\n",
       "    .dataframe thead th {\n",
       "        text-align: right;\n",
       "    }\n",
       "</style>\n",
       "<table border=\"1\" class=\"dataframe\">\n",
       "  <thead>\n",
       "    <tr style=\"text-align: right;\">\n",
       "      <th></th>\n",
       "      <th>VW</th>\n",
       "      <th>EW</th>\n",
       "      <th>SMB</th>\n",
       "      <th>HML</th>\n",
       "      <th>UMD</th>\n",
       "      <th>BAB</th>\n",
       "    </tr>\n",
       "  </thead>\n",
       "  <tbody>\n",
       "    <tr>\n",
       "      <th>Low</th>\n",
       "      <td>1.624171</td>\n",
       "      <td>2.046534</td>\n",
       "      <td>0.519266</td>\n",
       "      <td>0.412468</td>\n",
       "      <td>2.023978</td>\n",
       "      <td>2.348401</td>\n",
       "    </tr>\n",
       "    <tr>\n",
       "      <th>Medium</th>\n",
       "      <td>2.243466</td>\n",
       "      <td>2.65373</td>\n",
       "      <td>0.366251</td>\n",
       "      <td>1.187597</td>\n",
       "      <td>0.971789</td>\n",
       "      <td>1.913401</td>\n",
       "    </tr>\n",
       "    <tr>\n",
       "      <th>High</th>\n",
       "      <td>1.723827</td>\n",
       "      <td>2.057697</td>\n",
       "      <td>0.520797</td>\n",
       "      <td>-0.431725</td>\n",
       "      <td>1.161921</td>\n",
       "      <td>1.103002</td>\n",
       "    </tr>\n",
       "  </tbody>\n",
       "</table>\n",
       "</div>"
      ],
      "text/plain": [
       "              VW        EW       SMB       HML       UMD       BAB\n",
       "Low     1.624171  2.046534  0.519266  0.412468  2.023978  2.348401\n",
       "Medium  2.243466   2.65373  0.366251  1.187597  0.971789  1.913401\n",
       "High    1.723827  2.057697  0.520797 -0.431725  1.161921  1.103002"
      ]
     },
     "execution_count": 4,
     "metadata": {},
     "output_type": "execute_result"
    }
   ],
   "source": [
    "### Saving the average returns and sharpe ratios for each category in a dataframe\n",
    "avg_sharpe = pd.DataFrame(index=['Low', 'Medium', 'High'], columns=factor_ret_m.columns)\n",
    "avg_ret = avg_sharpe.copy()\n",
    "\n",
    "for factor in factor_ret_m.columns:\n",
    "    avg_sharpe.loc['Low', factor] = low_sharpe[factor].mean()\n",
    "    avg_sharpe.loc['Medium', factor] = medium_sharpe[factor].mean()\n",
    "    avg_sharpe.loc['High', factor] = high_sharpe[factor].mean()\n",
    "    \n",
    "    avg_ret.loc['Low', factor] = low_ret[factor].mean()\n",
    "    avg_ret.loc['Medium', factor] = medium_ret[factor].mean()\n",
    "    avg_ret.loc['High', factor] = high_ret[factor].mean()\n",
    "\n",
    "avg_sharpe"
   ]
  },
  {
   "cell_type": "code",
   "execution_count": 5,
   "id": "efb899bb",
   "metadata": {
    "execution": {
     "iopub.execute_input": "2025-03-19T10:55:49.791398Z",
     "iopub.status.busy": "2025-03-19T10:55:49.791296Z",
     "iopub.status.idle": "2025-03-19T10:55:49.932161Z",
     "shell.execute_reply": "2025-03-19T10:55:49.931343Z"
    },
    "papermill": {
     "duration": 0.143189,
     "end_time": "2025-03-19T10:55:49.933077",
     "exception": false,
     "start_time": "2025-03-19T10:55:49.789888",
     "status": "completed"
    },
    "tags": []
   },
   "outputs": [
    {
     "data": {
      "image/png": "[encoded data removed]",
      "text/plain": [
       "<Figure size 1600x800 with 1 Axes>"
      ]
     },
     "metadata": {},
     "output_type": "display_data"
    }
   ],
   "source": [
    "# Plot settings\n",
    "bar_width = 0.18  # Reduced bar width to add gap\n",
    "gap = 0.05  # Gap between bars\n",
    "x = np.arange(len(avg_sharpe.columns))  # Bar positions\n",
    "colors = {'Low': '#2469bc', 'Medium': 'grey', 'High': '#a9373b'}\n",
    "\n",
    "fig, ax = plt.subplots(figsize=(16, 8))\n",
    "\n",
    "# Plot each risk level\n",
    "for i, risk in enumerate(avg_sharpe.index):\n",
    "    ax.bar(x + (i - 1) * (bar_width + gap), avg_sharpe.loc[risk] * 10, width=bar_width, label=f'{risk} market volatility', color=colors[risk])\n",
    "\n",
    "# Labels and legend\n",
    "ax.set_ylabel('Risk-return tradeoff (x10)')\n",
    "ax.set_xticks(x)\n",
    "ax.set_xticklabels(avg_sharpe.columns)\n",
    "ax.legend()\n",
    "\n",
    "# Set y-axis to display only integers\n",
    "ax.yaxis.set_major_locator(plt.MaxNLocator(integer=True))\n",
    "\n",
    "# Set y-axis limits and intervals\n",
    "ax.set_ylim(-5, 30)\n",
    "ax.set_yticks(np.arange(-5, 35, 5))\n",
    "\n",
    "### Saving the plot\n",
    "plt.savefig('Plots/avg_risk-ret_during_diff_marketvol.png')\n",
    "\n",
    "plt.show()"
   ]
  },
  {
   "cell_type": "markdown",
   "id": "57e75b5d",
   "metadata": {
    "papermill": {
     "duration": 0.001991,
     "end_time": "2025-03-19T10:55:49.936965",
     "exception": false,
     "start_time": "2025-03-19T10:55:49.934974",
     "status": "completed"
    },
    "tags": []
   },
   "source": [
    "# Factor volatility"
   ]
  },
  {
   "cell_type": "code",
   "execution_count": 6,
   "id": "6c8dde86",
   "metadata": {
    "execution": {
     "iopub.execute_input": "2025-03-19T10:55:49.940509Z",
     "iopub.status.busy": "2025-03-19T10:55:49.940363Z",
     "iopub.status.idle": "2025-03-19T10:55:51.077090Z",
     "shell.execute_reply": "2025-03-19T10:55:51.076833Z"
    },
    "papermill": {
     "duration": 1.139519,
     "end_time": "2025-03-19T10:55:51.077994",
     "exception": false,
     "start_time": "2025-03-19T10:55:49.938475",
     "status": "completed"
    },
    "tags": []
   },
   "outputs": [
    {
     "data": {
      "text/html": [
       "<div>\n",
       "<style scoped>\n",
       "    .dataframe tbody tr th:only-of-type {\n",
       "        vertical-align: middle;\n",
       "    }\n",
       "\n",
       "    .dataframe tbody tr th {\n",
       "        vertical-align: top;\n",
       "    }\n",
       "\n",
       "    .dataframe thead th {\n",
       "        text-align: right;\n",
       "    }\n",
       "</style>\n",
       "<table border=\"1\" class=\"dataframe\">\n",
       "  <thead>\n",
       "    <tr style=\"text-align: right;\">\n",
       "      <th></th>\n",
       "      <th>VW</th>\n",
       "      <th>EW</th>\n",
       "      <th>SMB</th>\n",
       "      <th>HML</th>\n",
       "      <th>UMD</th>\n",
       "      <th>BAB</th>\n",
       "    </tr>\n",
       "  </thead>\n",
       "  <tbody>\n",
       "    <tr>\n",
       "      <th>Low</th>\n",
       "      <td>1.624171</td>\n",
       "      <td>2.499993</td>\n",
       "      <td>0.055256</td>\n",
       "      <td>0.335465</td>\n",
       "      <td>1.149393</td>\n",
       "      <td>1.666973</td>\n",
       "    </tr>\n",
       "    <tr>\n",
       "      <th>Medium</th>\n",
       "      <td>2.243466</td>\n",
       "      <td>2.052441</td>\n",
       "      <td>0.879106</td>\n",
       "      <td>0.479139</td>\n",
       "      <td>2.09106</td>\n",
       "      <td>1.679504</td>\n",
       "    </tr>\n",
       "    <tr>\n",
       "      <th>High</th>\n",
       "      <td>1.723827</td>\n",
       "      <td>2.203162</td>\n",
       "      <td>0.472734</td>\n",
       "      <td>0.34117</td>\n",
       "      <td>0.928683</td>\n",
       "      <td>2.003682</td>\n",
       "    </tr>\n",
       "  </tbody>\n",
       "</table>\n",
       "</div>"
      ],
      "text/plain": [
       "              VW        EW       SMB       HML       UMD       BAB\n",
       "Low     1.624171  2.499993  0.055256  0.335465  1.149393  1.666973\n",
       "Medium  2.243466  2.052441  0.879106  0.479139   2.09106  1.679504\n",
       "High    1.723827  2.203162  0.472734   0.34117  0.928683  2.003682"
      ]
     },
     "execution_count": 6,
     "metadata": {},
     "output_type": "execute_result"
    }
   ],
   "source": [
    "### Categorising market vol as low, medium, high\n",
    "terciles = volatility.quantile([1/3, 2/3])\n",
    "vol_cat = pd.DataFrame(index=volatility.index, columns=volatility.columns)\n",
    "for factor in factor_ret_m.columns:\n",
    "    vol_cat[factor] = pd.cut(volatility[factor], bins=[-np.inf, terciles[factor].iloc[0], terciles[factor].iloc[1], np.inf], labels=['low', 'medium', 'high']).shift(1)\n",
    "\n",
    "### Gettting the factor returns and sharpe ratios for each category\n",
    "low_ret = pd.DataFrame(index=factor_ret_m.index, columns=factor_ret_m.columns)\n",
    "medium_ret = low_ret.copy()\n",
    "high_ret = low_ret.copy()\n",
    "low_sharpe = low_ret.copy()\n",
    "medium_sharpe = low_ret.copy()\n",
    "high_sharpe = low_ret.copy()\n",
    "\n",
    "### Running a loop\n",
    "for factor in factor_ret_m.columns:\n",
    "    for date in factor_ret_m.index:\n",
    "        short_date = date.strftime('%Y-%m')\n",
    "        if vol_cat.loc[date, factor] == 'low':\n",
    "            low_ret.loc[date, factor] = factor_ret_d.loc[short_date, factor].mean() * 252\n",
    "            low_sharpe.loc[date, factor] = factor_ret_d.loc[short_date, factor].mean() / factor_ret_d.loc[short_date, factor].std() * np.sqrt(252)\n",
    "        elif vol_cat.loc[date, factor] == 'medium':\n",
    "            medium_ret.loc[date, factor] = factor_ret_d.loc[short_date, factor].mean() * 252\n",
    "            medium_sharpe.loc[date, factor] = factor_ret_d.loc[short_date, factor].mean() / factor_ret_d.loc[short_date, factor].std() * np.sqrt(252)\n",
    "        else:\n",
    "            high_ret.loc[date, factor] = factor_ret_d.loc[short_date, factor].mean() * 252\n",
    "            high_sharpe.loc[date, factor] = factor_ret_d.loc[short_date, factor].mean() / factor_ret_d.loc[short_date, factor].std() * np.sqrt(252)\n",
    "\n",
    "### Saving the average returns and sharpe ratios for each category in a dataframe\n",
    "avg_sharpe = pd.DataFrame(index=['Low', 'Medium', 'High'], columns=factor_ret_m.columns)\n",
    "avg_ret = avg_sharpe.copy()\n",
    "\n",
    "for factor in factor_ret_m.columns:\n",
    "    avg_sharpe.loc['Low', factor] = low_sharpe[factor].mean()\n",
    "    avg_sharpe.loc['Medium', factor] = medium_sharpe[factor].mean()\n",
    "    avg_sharpe.loc['High', factor] = high_sharpe[factor].mean()\n",
    "    \n",
    "    avg_ret.loc['Low', factor] = low_ret[factor].mean()\n",
    "    avg_ret.loc['Medium', factor] = medium_ret[factor].mean()\n",
    "    avg_ret.loc['High', factor] = high_ret[factor].mean()\n",
    "\n",
    "avg_sharpe"
   ]
  },
  {
   "cell_type": "code",
   "execution_count": 7,
   "id": "9c796be6",
   "metadata": {
    "execution": {
     "iopub.execute_input": "2025-03-19T10:55:51.081486Z",
     "iopub.status.busy": "2025-03-19T10:55:51.081364Z",
     "iopub.status.idle": "2025-03-19T10:55:51.175345Z",
     "shell.execute_reply": "2025-03-19T10:55:51.175090Z"
    },
    "papermill": {
     "duration": 0.096389,
     "end_time": "2025-03-19T10:55:51.176056",
     "exception": false,
     "start_time": "2025-03-19T10:55:51.079667",
     "status": "completed"
    },
    "tags": []
   },
   "outputs": [
    {
     "data": {
      "image/png": "[encoded data removed]",
      "text/plain": [
       "<Figure size 1600x800 with 1 Axes>"
      ]
     },
     "metadata": {},
     "output_type": "display_data"
    }
   ],
   "source": [
    "# Plot settings\n",
    "bar_width = 0.18  # Reduced bar width to add gap\n",
    "gap = 0.05  # Gap between bars\n",
    "x = np.arange(len(avg_sharpe.columns))  # Bar positions\n",
    "colors = {'Low': '#2469bc', 'Medium': 'grey', 'High': '#a9373b'}\n",
    "\n",
    "fig, ax = plt.subplots(figsize=(16, 8))\n",
    "\n",
    "# Plot each risk level\n",
    "for i, risk in enumerate(avg_sharpe.index):\n",
    "    ax.bar(x + (i - 1) * (bar_width + gap), avg_sharpe.loc[risk], width=bar_width, label=f'{risk} factor volatility', color=colors[risk])\n",
    "\n",
    "# Labels and legend\n",
    "ax.set_ylabel('Risk-return tradeoff')\n",
    "ax.set_xticks(x)\n",
    "ax.set_xticklabels(avg_sharpe.columns)\n",
    "ax.legend()\n",
    "\n",
    "### Saving the plot\n",
    "plt.savefig('Plots/avg_risk-ret_during_diff_factorvol.png')\n",
    "\n",
    "plt.show()"
   ]
  },
  {
   "cell_type": "markdown",
   "id": "528fc23a",
   "metadata": {
    "papermill": {
     "duration": 0.001363,
     "end_time": "2025-03-19T10:55:51.179239",
     "exception": false,
     "start_time": "2025-03-19T10:55:51.177876",
     "status": "completed"
    },
    "tags": []
   },
   "source": [
    "#### In-sample"
   ]
  },
  {
   "cell_type": "markdown",
   "id": "d8a8d07d",
   "metadata": {
    "papermill": {
     "duration": 0.001496,
     "end_time": "2025-03-19T10:55:51.182386",
     "exception": false,
     "start_time": "2025-03-19T10:55:51.180890",
     "status": "completed"
    },
    "tags": []
   },
   "source": [
    "We see that the relationship is not strong, expect for UMD. We will now create the exact same figures, only we will use $\\sigma_t$ and not $\\sigma_{t-1}$."
   ]
  },
  {
   "cell_type": "code",
   "execution_count": 8,
   "id": "cbf6118b",
   "metadata": {
    "execution": {
     "iopub.execute_input": "2025-03-19T10:55:51.185503Z",
     "iopub.status.busy": "2025-03-19T10:55:51.185380Z",
     "iopub.status.idle": "2025-03-19T10:55:52.293043Z",
     "shell.execute_reply": "2025-03-19T10:55:52.292780Z"
    },
    "papermill": {
     "duration": 1.11026,
     "end_time": "2025-03-19T10:55:52.293949",
     "exception": false,
     "start_time": "2025-03-19T10:55:51.183689",
     "status": "completed"
    },
    "tags": []
   },
   "outputs": [
    {
     "data": {
      "text/html": [
       "<div>\n",
       "<style scoped>\n",
       "    .dataframe tbody tr th:only-of-type {\n",
       "        vertical-align: middle;\n",
       "    }\n",
       "\n",
       "    .dataframe tbody tr th {\n",
       "        vertical-align: top;\n",
       "    }\n",
       "\n",
       "    .dataframe thead th {\n",
       "        text-align: right;\n",
       "    }\n",
       "</style>\n",
       "<table border=\"1\" class=\"dataframe\">\n",
       "  <thead>\n",
       "    <tr style=\"text-align: right;\">\n",
       "      <th></th>\n",
       "      <th>VW</th>\n",
       "      <th>EW</th>\n",
       "      <th>SMB</th>\n",
       "      <th>HML</th>\n",
       "      <th>UMD</th>\n",
       "      <th>BAB</th>\n",
       "    </tr>\n",
       "  </thead>\n",
       "  <tbody>\n",
       "    <tr>\n",
       "      <th>Low</th>\n",
       "      <td>3.357945</td>\n",
       "      <td>4.25227</td>\n",
       "      <td>0.709232</td>\n",
       "      <td>0.914691</td>\n",
       "      <td>1.98172</td>\n",
       "      <td>2.301282</td>\n",
       "    </tr>\n",
       "    <tr>\n",
       "      <th>Medium</th>\n",
       "      <td>1.884028</td>\n",
       "      <td>2.329408</td>\n",
       "      <td>0.511804</td>\n",
       "      <td>0.547228</td>\n",
       "      <td>1.525399</td>\n",
       "      <td>1.680917</td>\n",
       "    </tr>\n",
       "    <tr>\n",
       "      <th>High</th>\n",
       "      <td>0.347395</td>\n",
       "      <td>0.173757</td>\n",
       "      <td>0.186464</td>\n",
       "      <td>-0.305551</td>\n",
       "      <td>0.648082</td>\n",
       "      <td>1.370687</td>\n",
       "    </tr>\n",
       "  </tbody>\n",
       "</table>\n",
       "</div>"
      ],
      "text/plain": [
       "              VW        EW       SMB       HML       UMD       BAB\n",
       "Low     3.357945   4.25227  0.709232  0.914691   1.98172  2.301282\n",
       "Medium  1.884028  2.329408  0.511804  0.547228  1.525399  1.680917\n",
       "High    0.347395  0.173757  0.186464 -0.305551  0.648082  1.370687"
      ]
     },
     "execution_count": 8,
     "metadata": {},
     "output_type": "execute_result"
    }
   ],
   "source": [
    "### Categorising market vol as low, medium, high\n",
    "terciles = volatility['VW'].quantile([1/3, 2/3])\n",
    "market_vol = pd.cut(volatility['VW'], bins=[-np.inf, terciles.iloc[0], terciles.iloc[1], np.inf], labels=['low', 'medium', 'high'])#.shift(1)\n",
    "\n",
    "### Gettting the factor returns and sharpe ratios for each category\n",
    "low_ret = pd.DataFrame(index=factor_ret_m.index, columns=factor_ret_m.columns)\n",
    "medium_ret = low_ret.copy()\n",
    "high_ret = low_ret.copy()\n",
    "low_sharpe = low_ret.copy()\n",
    "medium_sharpe = low_ret.copy()\n",
    "high_sharpe = low_ret.copy()\n",
    "\n",
    "### Running a loop\n",
    "for factor in factor_ret_m.columns:\n",
    "    for date in factor_ret_m.index:\n",
    "        short_date = date.strftime('%Y-%m')\n",
    "        if market_vol.loc[date] == 'low':\n",
    "            low_ret.loc[date, factor] = factor_ret_d.loc[short_date, factor].mean() * 252\n",
    "            low_sharpe.loc[date, factor] = factor_ret_d.loc[short_date, factor].mean() / factor_ret_d.loc[short_date, factor].std() * np.sqrt(252)\n",
    "        elif market_vol.loc[date] == 'medium':\n",
    "            medium_ret.loc[date, factor] = factor_ret_d.loc[short_date, factor].mean() * 252\n",
    "            medium_sharpe.loc[date, factor] = factor_ret_d.loc[short_date, factor].mean() / factor_ret_d.loc[short_date, factor].std() * np.sqrt(252)\n",
    "        else:\n",
    "            high_ret.loc[date, factor] = factor_ret_d.loc[short_date, factor].mean() * 252\n",
    "            high_sharpe.loc[date, factor] = factor_ret_d.loc[short_date, factor].mean() / factor_ret_d.loc[short_date, factor].std() * np.sqrt(252)\n",
    "\n",
    "### Saving the average returns and sharpe ratios for each category in a dataframe\n",
    "avg_sharpe = pd.DataFrame(index=['Low', 'Medium', 'High'], columns=factor_ret_m.columns)\n",
    "avg_ret = avg_sharpe.copy()\n",
    "\n",
    "for factor in factor_ret_m.columns:\n",
    "    avg_sharpe.loc['Low', factor] = low_sharpe[factor].mean()\n",
    "    avg_sharpe.loc['Medium', factor] = medium_sharpe[factor].mean()\n",
    "    avg_sharpe.loc['High', factor] = high_sharpe[factor].mean()\n",
    "    \n",
    "    avg_ret.loc['Low', factor] = low_ret[factor].mean()\n",
    "    avg_ret.loc['Medium', factor] = medium_ret[factor].mean()\n",
    "    avg_ret.loc['High', factor] = high_ret[factor].mean()\n",
    "\n",
    "avg_sharpe"
   ]
  },
  {
   "cell_type": "code",
   "execution_count": 9,
   "id": "76b92cd6",
   "metadata": {
    "execution": {
     "iopub.execute_input": "2025-03-19T10:55:52.297766Z",
     "iopub.status.busy": "2025-03-19T10:55:52.297643Z",
     "iopub.status.idle": "2025-03-19T10:55:52.381714Z",
     "shell.execute_reply": "2025-03-19T10:55:52.381478Z"
    },
    "papermill": {
     "duration": 0.086678,
     "end_time": "2025-03-19T10:55:52.382435",
     "exception": false,
     "start_time": "2025-03-19T10:55:52.295757",
     "status": "completed"
    },
    "tags": []
   },
   "outputs": [
    {
     "data": {
      "image/png": "[encoded data removed]",
      "text/plain": [
       "<Figure size 1600x800 with 1 Axes>"
      ]
     },
     "metadata": {},
     "output_type": "display_data"
    }
   ],
   "source": [
    "# Plot settings\n",
    "bar_width = 0.18  # Reduced bar width to add gap\n",
    "gap = 0.05  # Gap between bars\n",
    "x = np.arange(len(avg_sharpe.columns))  # Bar positions\n",
    "colors = {'Low': '#2469bc', 'Medium': 'grey', 'High': '#a9373b'}\n",
    "\n",
    "fig, ax = plt.subplots(figsize=(16, 8))\n",
    "\n",
    "# Plot each risk level\n",
    "for i, risk in enumerate(avg_sharpe.index):\n",
    "    ax.bar(x + (i - 1) * (bar_width + gap), avg_sharpe.loc[risk], width=bar_width, label=f'{risk} market volatility', color=colors[risk])\n",
    "\n",
    "# Labels and legend\n",
    "ax.set_ylabel('Risk-return tradeoff')\n",
    "ax.set_xticks(x)\n",
    "ax.set_xticklabels(avg_sharpe.columns)\n",
    "ax.legend()\n",
    "\n",
    "### Saving the plot\n",
    "plt.savefig('Plots/avg_risk-ret_during_diff_marketvol_insample.png')\n",
    "\n",
    "plt.show()"
   ]
  },
  {
   "cell_type": "code",
   "execution_count": 10,
   "id": "60ca6209",
   "metadata": {
    "execution": {
     "iopub.execute_input": "2025-03-19T10:55:52.386229Z",
     "iopub.status.busy": "2025-03-19T10:55:52.386132Z",
     "iopub.status.idle": "2025-03-19T10:55:53.440849Z",
     "shell.execute_reply": "2025-03-19T10:55:53.440599Z"
    },
    "papermill": {
     "duration": 1.057576,
     "end_time": "2025-03-19T10:55:53.441606",
     "exception": false,
     "start_time": "2025-03-19T10:55:52.384030",
     "status": "completed"
    },
    "tags": []
   },
   "outputs": [
    {
     "data": {
      "text/html": [
       "<div>\n",
       "<style scoped>\n",
       "    .dataframe tbody tr th:only-of-type {\n",
       "        vertical-align: middle;\n",
       "    }\n",
       "\n",
       "    .dataframe tbody tr th {\n",
       "        vertical-align: top;\n",
       "    }\n",
       "\n",
       "    .dataframe thead th {\n",
       "        text-align: right;\n",
       "    }\n",
       "</style>\n",
       "<table border=\"1\" class=\"dataframe\">\n",
       "  <thead>\n",
       "    <tr style=\"text-align: right;\">\n",
       "      <th></th>\n",
       "      <th>VW</th>\n",
       "      <th>EW</th>\n",
       "      <th>SMB</th>\n",
       "      <th>HML</th>\n",
       "      <th>UMD</th>\n",
       "      <th>BAB</th>\n",
       "    </tr>\n",
       "  </thead>\n",
       "  <tbody>\n",
       "    <tr>\n",
       "      <th>Low</th>\n",
       "      <td>3.357945</td>\n",
       "      <td>3.928101</td>\n",
       "      <td>0.54546</td>\n",
       "      <td>0.243078</td>\n",
       "      <td>1.652982</td>\n",
       "      <td>2.09384</td>\n",
       "    </tr>\n",
       "    <tr>\n",
       "      <th>Medium</th>\n",
       "      <td>1.884028</td>\n",
       "      <td>2.526317</td>\n",
       "      <td>0.169369</td>\n",
       "      <td>0.132609</td>\n",
       "      <td>1.664857</td>\n",
       "      <td>1.895273</td>\n",
       "    </tr>\n",
       "    <tr>\n",
       "      <th>High</th>\n",
       "      <td>0.347395</td>\n",
       "      <td>0.302605</td>\n",
       "      <td>0.68991</td>\n",
       "      <td>0.777338</td>\n",
       "      <td>0.838486</td>\n",
       "      <td>1.365502</td>\n",
       "    </tr>\n",
       "  </tbody>\n",
       "</table>\n",
       "</div>"
      ],
      "text/plain": [
       "              VW        EW       SMB       HML       UMD       BAB\n",
       "Low     3.357945  3.928101   0.54546  0.243078  1.652982   2.09384\n",
       "Medium  1.884028  2.526317  0.169369  0.132609  1.664857  1.895273\n",
       "High    0.347395  0.302605   0.68991  0.777338  0.838486  1.365502"
      ]
     },
     "execution_count": 10,
     "metadata": {},
     "output_type": "execute_result"
    }
   ],
   "source": [
    "### Categorising market vol as low, medium, high\n",
    "terciles = volatility.quantile([1/3, 2/3])\n",
    "vol_cat = pd.DataFrame(index=volatility.index, columns=volatility.columns)\n",
    "for factor in factor_ret_m.columns:\n",
    "    vol_cat[factor] = pd.cut(volatility[factor], bins=[-np.inf, terciles[factor].iloc[0], terciles[factor].iloc[1], np.inf], labels=['low', 'medium', 'high'])#.shift(1)\n",
    "\n",
    "### Gettting the factor returns and sharpe ratios for each category\n",
    "low_ret = pd.DataFrame(index=factor_ret_m.index, columns=factor_ret_m.columns)\n",
    "medium_ret = low_ret.copy()\n",
    "high_ret = low_ret.copy()\n",
    "low_sharpe = low_ret.copy()\n",
    "medium_sharpe = low_ret.copy()\n",
    "high_sharpe = low_ret.copy()\n",
    "\n",
    "### Running a loop\n",
    "for factor in factor_ret_m.columns:\n",
    "    for date in factor_ret_m.index:\n",
    "        short_date = date.strftime('%Y-%m')\n",
    "        if vol_cat.loc[date, factor] == 'low':\n",
    "            low_ret.loc[date, factor] = factor_ret_d.loc[short_date, factor].mean() * 252\n",
    "            low_sharpe.loc[date, factor] = factor_ret_d.loc[short_date, factor].mean() / factor_ret_d.loc[short_date, factor].std() * np.sqrt(252)\n",
    "        elif vol_cat.loc[date, factor] == 'medium':\n",
    "            medium_ret.loc[date, factor] = factor_ret_d.loc[short_date, factor].mean() * 252\n",
    "            medium_sharpe.loc[date, factor] = factor_ret_d.loc[short_date, factor].mean() / factor_ret_d.loc[short_date, factor].std() * np.sqrt(252)\n",
    "        else:\n",
    "            high_ret.loc[date, factor] = factor_ret_d.loc[short_date, factor].mean() * 252\n",
    "            high_sharpe.loc[date, factor] = factor_ret_d.loc[short_date, factor].mean() / factor_ret_d.loc[short_date, factor].std() * np.sqrt(252)\n",
    "\n",
    "### Saving the average returns and sharpe ratios for each category in a dataframe\n",
    "avg_sharpe = pd.DataFrame(index=['Low', 'Medium', 'High'], columns=factor_ret_m.columns)\n",
    "avg_ret = avg_sharpe.copy()\n",
    "\n",
    "for factor in factor_ret_m.columns:\n",
    "    avg_sharpe.loc['Low', factor] = low_sharpe[factor].mean()\n",
    "    avg_sharpe.loc['Medium', factor] = medium_sharpe[factor].mean()\n",
    "    avg_sharpe.loc['High', factor] = high_sharpe[factor].mean()\n",
    "    \n",
    "    avg_ret.loc['Low', factor] = low_ret[factor].mean()\n",
    "    avg_ret.loc['Medium', factor] = medium_ret[factor].mean()\n",
    "    avg_ret.loc['High', factor] = high_ret[factor].mean()\n",
    "\n",
    "avg_sharpe"
   ]
  },
  {
   "cell_type": "code",
   "execution_count": 11,
   "id": "ba4f13e7",
   "metadata": {
    "execution": {
     "iopub.execute_input": "2025-03-19T10:55:53.446210Z",
     "iopub.status.busy": "2025-03-19T10:55:53.446087Z",
     "iopub.status.idle": "2025-03-19T10:55:53.536861Z",
     "shell.execute_reply": "2025-03-19T10:55:53.536606Z"
    },
    "papermill": {
     "duration": 0.093724,
     "end_time": "2025-03-19T10:55:53.537613",
     "exception": false,
     "start_time": "2025-03-19T10:55:53.443889",
     "status": "completed"
    },
    "tags": []
   },
   "outputs": [
    {
     "data": {
      "image/png": "[encoded data removed]",
      "text/plain": [
       "<Figure size 1600x800 with 1 Axes>"
      ]
     },
     "metadata": {},
     "output_type": "display_data"
    }
   ],
   "source": [
    "# Plot settings\n",
    "bar_width = 0.18  # Reduced bar width to add gap\n",
    "gap = 0.05  # Gap between bars\n",
    "x = np.arange(len(avg_sharpe.columns))  # Bar positions\n",
    "colors = {'Low': '#2469bc', 'Medium': 'grey', 'High': '#a9373b'}\n",
    "\n",
    "fig, ax = plt.subplots(figsize=(16, 8))\n",
    "\n",
    "# Plot each risk level\n",
    "for i, risk in enumerate(avg_sharpe.index):\n",
    "    ax.bar(x + (i - 1) * (bar_width + gap), avg_sharpe.loc[risk], width=bar_width, label=f'{risk} factor volatility', color=colors[risk])\n",
    "\n",
    "# Labels and legend\n",
    "ax.set_ylabel('Risk-return tradeoff')\n",
    "ax.set_xticks(x)\n",
    "ax.set_xticklabels(avg_sharpe.columns)\n",
    "ax.legend()\n",
    "\n",
    "### Saving the plot\n",
    "plt.savefig('Plots/avg_risk-ret_during_diff_factorvol_insample.png')\n",
    "\n",
    "plt.show()"
   ]
  }
 ],
 "metadata": {
  "kernelspec": {
   "display_name": "Python 3",
   "language": "python",
   "name": "python3"
  },
  "language_info": {
   "codemirror_mode": {
    "name": "ipython",
    "version": 3
   },
   "file_extension": ".py",
   "mimetype": "text/x-python",
   "name": "python",
   "nbconvert_exporter": "python",
   "pygments_lexer": "ipython3",
   "version": "3.13.1"
  },
  "papermill": {
   "default_parameters": {},
   "duration": 6.235849,
   "end_time": "2025-03-19T10:55:53.756261",
   "environment_variables": {},
   "exception": null,
   "input_path": "12_volatility_statistics.ipynb",
   "output_path": "12_volatility_statistics.ipynb",
   "parameters": {},
   "start_time": "2025-03-19T10:55:47.520412",
   "version": "2.6.0"
  }
 },
 "nbformat": 4,
 "nbformat_minor": 5
}
