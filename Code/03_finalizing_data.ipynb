{
 "cells": [
  {
   "cell_type": "code",
   "execution_count": 1,
   "id": "f579ecf7",
   "metadata": {
    "execution": {
     "iopub.execute_input": "2025-03-04T15:20:08.840143Z",
     "iopub.status.busy": "2025-03-04T15:20:08.839788Z",
     "iopub.status.idle": "2025-03-04T15:20:09.054539Z",
     "shell.execute_reply": "2025-03-04T15:20:09.054291Z"
    },
    "papermill": {
     "duration": 0.224711,
     "end_time": "2025-03-04T15:20:09.055421",
     "exception": false,
     "start_time": "2025-03-04T15:20:08.830710",
     "status": "completed"
    },
    "tags": []
   },
   "outputs": [],
   "source": [
    "### Installing the required packages if not already installed\n",
    "packages = ['numpy', 'pandas', 'warnings', 'sqlite3', 'time']\n",
    "\n",
    "for package in packages:\n",
    "    try:\n",
    "        __import__(package)\n",
    "    except ImportError:\n",
    "        %pip install {package}\n",
    "\n",
    "\n",
    "### Start timer\n",
    "import time\n",
    "start = time.time()\n",
    "\n",
    "import numpy as np\n",
    "import pandas as pd\n",
    "import warnings\n",
    "import sqlite3\n",
    "import os\n",
    "\n",
    "### Ignoring the warnings\n",
    "warnings.filterwarnings('ignore')\n",
    "\n",
    "### Setting working directory\n",
    "os.chdir('/Users/emilwilliamhansen/Library/Mobile Documents/com~apple~CloudDocs/School/Master Thesis/Code')"
   ]
  },
  {
   "cell_type": "markdown",
   "id": "aa1e5dcd",
   "metadata": {
    "papermill": {
     "duration": 0.001731,
     "end_time": "2025-03-04T15:20:09.058676",
     "exception": false,
     "start_time": "2025-03-04T15:20:09.056945",
     "status": "completed"
    },
    "tags": []
   },
   "source": [
    "#### Goal:\n",
    "\n",
    "Here I will simply make sure all the monthly and daily data alligns with each other. So, we will simply import all data, make sure it has the same stocks and the same periods in it."
   ]
  },
  {
   "cell_type": "code",
   "execution_count": 2,
   "id": "56bf5db4",
   "metadata": {
    "execution": {
     "iopub.execute_input": "2025-03-04T15:20:09.061234Z",
     "iopub.status.busy": "2025-03-04T15:20:09.060988Z",
     "iopub.status.idle": "2025-03-04T15:20:11.845276Z",
     "shell.execute_reply": "2025-03-04T15:20:11.844920Z"
    },
    "papermill": {
     "duration": 2.788811,
     "end_time": "2025-03-04T15:20:11.848494",
     "exception": false,
     "start_time": "2025-03-04T15:20:09.059683",
     "status": "completed"
    },
    "tags": []
   },
   "outputs": [],
   "source": [
    "### Importing the monthly data\n",
    "### Connecting to the database\n",
    "conn = sqlite3.connect('Data/data.db')\n",
    "\n",
    "### Getting data from the SQL database\n",
    "monthly_returns = pd.read_sql_query(\"SELECT * FROM monthly_returns\", conn, index_col='index')\n",
    "daily_returns = pd.read_sql_query(\"SELECT * FROM daily_returns\", conn, index_col='index')\n",
    "\n",
    "\n",
    "filtered_monthly_returns = pd.read_sql_query(\"SELECT * FROM filtered_monthly_returns\", conn, index_col='index')\n",
    "filtered_daily_returns = pd.read_sql_query(\"SELECT * FROM filtered_daily_returns\", conn, index_col='index')\n",
    "\n",
    "\n",
    "factors_monthly = pd.read_sql_query(\"SELECT * FROM factors_monthly\", conn, index_col='date')\n",
    "factors_daily = pd.read_sql_query(\"SELECT * FROM factors_daily\", conn, index_col='date')\n",
    "liq_monthly = pd.read_sql_query(\"SELECT * FROM liq_monthly\", conn, index_col='date')\n",
    "liq_daily = pd.read_sql_query(\"SELECT * FROM liq_daily\", conn, index_col='date')\n",
    "\n",
    "index_monthly_returns = pd.read_sql_query(\"SELECT * FROM index_monthly_returns\", conn, index_col='date')\n",
    "index_daily_returns = pd.read_sql_query(\"SELECT * FROM index_daily_returns\", conn, index_col='date')\n",
    "index_monthly_prices = pd.read_sql_query(\"SELECT * FROM index_monthly_prices\", conn, index_col='date')\n",
    "index_monthly_prices = pd.read_sql_query(\"SELECT * FROM index_monthly_prices\", conn, index_col='date')\n",
    "\n",
    "### Closing the connection\n",
    "conn.close()"
   ]
  },
  {
   "cell_type": "markdown",
   "id": "4dd26ae0",
   "metadata": {
    "papermill": {
     "duration": 0.001847,
     "end_time": "2025-03-04T15:20:11.853397",
     "exception": false,
     "start_time": "2025-03-04T15:20:11.851550",
     "status": "completed"
    },
    "tags": []
   },
   "source": [
    "#### Fixing the indexes"
   ]
  },
  {
   "cell_type": "code",
   "execution_count": 3,
   "id": "cfe27bb7",
   "metadata": {
    "execution": {
     "iopub.execute_input": "2025-03-04T15:20:11.858126Z",
     "iopub.status.busy": "2025-03-04T15:20:11.857959Z",
     "iopub.status.idle": "2025-03-04T15:20:11.878778Z",
     "shell.execute_reply": "2025-03-04T15:20:11.878505Z"
    },
    "papermill": {
     "duration": 0.024704,
     "end_time": "2025-03-04T15:20:11.879927",
     "exception": false,
     "start_time": "2025-03-04T15:20:11.855223",
     "status": "completed"
    },
    "tags": []
   },
   "outputs": [],
   "source": [
    "monthly_returns.index = pd.to_datetime(monthly_returns.index)\n",
    "daily_returns.index = pd.to_datetime(daily_returns.index)\n",
    "\n",
    "filtered_monthly_returns.index = pd.to_datetime(filtered_monthly_returns.index)\n",
    "filtered_daily_returns.index = pd.to_datetime(filtered_daily_returns.index)\n",
    "\n",
    "factors_monthly.index = pd.to_datetime(factors_monthly.index)\n",
    "factors_daily.index = pd.to_datetime(factors_daily.index)\n",
    "liq_monthly.index = pd.to_datetime(liq_monthly.index)\n",
    "liq_daily.index = pd.to_datetime(liq_daily.index)\n",
    "\n",
    "index_monthly_returns.index = pd.to_datetime(index_monthly_returns.index)\n",
    "index_daily_returns.index = pd.to_datetime(index_daily_returns.index)\n",
    "index_monthly_prices.index = pd.to_datetime(index_monthly_prices.index)\n",
    "index_monthly_prices.index = pd.to_datetime(index_monthly_prices.index)"
   ]
  },
  {
   "cell_type": "markdown",
   "id": "8d0b1371",
   "metadata": {
    "papermill": {
     "duration": 0.001338,
     "end_time": "2025-03-04T15:20:11.882868",
     "exception": false,
     "start_time": "2025-03-04T15:20:11.881530",
     "status": "completed"
    },
    "tags": []
   },
   "source": [
    "#### Renaming all the dates colums to 'Date'"
   ]
  },
  {
   "cell_type": "code",
   "execution_count": 4,
   "id": "5f24723a",
   "metadata": {
    "execution": {
     "iopub.execute_input": "2025-03-04T15:20:11.885813Z",
     "iopub.status.busy": "2025-03-04T15:20:11.885665Z",
     "iopub.status.idle": "2025-03-04T15:20:11.888501Z",
     "shell.execute_reply": "2025-03-04T15:20:11.887908Z"
    },
    "papermill": {
     "duration": 0.00531,
     "end_time": "2025-03-04T15:20:11.889338",
     "exception": false,
     "start_time": "2025-03-04T15:20:11.884028",
     "status": "completed"
    },
    "tags": []
   },
   "outputs": [],
   "source": [
    "monthly_returns.index.name = 'Date'\n",
    "daily_returns.index.name = 'Date'\n",
    "\n",
    "filtered_monthly_returns.index.name = 'Date'\n",
    "filtered_daily_returns.index.name = 'Date'\n",
    "\n",
    "factors_monthly.index.name = 'Date'\n",
    "factors_daily.index.name = 'Date'\n",
    "liq_monthly.index.name = 'Date'\n",
    "liq_daily.index.name = 'Date'\n",
    "\n",
    "index_monthly_returns.index.name = 'Date'\n",
    "index_daily_returns.index.name = 'Date'\n",
    "index_monthly_prices.index.name = 'Date'\n",
    "index_monthly_prices.index.name = 'Date'"
   ]
  },
  {
   "cell_type": "markdown",
   "id": "cc242827",
   "metadata": {
    "papermill": {
     "duration": 0.001123,
     "end_time": "2025-03-04T15:20:11.892142",
     "exception": false,
     "start_time": "2025-03-04T15:20:11.891019",
     "status": "completed"
    },
    "tags": []
   },
   "source": [
    "#### Restricting the period to 1980-2023"
   ]
  },
  {
   "cell_type": "code",
   "execution_count": 5,
   "id": "9e4d45c5",
   "metadata": {
    "execution": {
     "iopub.execute_input": "2025-03-04T15:20:11.894777Z",
     "iopub.status.busy": "2025-03-04T15:20:11.894592Z",
     "iopub.status.idle": "2025-03-04T15:20:11.901892Z",
     "shell.execute_reply": "2025-03-04T15:20:11.901602Z"
    },
    "papermill": {
     "duration": 0.009681,
     "end_time": "2025-03-04T15:20:11.902789",
     "exception": false,
     "start_time": "2025-03-04T15:20:11.893108",
     "status": "completed"
    },
    "tags": []
   },
   "outputs": [],
   "source": [
    "### Making all returns go from 1980-01-01 to 2023-12-31\n",
    "monthly_returns = monthly_returns.loc['1980-01-01':'2023-12-31']\n",
    "daily_returns = daily_returns.loc['1980-01-01':'2023-12-31']\n",
    "\n",
    "filtered_monthly_returns = filtered_monthly_returns.loc['1980-01-01':'2023-12-31']\n",
    "filtered_daily_returns = filtered_daily_returns.loc['1980-01-01':'2023-12-31']\n",
    "\n",
    "\n",
    "factors_monthly = factors_monthly.loc['1980-01-01':'2023-12-31']\n",
    "factors_daily = factors_daily.loc['1980-01-01':'2023-12-31']\n",
    "liq_monthly = liq_monthly.loc['1980-01-01':'2023-12-31']\n",
    "liq_daily = liq_daily.loc['1980-01-01':'2023-12-31']\n",
    "\n",
    "index_monthly_returns = index_monthly_returns.loc['1980-01-01':'2023-12-31']\n",
    "index_daily_returns = index_daily_returns.loc['1980-01-01':'2023-12-31']\n",
    "index_monthly_prices = index_monthly_prices.loc['1980-01-01':'2023-12-31']\n",
    "index_monthly_prices = index_monthly_prices.loc['1980-01-01':'2023-12-31']"
   ]
  },
  {
   "cell_type": "markdown",
   "id": "0453987d",
   "metadata": {
    "papermill": {
     "duration": 0.001142,
     "end_time": "2025-03-04T15:20:11.905747",
     "exception": false,
     "start_time": "2025-03-04T15:20:11.904605",
     "status": "completed"
    },
    "tags": []
   },
   "source": [
    "#### Fixing the shapes"
   ]
  },
  {
   "cell_type": "code",
   "execution_count": 6,
   "id": "2ce2194b",
   "metadata": {
    "execution": {
     "iopub.execute_input": "2025-03-04T15:20:11.908515Z",
     "iopub.status.busy": "2025-03-04T15:20:11.908362Z",
     "iopub.status.idle": "2025-03-04T15:20:11.910476Z",
     "shell.execute_reply": "2025-03-04T15:20:11.910274Z"
    },
    "papermill": {
     "duration": 0.004268,
     "end_time": "2025-03-04T15:20:11.911149",
     "exception": false,
     "start_time": "2025-03-04T15:20:11.906881",
     "status": "completed"
    },
    "tags": []
   },
   "outputs": [
    {
     "name": "stdout",
     "output_type": "stream",
     "text": [
      "Monthly Returns: (528, 1074)\n",
      "Filtered Monthly Returns: (528, 995)\n",
      "Factors Monthly: (528, 6)\n",
      "Liq Monthly: (491, 4)\n",
      "Index Monthly Returns: (491, 156)\n",
      "Index Monthly Prices: (492, 156)\n"
     ]
    }
   ],
   "source": [
    "print('Monthly Returns:', monthly_returns.shape)\n",
    "print('Filtered Monthly Returns:', filtered_monthly_returns.shape)\n",
    "print('Factors Monthly:', factors_monthly.shape)\n",
    "print('Liq Monthly:', liq_monthly.shape)\n",
    "print('Index Monthly Returns:', index_monthly_returns.shape)\n",
    "print('Index Monthly Prices:', index_monthly_prices.shape)"
   ]
  },
  {
   "cell_type": "code",
   "execution_count": 7,
   "id": "5394b7ce",
   "metadata": {
    "execution": {
     "iopub.execute_input": "2025-03-04T15:20:11.914897Z",
     "iopub.status.busy": "2025-03-04T15:20:11.914759Z",
     "iopub.status.idle": "2025-03-04T15:20:11.917732Z",
     "shell.execute_reply": "2025-03-04T15:20:11.917473Z"
    },
    "papermill": {
     "duration": 0.005703,
     "end_time": "2025-03-04T15:20:11.918455",
     "exception": false,
     "start_time": "2025-03-04T15:20:11.912752",
     "status": "completed"
    },
    "tags": []
   },
   "outputs": [],
   "source": [
    "liq_monthly = liq_monthly.reindex(monthly_returns.index)\n",
    "index_monthly_returns = index_monthly_returns.reindex(monthly_returns.index)\n",
    "index_monthly_prices = index_monthly_prices.reindex(monthly_returns.index)\n",
    "factors_monthly = factors_monthly.reindex(monthly_returns.index)"
   ]
  },
  {
   "cell_type": "code",
   "execution_count": 8,
   "id": "6229905a",
   "metadata": {
    "execution": {
     "iopub.execute_input": "2025-03-04T15:20:11.921643Z",
     "iopub.status.busy": "2025-03-04T15:20:11.921511Z",
     "iopub.status.idle": "2025-03-04T15:20:11.924148Z",
     "shell.execute_reply": "2025-03-04T15:20:11.923896Z"
    },
    "papermill": {
     "duration": 0.004976,
     "end_time": "2025-03-04T15:20:11.924847",
     "exception": false,
     "start_time": "2025-03-04T15:20:11.919871",
     "status": "completed"
    },
    "tags": []
   },
   "outputs": [
    {
     "name": "stdout",
     "output_type": "stream",
     "text": [
      "Daily Returns: (11041, 1074)\n",
      "Filtered Daily Returns: (11041, 995)\n",
      "Factors Daily: (11102, 6)\n",
      "Liq Daily: (10265, 2)\n",
      "Index Daily Returns: (10131, 156)\n",
      "Index Daily Prices: (10131, 156)\n"
     ]
    }
   ],
   "source": [
    "print('Daily Returns:', daily_returns.shape)\n",
    "print('Filtered Daily Returns:', filtered_daily_returns.shape)\n",
    "print('Factors Daily:', factors_daily.shape)\n",
    "print('Liq Daily:', liq_daily.shape)\n",
    "print('Index Daily Returns:', index_daily_returns.shape)\n",
    "print('Index Daily Prices:', index_daily_returns.shape)"
   ]
  },
  {
   "cell_type": "code",
   "execution_count": 9,
   "id": "bc2b5b80",
   "metadata": {
    "execution": {
     "iopub.execute_input": "2025-03-04T15:20:11.928206Z",
     "iopub.status.busy": "2025-03-04T15:20:11.928059Z",
     "iopub.status.idle": "2025-03-04T15:20:11.937776Z",
     "shell.execute_reply": "2025-03-04T15:20:11.937474Z"
    },
    "papermill": {
     "duration": 0.012525,
     "end_time": "2025-03-04T15:20:11.938608",
     "exception": false,
     "start_time": "2025-03-04T15:20:11.926083",
     "status": "completed"
    },
    "tags": []
   },
   "outputs": [],
   "source": [
    "factors_daily = factors_daily.reindex(daily_returns.index)\n",
    "liq_daily = liq_daily.reindex(daily_returns.index)\n",
    "index_daily_returns = index_daily_returns.reindex(daily_returns.index)\n",
    "index_monthly_prices = index_monthly_prices.reindex(daily_returns.index)"
   ]
  },
  {
   "cell_type": "markdown",
   "id": "84c22523",
   "metadata": {
    "papermill": {
     "duration": 0.001083,
     "end_time": "2025-03-04T15:20:11.940970",
     "exception": false,
     "start_time": "2025-03-04T15:20:11.939887",
     "status": "completed"
    },
    "tags": []
   },
   "source": [
    "#### Saving all the data again"
   ]
  },
  {
   "cell_type": "code",
   "execution_count": 10,
   "id": "7c87f0c7",
   "metadata": {
    "execution": {
     "iopub.execute_input": "2025-03-04T15:20:11.943910Z",
     "iopub.status.busy": "2025-03-04T15:20:11.943721Z",
     "iopub.status.idle": "2025-03-04T15:20:16.461492Z",
     "shell.execute_reply": "2025-03-04T15:20:16.460729Z"
    },
    "papermill": {
     "duration": 4.521621,
     "end_time": "2025-03-04T15:20:16.463665",
     "exception": false,
     "start_time": "2025-03-04T15:20:11.942044",
     "status": "completed"
    },
    "tags": []
   },
   "outputs": [],
   "source": [
    "### Saving all the data to the same database\n",
    "conn = sqlite3.connect('Data/data.db')\n",
    "\n",
    "monthly_returns.to_sql('monthly_returns', conn, if_exists='replace')\n",
    "daily_returns.to_sql('daily_returns', conn, if_exists='replace')\n",
    "\n",
    "\n",
    "filtered_monthly_returns.to_sql('filtered_monthly_returns', conn, if_exists='replace')\n",
    "filtered_daily_returns.to_sql('filtered_daily_returns', conn, if_exists='replace')\n",
    "\n",
    "\n",
    "factors_monthly.to_sql('factors_monthly', conn, if_exists='replace')\n",
    "factors_daily.to_sql('factors_daily', conn, if_exists='replace')\n",
    "liq_monthly.to_sql('liq_monthly', conn, if_exists='replace')\n",
    "liq_daily.to_sql('liq_daily', conn, if_exists='replace')\n",
    "\n",
    "index_monthly_returns.to_sql('index_monthly_returns', conn, if_exists='replace')\n",
    "index_daily_returns.to_sql('index_daily_returns', conn, if_exists='replace')\n",
    "index_monthly_prices.to_sql('index_monthly_prices', conn, if_exists='replace')\n",
    "index_monthly_prices.to_sql('index_monthly_prices', conn, if_exists='replace')\n",
    "\n",
    "conn.close()"
   ]
  }
 ],
 "metadata": {
  "kernelspec": {
   "display_name": "Python 3",
   "language": "python",
   "name": "python3"
  },
  "language_info": {
   "codemirror_mode": {
    "name": "ipython",
    "version": 3
   },
   "file_extension": ".py",
   "mimetype": "text/x-python",
   "name": "python",
   "nbconvert_exporter": "python",
   "pygments_lexer": "ipython3",
   "version": "3.13.1"
  },
  "papermill": {
   "default_parameters": {},
   "duration": 8.588945,
   "end_time": "2025-03-04T15:20:16.688071",
   "environment_variables": {},
   "exception": null,
   "input_path": "03_finalizing_data.ipynb",
   "output_path": "03_finalizing_data.ipynb",
   "parameters": {},
   "start_time": "2025-03-04T15:20:08.099126",
   "version": "2.6.0"
  }
 },
 "nbformat": 4,
 "nbformat_minor": 5
}
