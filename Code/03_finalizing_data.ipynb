{
 "cells": [
  {
   "cell_type": "code",
   "execution_count": 1,
   "id": "f579ecf7",
   "metadata": {
    "execution": {
     "iopub.execute_input": "2025-03-19T10:54:14.975904Z",
     "iopub.status.busy": "2025-03-19T10:54:14.975435Z",
     "iopub.status.idle": "2025-03-19T10:54:15.247342Z",
     "shell.execute_reply": "2025-03-19T10:54:15.247069Z"
    },
    "papermill": {
     "duration": 0.27979,
     "end_time": "2025-03-19T10:54:15.248406",
     "exception": false,
     "start_time": "2025-03-19T10:54:14.968616",
     "status": "completed"
    },
    "tags": []
   },
   "outputs": [],
   "source": [
    "### Installing the required packages if not already installed\n",
    "packages = ['numpy', 'pandas', 'warnings', 'sqlite3', 'time']\n",
    "\n",
    "for package in packages:\n",
    "    try:\n",
    "        __import__(package)\n",
    "    except ImportError:\n",
    "        %pip install {package}\n",
    "\n",
    "\n",
    "### Start timer\n",
    "import time\n",
    "start = time.time()\n",
    "\n",
    "import numpy as np\n",
    "import pandas as pd\n",
    "import warnings\n",
    "import sqlite3\n",
    "import os\n",
    "\n",
    "### Ignoring the warnings\n",
    "warnings.filterwarnings('ignore')\n",
    "\n",
    "### Setting working directory\n",
    "os.chdir('/Users/emilwilliamhansen/Desktop/Master-Thesis/Code')"
   ]
  },
  {
   "cell_type": "markdown",
   "id": "aa1e5dcd",
   "metadata": {
    "papermill": {
     "duration": 0.001449,
     "end_time": "2025-03-19T10:54:15.252137",
     "exception": false,
     "start_time": "2025-03-19T10:54:15.250688",
     "status": "completed"
    },
    "tags": []
   },
   "source": [
    "#### Goal:\n",
    "\n",
    "Here I will simply make sure all the monthly and daily data alligns with each other. So, we will simply import all data, make sure it has the same stocks and the same periods in it."
   ]
  },
  {
   "cell_type": "code",
   "execution_count": 2,
   "id": "56bf5db4",
   "metadata": {
    "execution": {
     "iopub.execute_input": "2025-03-19T10:54:15.255874Z",
     "iopub.status.busy": "2025-03-19T10:54:15.255608Z",
     "iopub.status.idle": "2025-03-19T10:54:18.325058Z",
     "shell.execute_reply": "2025-03-19T10:54:18.324755Z"
    },
    "papermill": {
     "duration": 3.073089,
     "end_time": "2025-03-19T10:54:18.327007",
     "exception": false,
     "start_time": "2025-03-19T10:54:15.253918",
     "status": "completed"
    },
    "tags": []
   },
   "outputs": [],
   "source": [
    "### Importing the monthly data\n",
    "### Connecting to the database\n",
    "conn = sqlite3.connect('Data/data.db')\n",
    "\n",
    "### Getting data from the SQL database\n",
    "monthly_returns = pd.read_sql_query(\"SELECT * FROM monthly_returns\", conn, index_col='index')\n",
    "daily_returns = pd.read_sql_query(\"SELECT * FROM daily_returns\", conn, index_col='index')\n",
    "\n",
    "\n",
    "filtered_monthly_returns = pd.read_sql_query(\"SELECT * FROM filtered_monthly_returns\", conn, index_col='index')\n",
    "filtered_daily_returns = pd.read_sql_query(\"SELECT * FROM filtered_daily_returns\", conn, index_col='index')\n",
    "\n",
    "\n",
    "factors_monthly = pd.read_sql_query(\"SELECT * FROM factors_monthly\", conn, index_col='date')\n",
    "factors_daily = pd.read_sql_query(\"SELECT * FROM factors_daily\", conn, index_col='date')\n",
    "liq_monthly = pd.read_sql_query(\"SELECT * FROM liq_monthly\", conn, index_col='date')\n",
    "liq_daily = pd.read_sql_query(\"SELECT * FROM liq_daily\", conn, index_col='date')\n",
    "\n",
    "index_monthly_returns = pd.read_sql_query(\"SELECT * FROM index_monthly_returns\", conn, index_col='date')\n",
    "index_daily_returns = pd.read_sql_query(\"SELECT * FROM index_daily_returns\", conn, index_col='date')\n",
    "index_monthly_prices = pd.read_sql_query(\"SELECT * FROM index_monthly_prices\", conn, index_col='date')\n",
    "index_monthly_prices = pd.read_sql_query(\"SELECT * FROM index_monthly_prices\", conn, index_col='date')\n",
    "\n",
    "### Closing the connection\n",
    "conn.close()"
   ]
  },
  {
   "cell_type": "markdown",
   "id": "4dd26ae0",
   "metadata": {
    "papermill": {
     "duration": 0.001488,
     "end_time": "2025-03-19T10:54:18.336042",
     "exception": false,
     "start_time": "2025-03-19T10:54:18.334554",
     "status": "completed"
    },
    "tags": []
   },
   "source": [
    "#### Fixing the indexes"
   ]
  },
  {
   "cell_type": "code",
   "execution_count": 3,
   "id": "cfe27bb7",
   "metadata": {
    "execution": {
     "iopub.execute_input": "2025-03-19T10:54:18.339248Z",
     "iopub.status.busy": "2025-03-19T10:54:18.339091Z",
     "iopub.status.idle": "2025-03-19T10:54:18.354748Z",
     "shell.execute_reply": "2025-03-19T10:54:18.354443Z"
    },
    "papermill": {
     "duration": 0.018184,
     "end_time": "2025-03-19T10:54:18.355478",
     "exception": false,
     "start_time": "2025-03-19T10:54:18.337294",
     "status": "completed"
    },
    "tags": []
   },
   "outputs": [],
   "source": [
    "monthly_returns.index = pd.to_datetime(monthly_returns.index)\n",
    "daily_returns.index = pd.to_datetime(daily_returns.index)\n",
    "\n",
    "filtered_monthly_returns.index = pd.to_datetime(filtered_monthly_returns.index)\n",
    "filtered_daily_returns.index = pd.to_datetime(filtered_daily_returns.index)\n",
    "\n",
    "factors_monthly.index = pd.to_datetime(factors_monthly.index)\n",
    "factors_daily.index = pd.to_datetime(factors_daily.index)\n",
    "liq_monthly.index = pd.to_datetime(liq_monthly.index)\n",
    "liq_daily.index = pd.to_datetime(liq_daily.index)\n",
    "\n",
    "index_monthly_returns.index = pd.to_datetime(index_monthly_returns.index)\n",
    "index_daily_returns.index = pd.to_datetime(index_daily_returns.index)\n",
    "index_monthly_prices.index = pd.to_datetime(index_monthly_prices.index)\n",
    "index_monthly_prices.index = pd.to_datetime(index_monthly_prices.index)"
   ]
  },
  {
   "cell_type": "markdown",
   "id": "8d0b1371",
   "metadata": {
    "papermill": {
     "duration": 0.00104,
     "end_time": "2025-03-19T10:54:18.357976",
     "exception": false,
     "start_time": "2025-03-19T10:54:18.356936",
     "status": "completed"
    },
    "tags": []
   },
   "source": [
    "#### Renaming all the dates colums to 'Date'"
   ]
  },
  {
   "cell_type": "code",
   "execution_count": 4,
   "id": "5f24723a",
   "metadata": {
    "execution": {
     "iopub.execute_input": "2025-03-19T10:54:18.360752Z",
     "iopub.status.busy": "2025-03-19T10:54:18.360444Z",
     "iopub.status.idle": "2025-03-19T10:54:18.362628Z",
     "shell.execute_reply": "2025-03-19T10:54:18.362414Z"
    },
    "papermill": {
     "duration": 0.004294,
     "end_time": "2025-03-19T10:54:18.363273",
     "exception": false,
     "start_time": "2025-03-19T10:54:18.358979",
     "status": "completed"
    },
    "tags": []
   },
   "outputs": [],
   "source": [
    "monthly_returns.index.name = 'Date'\n",
    "daily_returns.index.name = 'Date'\n",
    "\n",
    "filtered_monthly_returns.index.name = 'Date'\n",
    "filtered_daily_returns.index.name = 'Date'\n",
    "\n",
    "factors_monthly.index.name = 'Date'\n",
    "factors_daily.index.name = 'Date'\n",
    "liq_monthly.index.name = 'Date'\n",
    "liq_daily.index.name = 'Date'\n",
    "\n",
    "index_monthly_returns.index.name = 'Date'\n",
    "index_daily_returns.index.name = 'Date'\n",
    "index_monthly_prices.index.name = 'Date'\n",
    "index_monthly_prices.index.name = 'Date'"
   ]
  },
  {
   "cell_type": "markdown",
   "id": "cc242827",
   "metadata": {
    "papermill": {
     "duration": 0.001008,
     "end_time": "2025-03-19T10:54:18.365438",
     "exception": false,
     "start_time": "2025-03-19T10:54:18.364430",
     "status": "completed"
    },
    "tags": []
   },
   "source": [
    "#### Restricting the period to 1980-2023"
   ]
  },
  {
   "cell_type": "code",
   "execution_count": 5,
   "id": "9e4d45c5",
   "metadata": {
    "execution": {
     "iopub.execute_input": "2025-03-19T10:54:18.367918Z",
     "iopub.status.busy": "2025-03-19T10:54:18.367809Z",
     "iopub.status.idle": "2025-03-19T10:54:18.373627Z",
     "shell.execute_reply": "2025-03-19T10:54:18.373423Z"
    },
    "papermill": {
     "duration": 0.00781,
     "end_time": "2025-03-19T10:54:18.374270",
     "exception": false,
     "start_time": "2025-03-19T10:54:18.366460",
     "status": "completed"
    },
    "tags": []
   },
   "outputs": [],
   "source": [
    "### Making all returns go from 1980-01-01 to 2023-12-31\n",
    "monthly_returns = monthly_returns.loc['1980-01-01':'2023-12-31']\n",
    "daily_returns = daily_returns.loc['1980-01-01':'2023-12-31']\n",
    "\n",
    "filtered_monthly_returns = filtered_monthly_returns.loc['1980-01-01':'2023-12-31']\n",
    "filtered_daily_returns = filtered_daily_returns.loc['1980-01-01':'2023-12-31']\n",
    "\n",
    "\n",
    "factors_monthly = factors_monthly.loc['1980-01-01':'2023-12-31']\n",
    "factors_daily = factors_daily.loc['1980-01-01':'2023-12-31']\n",
    "liq_monthly = liq_monthly.loc['1980-01-01':'2023-12-31']\n",
    "liq_daily = liq_daily.loc['1980-01-01':'2023-12-31']\n",
    "\n",
    "index_monthly_returns = index_monthly_returns.loc['1980-01-01':'2023-12-31']\n",
    "index_daily_returns = index_daily_returns.loc['1980-01-01':'2023-12-31']\n",
    "index_monthly_prices = index_monthly_prices.loc['1980-01-01':'2023-12-31']\n",
    "index_monthly_prices = index_monthly_prices.loc['1980-01-01':'2023-12-31']"
   ]
  },
  {
   "cell_type": "markdown",
   "id": "0453987d",
   "metadata": {
    "papermill": {
     "duration": 0.001013,
     "end_time": "2025-03-19T10:54:18.376350",
     "exception": false,
     "start_time": "2025-03-19T10:54:18.375337",
     "status": "completed"
    },
    "tags": []
   },
   "source": [
    "#### Fixing the shapes"
   ]
  },
  {
   "cell_type": "code",
   "execution_count": 6,
   "id": "2ce2194b",
   "metadata": {
    "execution": {
     "iopub.execute_input": "2025-03-19T10:54:18.379085Z",
     "iopub.status.busy": "2025-03-19T10:54:18.378898Z",
     "iopub.status.idle": "2025-03-19T10:54:18.380954Z",
     "shell.execute_reply": "2025-03-19T10:54:18.380723Z"
    },
    "papermill": {
     "duration": 0.004282,
     "end_time": "2025-03-19T10:54:18.381622",
     "exception": false,
     "start_time": "2025-03-19T10:54:18.377340",
     "status": "completed"
    },
    "tags": []
   },
   "outputs": [
    {
     "name": "stdout",
     "output_type": "stream",
     "text": [
      "Monthly Returns: (528, 1074)\n",
      "Filtered Monthly Returns: (528, 995)\n",
      "Factors Monthly: (528, 6)\n",
      "Liq Monthly: (491, 4)\n",
      "Index Monthly Returns: (491, 156)\n",
      "Index Monthly Prices: (492, 156)\n"
     ]
    }
   ],
   "source": [
    "print('Monthly Returns:', monthly_returns.shape)\n",
    "print('Filtered Monthly Returns:', filtered_monthly_returns.shape)\n",
    "print('Factors Monthly:', factors_monthly.shape)\n",
    "print('Liq Monthly:', liq_monthly.shape)\n",
    "print('Index Monthly Returns:', index_monthly_returns.shape)\n",
    "print('Index Monthly Prices:', index_monthly_prices.shape)"
   ]
  },
  {
   "cell_type": "code",
   "execution_count": 7,
   "id": "5394b7ce",
   "metadata": {
    "execution": {
     "iopub.execute_input": "2025-03-19T10:54:18.384152Z",
     "iopub.status.busy": "2025-03-19T10:54:18.384058Z",
     "iopub.status.idle": "2025-03-19T10:54:18.386465Z",
     "shell.execute_reply": "2025-03-19T10:54:18.386239Z"
    },
    "papermill": {
     "duration": 0.004405,
     "end_time": "2025-03-19T10:54:18.387136",
     "exception": false,
     "start_time": "2025-03-19T10:54:18.382731",
     "status": "completed"
    },
    "tags": []
   },
   "outputs": [],
   "source": [
    "liq_monthly = liq_monthly.reindex(monthly_returns.index)\n",
    "index_monthly_returns = index_monthly_returns.reindex(monthly_returns.index)\n",
    "index_monthly_prices = index_monthly_prices.reindex(monthly_returns.index)\n",
    "factors_monthly = factors_monthly.reindex(monthly_returns.index)"
   ]
  },
  {
   "cell_type": "code",
   "execution_count": 8,
   "id": "6229905a",
   "metadata": {
    "execution": {
     "iopub.execute_input": "2025-03-19T10:54:18.389744Z",
     "iopub.status.busy": "2025-03-19T10:54:18.389647Z",
     "iopub.status.idle": "2025-03-19T10:54:18.391533Z",
     "shell.execute_reply": "2025-03-19T10:54:18.391321Z"
    },
    "papermill": {
     "duration": 0.003928,
     "end_time": "2025-03-19T10:54:18.392174",
     "exception": false,
     "start_time": "2025-03-19T10:54:18.388246",
     "status": "completed"
    },
    "tags": []
   },
   "outputs": [
    {
     "name": "stdout",
     "output_type": "stream",
     "text": [
      "Daily Returns: (11041, 1074)\n",
      "Filtered Daily Returns: (11041, 995)\n",
      "Factors Daily: (11102, 6)\n",
      "Liq Daily: (10265, 2)\n",
      "Index Daily Returns: (10131, 156)\n",
      "Index Daily Prices: (10131, 156)\n"
     ]
    }
   ],
   "source": [
    "print('Daily Returns:', daily_returns.shape)\n",
    "print('Filtered Daily Returns:', filtered_daily_returns.shape)\n",
    "print('Factors Daily:', factors_daily.shape)\n",
    "print('Liq Daily:', liq_daily.shape)\n",
    "print('Index Daily Returns:', index_daily_returns.shape)\n",
    "print('Index Daily Prices:', index_daily_returns.shape)"
   ]
  },
  {
   "cell_type": "code",
   "execution_count": 9,
   "id": "bc2b5b80",
   "metadata": {
    "execution": {
     "iopub.execute_input": "2025-03-19T10:54:18.394845Z",
     "iopub.status.busy": "2025-03-19T10:54:18.394670Z",
     "iopub.status.idle": "2025-03-19T10:54:18.401940Z",
     "shell.execute_reply": "2025-03-19T10:54:18.401677Z"
    },
    "papermill": {
     "duration": 0.009449,
     "end_time": "2025-03-19T10:54:18.402742",
     "exception": false,
     "start_time": "2025-03-19T10:54:18.393293",
     "status": "completed"
    },
    "tags": []
   },
   "outputs": [],
   "source": [
    "factors_daily = factors_daily.reindex(daily_returns.index)\n",
    "liq_daily = liq_daily.reindex(daily_returns.index)\n",
    "index_daily_returns = index_daily_returns.reindex(daily_returns.index)\n",
    "index_monthly_prices = index_monthly_prices.reindex(daily_returns.index)"
   ]
  },
  {
   "cell_type": "markdown",
   "id": "2ee3de39",
   "metadata": {
    "papermill": {
     "duration": 0.001121,
     "end_time": "2025-03-19T10:54:18.405162",
     "exception": false,
     "start_time": "2025-03-19T10:54:18.404041",
     "status": "completed"
    },
    "tags": []
   },
   "source": [
    "### Reshuffeling the factors"
   ]
  },
  {
   "cell_type": "code",
   "execution_count": 10,
   "id": "d55b2142",
   "metadata": {
    "execution": {
     "iopub.execute_input": "2025-03-19T10:54:18.407622Z",
     "iopub.status.busy": "2025-03-19T10:54:18.407528Z",
     "iopub.status.idle": "2025-03-19T10:54:18.414203Z",
     "shell.execute_reply": "2025-03-19T10:54:18.413978Z"
    },
    "papermill": {
     "duration": 0.008669,
     "end_time": "2025-03-19T10:54:18.414862",
     "exception": false,
     "start_time": "2025-03-19T10:54:18.406193",
     "status": "completed"
    },
    "tags": []
   },
   "outputs": [
    {
     "data": {
      "text/html": [
       "<div>\n",
       "<style scoped>\n",
       "    .dataframe tbody tr th:only-of-type {\n",
       "        vertical-align: middle;\n",
       "    }\n",
       "\n",
       "    .dataframe tbody tr th {\n",
       "        vertical-align: top;\n",
       "    }\n",
       "\n",
       "    .dataframe thead th {\n",
       "        text-align: right;\n",
       "    }\n",
       "</style>\n",
       "<table border=\"1\" class=\"dataframe\">\n",
       "  <thead>\n",
       "    <tr style=\"text-align: right;\">\n",
       "      <th></th>\n",
       "      <th>SMB</th>\n",
       "      <th>HML</th>\n",
       "      <th>UMD</th>\n",
       "      <th>rf</th>\n",
       "      <th>EW</th>\n",
       "      <th>VW</th>\n",
       "    </tr>\n",
       "    <tr>\n",
       "      <th>Date</th>\n",
       "      <th></th>\n",
       "      <th></th>\n",
       "      <th></th>\n",
       "      <th></th>\n",
       "      <th></th>\n",
       "      <th></th>\n",
       "    </tr>\n",
       "  </thead>\n",
       "  <tbody>\n",
       "    <tr>\n",
       "      <th>1980-01-31</th>\n",
       "      <td>NaN</td>\n",
       "      <td>NaN</td>\n",
       "      <td>NaN</td>\n",
       "      <td>0.00827</td>\n",
       "      <td>-0.013986</td>\n",
       "      <td>0.015765</td>\n",
       "    </tr>\n",
       "    <tr>\n",
       "      <th>1980-02-29</th>\n",
       "      <td>NaN</td>\n",
       "      <td>NaN</td>\n",
       "      <td>NaN</td>\n",
       "      <td>0.00822</td>\n",
       "      <td>0.066012</td>\n",
       "      <td>-0.061009</td>\n",
       "    </tr>\n",
       "    <tr>\n",
       "      <th>1980-03-31</th>\n",
       "      <td>NaN</td>\n",
       "      <td>NaN</td>\n",
       "      <td>NaN</td>\n",
       "      <td>0.00828</td>\n",
       "      <td>-0.084741</td>\n",
       "      <td>-0.222098</td>\n",
       "    </tr>\n",
       "    <tr>\n",
       "      <th>1980-04-30</th>\n",
       "      <td>NaN</td>\n",
       "      <td>NaN</td>\n",
       "      <td>NaN</td>\n",
       "      <td>0.00834</td>\n",
       "      <td>0.008976</td>\n",
       "      <td>0.104559</td>\n",
       "    </tr>\n",
       "    <tr>\n",
       "      <th>1980-05-31</th>\n",
       "      <td>NaN</td>\n",
       "      <td>NaN</td>\n",
       "      <td>NaN</td>\n",
       "      <td>0.00828</td>\n",
       "      <td>0.016639</td>\n",
       "      <td>0.114166</td>\n",
       "    </tr>\n",
       "    <tr>\n",
       "      <th>...</th>\n",
       "      <td>...</td>\n",
       "      <td>...</td>\n",
       "      <td>...</td>\n",
       "      <td>...</td>\n",
       "      <td>...</td>\n",
       "      <td>...</td>\n",
       "    </tr>\n",
       "    <tr>\n",
       "      <th>2023-08-31</th>\n",
       "      <td>-0.038960</td>\n",
       "      <td>0.052521</td>\n",
       "      <td>0.031523</td>\n",
       "      <td>0.00362</td>\n",
       "      <td>-0.022485</td>\n",
       "      <td>0.016426</td>\n",
       "    </tr>\n",
       "    <tr>\n",
       "      <th>2023-09-30</th>\n",
       "      <td>0.010048</td>\n",
       "      <td>0.006260</td>\n",
       "      <td>0.005747</td>\n",
       "      <td>0.00374</td>\n",
       "      <td>0.000380</td>\n",
       "      <td>0.033582</td>\n",
       "    </tr>\n",
       "    <tr>\n",
       "      <th>2023-10-31</th>\n",
       "      <td>-0.038059</td>\n",
       "      <td>0.027076</td>\n",
       "      <td>0.026071</td>\n",
       "      <td>0.00370</td>\n",
       "      <td>-0.036421</td>\n",
       "      <td>0.005711</td>\n",
       "    </tr>\n",
       "    <tr>\n",
       "      <th>2023-11-30</th>\n",
       "      <td>0.048981</td>\n",
       "      <td>-0.041344</td>\n",
       "      <td>0.006850</td>\n",
       "      <td>0.00372</td>\n",
       "      <td>0.089996</td>\n",
       "      <td>0.015369</td>\n",
       "    </tr>\n",
       "    <tr>\n",
       "      <th>2023-12-31</th>\n",
       "      <td>0.055272</td>\n",
       "      <td>-0.001776</td>\n",
       "      <td>-0.058371</td>\n",
       "      <td>0.00383</td>\n",
       "      <td>0.051101</td>\n",
       "      <td>0.005123</td>\n",
       "    </tr>\n",
       "  </tbody>\n",
       "</table>\n",
       "<p>528 rows × 6 columns</p>\n",
       "</div>"
      ],
      "text/plain": [
       "                 SMB       HML       UMD       rf        EW        VW\n",
       "Date                                                                 \n",
       "1980-01-31       NaN       NaN       NaN  0.00827 -0.013986  0.015765\n",
       "1980-02-29       NaN       NaN       NaN  0.00822  0.066012 -0.061009\n",
       "1980-03-31       NaN       NaN       NaN  0.00828 -0.084741 -0.222098\n",
       "1980-04-30       NaN       NaN       NaN  0.00834  0.008976  0.104559\n",
       "1980-05-31       NaN       NaN       NaN  0.00828  0.016639  0.114166\n",
       "...              ...       ...       ...      ...       ...       ...\n",
       "2023-08-31 -0.038960  0.052521  0.031523  0.00362 -0.022485  0.016426\n",
       "2023-09-30  0.010048  0.006260  0.005747  0.00374  0.000380  0.033582\n",
       "2023-10-31 -0.038059  0.027076  0.026071  0.00370 -0.036421  0.005711\n",
       "2023-11-30  0.048981 -0.041344  0.006850  0.00372  0.089996  0.015369\n",
       "2023-12-31  0.055272 -0.001776 -0.058371  0.00383  0.051101  0.005123\n",
       "\n",
       "[528 rows x 6 columns]"
      ]
     },
     "execution_count": 10,
     "metadata": {},
     "output_type": "execute_result"
    }
   ],
   "source": [
    "factors_monthly"
   ]
  },
  {
   "cell_type": "code",
   "execution_count": 11,
   "id": "c28a7929",
   "metadata": {
    "execution": {
     "iopub.execute_input": "2025-03-19T10:54:18.417782Z",
     "iopub.status.busy": "2025-03-19T10:54:18.417677Z",
     "iopub.status.idle": "2025-03-19T10:54:18.420048Z",
     "shell.execute_reply": "2025-03-19T10:54:18.419803Z"
    },
    "papermill": {
     "duration": 0.004605,
     "end_time": "2025-03-19T10:54:18.420783",
     "exception": false,
     "start_time": "2025-03-19T10:54:18.416178",
     "status": "completed"
    },
    "tags": []
   },
   "outputs": [],
   "source": [
    "factors_monthly = factors_monthly[['VW', 'EW', 'SMB', 'HML', 'UMD', 'rf']]\n",
    "factors_daily = factors_daily[['VW', 'EW', 'SMB', 'HML', 'UMD', 'rf']]"
   ]
  },
  {
   "cell_type": "markdown",
   "id": "84c22523",
   "metadata": {
    "papermill": {
     "duration": 0.001221,
     "end_time": "2025-03-19T10:54:18.423725",
     "exception": false,
     "start_time": "2025-03-19T10:54:18.422504",
     "status": "completed"
    },
    "tags": []
   },
   "source": [
    "#### Saving all the data again"
   ]
  },
  {
   "cell_type": "code",
   "execution_count": 12,
   "id": "7c87f0c7",
   "metadata": {
    "execution": {
     "iopub.execute_input": "2025-03-19T10:54:18.426565Z",
     "iopub.status.busy": "2025-03-19T10:54:18.426449Z",
     "iopub.status.idle": "2025-03-19T10:54:22.871943Z",
     "shell.execute_reply": "2025-03-19T10:54:22.871329Z"
    },
    "papermill": {
     "duration": 4.449499,
     "end_time": "2025-03-19T10:54:22.874410",
     "exception": false,
     "start_time": "2025-03-19T10:54:18.424911",
     "status": "completed"
    },
    "tags": []
   },
   "outputs": [],
   "source": [
    "### Saving all the data to the same database\n",
    "conn = sqlite3.connect('Data/data.db')\n",
    "\n",
    "monthly_returns.to_sql('monthly_returns', conn, if_exists='replace')\n",
    "daily_returns.to_sql('daily_returns', conn, if_exists='replace')\n",
    "\n",
    "filtered_monthly_returns.to_sql('filtered_monthly_returns', conn, if_exists='replace')\n",
    "filtered_daily_returns.to_sql('filtered_daily_returns', conn, if_exists='replace')\n",
    "\n",
    "\n",
    "factors_monthly.to_sql('factors_monthly', conn, if_exists='replace')\n",
    "factors_daily.to_sql('factors_daily', conn, if_exists='replace')\n",
    "liq_monthly.to_sql('liq_monthly', conn, if_exists='replace')\n",
    "liq_daily.to_sql('liq_daily', conn, if_exists='replace')\n",
    "\n",
    "index_monthly_returns.to_sql('index_monthly_returns', conn, if_exists='replace')\n",
    "index_daily_returns.to_sql('index_daily_returns', conn, if_exists='replace')\n",
    "index_monthly_prices.to_sql('index_monthly_prices', conn, if_exists='replace')\n",
    "index_monthly_prices.to_sql('index_monthly_prices', conn, if_exists='replace')\n",
    "\n",
    "conn.close()"
   ]
  }
 ],
 "metadata": {
  "kernelspec": {
   "display_name": "Python 3",
   "language": "python",
   "name": "python3"
  },
  "language_info": {
   "codemirror_mode": {
    "name": "ipython",
    "version": 3
   },
   "file_extension": ".py",
   "mimetype": "text/x-python",
   "name": "python",
   "nbconvert_exporter": "python",
   "pygments_lexer": "ipython3",
   "version": "3.13.1"
  },
  "papermill": {
   "default_parameters": {},
   "duration": 8.853669,
   "end_time": "2025-03-19T10:54:23.096868",
   "environment_variables": {},
   "exception": null,
   "input_path": "03_finalizing_data.ipynb",
   "output_path": "03_finalizing_data.ipynb",
   "parameters": {},
   "start_time": "2025-03-19T10:54:14.243199",
   "version": "2.6.0"
  }
 },
 "nbformat": 4,
 "nbformat_minor": 5
}