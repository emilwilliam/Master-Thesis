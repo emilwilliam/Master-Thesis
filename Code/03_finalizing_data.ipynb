{
 "cells": [
  {
   "cell_type": "code",
   "execution_count": 22,
   "id": "f579ecf7",
   "metadata": {
    "execution": {
     "iopub.execute_input": "2025-03-13T16:20:27.941499Z",
     "iopub.status.busy": "2025-03-13T16:20:27.941142Z",
     "iopub.status.idle": "2025-03-13T16:20:28.154419Z",
     "shell.execute_reply": "2025-03-13T16:20:28.154054Z"
    },
    "papermill": {
     "duration": 0.221763,
     "end_time": "2025-03-13T16:20:28.155506",
     "exception": false,
     "start_time": "2025-03-13T16:20:27.933743",
     "status": "completed"
    },
    "tags": []
   },
   "outputs": [],
   "source": [
    "### Installing the required packages if not already installed\n",
    "packages = ['numpy', 'pandas', 'warnings', 'sqlite3', 'time']\n",
    "\n",
    "for package in packages:\n",
    "    try:\n",
    "        __import__(package)\n",
    "    except ImportError:\n",
    "        %pip install {package}\n",
    "\n",
    "\n",
    "### Start timer\n",
    "import time\n",
    "start = time.time()\n",
    "\n",
    "import numpy as np\n",
    "import pandas as pd\n",
    "import warnings\n",
    "import sqlite3\n",
    "import os\n",
    "\n",
    "### Ignoring the warnings\n",
    "warnings.filterwarnings('ignore')\n",
    "\n",
    "### Setting working directory\n",
    "os.chdir('/Users/emilwilliamhansen/Desktop/Master-Thesis/Code')"
   ]
  },
  {
   "cell_type": "markdown",
   "id": "aa1e5dcd",
   "metadata": {
    "papermill": {
     "duration": 0.0024,
     "end_time": "2025-03-13T16:20:28.160300",
     "exception": false,
     "start_time": "2025-03-13T16:20:28.157900",
     "status": "completed"
    },
    "tags": []
   },
   "source": [
    "#### Goal:\n",
    "\n",
    "Here I will simply make sure all the monthly and daily data alligns with each other. So, we will simply import all data, make sure it has the same stocks and the same periods in it."
   ]
  },
  {
   "cell_type": "code",
   "execution_count": 23,
   "id": "56bf5db4",
   "metadata": {
    "execution": {
     "iopub.execute_input": "2025-03-13T16:20:28.164278Z",
     "iopub.status.busy": "2025-03-13T16:20:28.163678Z",
     "iopub.status.idle": "2025-03-13T16:20:30.699558Z",
     "shell.execute_reply": "2025-03-13T16:20:30.699251Z"
    },
    "papermill": {
     "duration": 2.538933,
     "end_time": "2025-03-13T16:20:30.700417",
     "exception": false,
     "start_time": "2025-03-13T16:20:28.161484",
     "status": "completed"
    },
    "tags": []
   },
   "outputs": [],
   "source": [
    "### Importing the monthly data\n",
    "### Connecting to the database\n",
    "conn = sqlite3.connect('Data/data.db')\n",
    "\n",
    "### Getting data from the SQL database\n",
    "monthly_returns = pd.read_sql_query(\"SELECT * FROM monthly_returns\", conn, index_col='index')\n",
    "daily_returns = pd.read_sql_query(\"SELECT * FROM daily_returns\", conn, index_col='index')\n",
    "\n",
    "\n",
    "filtered_monthly_returns = pd.read_sql_query(\"SELECT * FROM filtered_monthly_returns\", conn, index_col='index')\n",
    "filtered_daily_returns = pd.read_sql_query(\"SELECT * FROM filtered_daily_returns\", conn, index_col='index')\n",
    "\n",
    "\n",
    "factors_monthly = pd.read_sql_query(\"SELECT * FROM factors_monthly\", conn, index_col='date')\n",
    "factors_daily = pd.read_sql_query(\"SELECT * FROM factors_daily\", conn, index_col='date')\n",
    "liq_monthly = pd.read_sql_query(\"SELECT * FROM liq_monthly\", conn, index_col='date')\n",
    "liq_daily = pd.read_sql_query(\"SELECT * FROM liq_daily\", conn, index_col='date')\n",
    "\n",
    "index_monthly_returns = pd.read_sql_query(\"SELECT * FROM index_monthly_returns\", conn, index_col='date')\n",
    "index_daily_returns = pd.read_sql_query(\"SELECT * FROM index_daily_returns\", conn, index_col='date')\n",
    "index_monthly_prices = pd.read_sql_query(\"SELECT * FROM index_monthly_prices\", conn, index_col='date')\n",
    "index_monthly_prices = pd.read_sql_query(\"SELECT * FROM index_monthly_prices\", conn, index_col='date')\n",
    "\n",
    "### Closing the connection\n",
    "conn.close()"
   ]
  },
  {
   "cell_type": "markdown",
   "id": "4dd26ae0",
   "metadata": {
    "papermill": {
     "duration": 0.001267,
     "end_time": "2025-03-13T16:20:30.704680",
     "exception": false,
     "start_time": "2025-03-13T16:20:30.703413",
     "status": "completed"
    },
    "tags": []
   },
   "source": [
    "#### Fixing the indexes"
   ]
  },
  {
   "cell_type": "code",
   "execution_count": 24,
   "id": "cfe27bb7",
   "metadata": {
    "execution": {
     "iopub.execute_input": "2025-03-13T16:20:30.707084Z",
     "iopub.status.busy": "2025-03-13T16:20:30.706952Z",
     "iopub.status.idle": "2025-03-13T16:20:30.722168Z",
     "shell.execute_reply": "2025-03-13T16:20:30.721910Z"
    },
    "papermill": {
     "duration": 0.017256,
     "end_time": "2025-03-13T16:20:30.722907",
     "exception": false,
     "start_time": "2025-03-13T16:20:30.705651",
     "status": "completed"
    },
    "tags": []
   },
   "outputs": [],
   "source": [
    "monthly_returns.index = pd.to_datetime(monthly_returns.index)\n",
    "daily_returns.index = pd.to_datetime(daily_returns.index)\n",
    "\n",
    "filtered_monthly_returns.index = pd.to_datetime(filtered_monthly_returns.index)\n",
    "filtered_daily_returns.index = pd.to_datetime(filtered_daily_returns.index)\n",
    "\n",
    "factors_monthly.index = pd.to_datetime(factors_monthly.index)\n",
    "factors_daily.index = pd.to_datetime(factors_daily.index)\n",
    "liq_monthly.index = pd.to_datetime(liq_monthly.index)\n",
    "liq_daily.index = pd.to_datetime(liq_daily.index)\n",
    "\n",
    "index_monthly_returns.index = pd.to_datetime(index_monthly_returns.index)\n",
    "index_daily_returns.index = pd.to_datetime(index_daily_returns.index)\n",
    "index_monthly_prices.index = pd.to_datetime(index_monthly_prices.index)\n",
    "index_monthly_prices.index = pd.to_datetime(index_monthly_prices.index)"
   ]
  },
  {
   "cell_type": "markdown",
   "id": "8d0b1371",
   "metadata": {
    "papermill": {
     "duration": 0.000949,
     "end_time": "2025-03-13T16:20:30.724987",
     "exception": false,
     "start_time": "2025-03-13T16:20:30.724038",
     "status": "completed"
    },
    "tags": []
   },
   "source": [
    "#### Renaming all the dates colums to 'Date'"
   ]
  },
  {
   "cell_type": "code",
   "execution_count": 25,
   "id": "5f24723a",
   "metadata": {
    "execution": {
     "iopub.execute_input": "2025-03-13T16:20:30.727246Z",
     "iopub.status.busy": "2025-03-13T16:20:30.727138Z",
     "iopub.status.idle": "2025-03-13T16:20:30.729048Z",
     "shell.execute_reply": "2025-03-13T16:20:30.728853Z"
    },
    "papermill": {
     "duration": 0.003844,
     "end_time": "2025-03-13T16:20:30.729708",
     "exception": false,
     "start_time": "2025-03-13T16:20:30.725864",
     "status": "completed"
    },
    "tags": []
   },
   "outputs": [],
   "source": [
    "monthly_returns.index.name = 'Date'\n",
    "daily_returns.index.name = 'Date'\n",
    "\n",
    "filtered_monthly_returns.index.name = 'Date'\n",
    "filtered_daily_returns.index.name = 'Date'\n",
    "\n",
    "factors_monthly.index.name = 'Date'\n",
    "factors_daily.index.name = 'Date'\n",
    "liq_monthly.index.name = 'Date'\n",
    "liq_daily.index.name = 'Date'\n",
    "\n",
    "index_monthly_returns.index.name = 'Date'\n",
    "index_daily_returns.index.name = 'Date'\n",
    "index_monthly_prices.index.name = 'Date'\n",
    "index_monthly_prices.index.name = 'Date'"
   ]
  },
  {
   "cell_type": "markdown",
   "id": "cc242827",
   "metadata": {
    "papermill": {
     "duration": 0.000937,
     "end_time": "2025-03-13T16:20:30.731743",
     "exception": false,
     "start_time": "2025-03-13T16:20:30.730806",
     "status": "completed"
    },
    "tags": []
   },
   "source": [
    "#### Restricting the period to 1980-2023"
   ]
  },
  {
   "cell_type": "code",
   "execution_count": 26,
   "id": "9e4d45c5",
   "metadata": {
    "execution": {
     "iopub.execute_input": "2025-03-13T16:20:30.734058Z",
     "iopub.status.busy": "2025-03-13T16:20:30.733960Z",
     "iopub.status.idle": "2025-03-13T16:20:30.740080Z",
     "shell.execute_reply": "2025-03-13T16:20:30.739831Z"
    },
    "papermill": {
     "duration": 0.008171,
     "end_time": "2025-03-13T16:20:30.740842",
     "exception": false,
     "start_time": "2025-03-13T16:20:30.732671",
     "status": "completed"
    },
    "tags": []
   },
   "outputs": [],
   "source": [
    "### Making all returns go from 1980-01-01 to 2023-12-31\n",
    "monthly_returns = monthly_returns.loc['1980-01-01':'2023-12-31']\n",
    "daily_returns = daily_returns.loc['1980-01-01':'2023-12-31']\n",
    "\n",
    "filtered_monthly_returns = filtered_monthly_returns.loc['1980-01-01':'2023-12-31']\n",
    "filtered_daily_returns = filtered_daily_returns.loc['1980-01-01':'2023-12-31']\n",
    "\n",
    "\n",
    "factors_monthly = factors_monthly.loc['1980-01-01':'2023-12-31']\n",
    "factors_daily = factors_daily.loc['1980-01-01':'2023-12-31']\n",
    "liq_monthly = liq_monthly.loc['1980-01-01':'2023-12-31']\n",
    "liq_daily = liq_daily.loc['1980-01-01':'2023-12-31']\n",
    "\n",
    "index_monthly_returns = index_monthly_returns.loc['1980-01-01':'2023-12-31']\n",
    "index_daily_returns = index_daily_returns.loc['1980-01-01':'2023-12-31']\n",
    "index_monthly_prices = index_monthly_prices.loc['1980-01-01':'2023-12-31']\n",
    "index_monthly_prices = index_monthly_prices.loc['1980-01-01':'2023-12-31']"
   ]
  },
  {
   "cell_type": "markdown",
   "id": "0453987d",
   "metadata": {
    "papermill": {
     "duration": 0.000948,
     "end_time": "2025-03-13T16:20:30.742897",
     "exception": false,
     "start_time": "2025-03-13T16:20:30.741949",
     "status": "completed"
    },
    "tags": []
   },
   "source": [
    "#### Fixing the shapes"
   ]
  },
  {
   "cell_type": "code",
   "execution_count": 27,
   "id": "2ce2194b",
   "metadata": {
    "execution": {
     "iopub.execute_input": "2025-03-13T16:20:30.745241Z",
     "iopub.status.busy": "2025-03-13T16:20:30.745108Z",
     "iopub.status.idle": "2025-03-13T16:20:30.747007Z",
     "shell.execute_reply": "2025-03-13T16:20:30.746817Z"
    },
    "papermill": {
     "duration": 0.003813,
     "end_time": "2025-03-13T16:20:30.747656",
     "exception": false,
     "start_time": "2025-03-13T16:20:30.743843",
     "status": "completed"
    },
    "tags": []
   },
   "outputs": [
    {
     "name": "stdout",
     "output_type": "stream",
     "text": [
      "Monthly Returns: (528, 1074)\n",
      "Filtered Monthly Returns: (528, 995)\n",
      "Factors Monthly: (528, 6)\n",
      "Liq Monthly: (491, 4)\n",
      "Index Monthly Returns: (491, 156)\n",
      "Index Monthly Prices: (492, 156)\n"
     ]
    }
   ],
   "source": [
    "print('Monthly Returns:', monthly_returns.shape)\n",
    "print('Filtered Monthly Returns:', filtered_monthly_returns.shape)\n",
    "print('Factors Monthly:', factors_monthly.shape)\n",
    "print('Liq Monthly:', liq_monthly.shape)\n",
    "print('Index Monthly Returns:', index_monthly_returns.shape)\n",
    "print('Index Monthly Prices:', index_monthly_prices.shape)"
   ]
  },
  {
   "cell_type": "code",
   "execution_count": 28,
   "id": "5394b7ce",
   "metadata": {
    "execution": {
     "iopub.execute_input": "2025-03-13T16:20:30.749938Z",
     "iopub.status.busy": "2025-03-13T16:20:30.749845Z",
     "iopub.status.idle": "2025-03-13T16:20:30.752148Z",
     "shell.execute_reply": "2025-03-13T16:20:30.751951Z"
    },
    "papermill": {
     "duration": 0.004152,
     "end_time": "2025-03-13T16:20:30.752786",
     "exception": false,
     "start_time": "2025-03-13T16:20:30.748634",
     "status": "completed"
    },
    "tags": []
   },
   "outputs": [],
   "source": [
    "liq_monthly = liq_monthly.reindex(monthly_returns.index)\n",
    "index_monthly_returns = index_monthly_returns.reindex(monthly_returns.index)\n",
    "index_monthly_prices = index_monthly_prices.reindex(monthly_returns.index)\n",
    "factors_monthly = factors_monthly.reindex(monthly_returns.index)"
   ]
  },
  {
   "cell_type": "code",
   "execution_count": 29,
   "id": "6229905a",
   "metadata": {
    "execution": {
     "iopub.execute_input": "2025-03-13T16:20:30.755344Z",
     "iopub.status.busy": "2025-03-13T16:20:30.755228Z",
     "iopub.status.idle": "2025-03-13T16:20:30.757142Z",
     "shell.execute_reply": "2025-03-13T16:20:30.756913Z"
    },
    "papermill": {
     "duration": 0.004051,
     "end_time": "2025-03-13T16:20:30.757794",
     "exception": false,
     "start_time": "2025-03-13T16:20:30.753743",
     "status": "completed"
    },
    "tags": []
   },
   "outputs": [
    {
     "name": "stdout",
     "output_type": "stream",
     "text": [
      "Daily Returns: (11041, 1074)\n",
      "Filtered Daily Returns: (11041, 995)\n",
      "Factors Daily: (11102, 6)\n",
      "Liq Daily: (10265, 2)\n",
      "Index Daily Returns: (10131, 156)\n",
      "Index Daily Prices: (10131, 156)\n"
     ]
    }
   ],
   "source": [
    "print('Daily Returns:', daily_returns.shape)\n",
    "print('Filtered Daily Returns:', filtered_daily_returns.shape)\n",
    "print('Factors Daily:', factors_daily.shape)\n",
    "print('Liq Daily:', liq_daily.shape)\n",
    "print('Index Daily Returns:', index_daily_returns.shape)\n",
    "print('Index Daily Prices:', index_daily_returns.shape)"
   ]
  },
  {
   "cell_type": "code",
   "execution_count": 30,
   "id": "bc2b5b80",
   "metadata": {
    "execution": {
     "iopub.execute_input": "2025-03-13T16:20:30.760221Z",
     "iopub.status.busy": "2025-03-13T16:20:30.760132Z",
     "iopub.status.idle": "2025-03-13T16:20:30.767589Z",
     "shell.execute_reply": "2025-03-13T16:20:30.767337Z"
    },
    "papermill": {
     "duration": 0.009504,
     "end_time": "2025-03-13T16:20:30.768368",
     "exception": false,
     "start_time": "2025-03-13T16:20:30.758864",
     "status": "completed"
    },
    "tags": []
   },
   "outputs": [],
   "source": [
    "factors_daily = factors_daily.reindex(daily_returns.index)\n",
    "liq_daily = liq_daily.reindex(daily_returns.index)\n",
    "index_daily_returns = index_daily_returns.reindex(daily_returns.index)\n",
    "index_monthly_prices = index_monthly_prices.reindex(daily_returns.index)"
   ]
  },
  {
   "cell_type": "markdown",
   "id": "84c22523",
   "metadata": {
    "papermill": {
     "duration": 0.000996,
     "end_time": "2025-03-13T16:20:30.770531",
     "exception": false,
     "start_time": "2025-03-13T16:20:30.769535",
     "status": "completed"
    },
    "tags": []
   },
   "source": [
    "#### Saving all the data again"
   ]
  },
  {
   "cell_type": "code",
   "execution_count": 31,
   "id": "7c87f0c7",
   "metadata": {
    "execution": {
     "iopub.execute_input": "2025-03-13T16:20:30.773260Z",
     "iopub.status.busy": "2025-03-13T16:20:30.773136Z",
     "iopub.status.idle": "2025-03-13T16:20:34.600222Z",
     "shell.execute_reply": "2025-03-13T16:20:34.599873Z"
    },
    "papermill": {
     "duration": 3.829481,
     "end_time": "2025-03-13T16:20:34.601064",
     "exception": false,
     "start_time": "2025-03-13T16:20:30.771583",
     "status": "completed"
    },
    "tags": []
   },
   "outputs": [],
   "source": [
    "### Saving all the data to the same database\n",
    "conn = sqlite3.connect('Data/data.db')\n",
    "\n",
    "monthly_returns.to_sql('monthly_returns', conn, if_exists='replace')\n",
    "daily_returns.to_sql('daily_returns', conn, if_exists='replace')\n",
    "\n",
    "filtered_monthly_returns.to_sql('filtered_monthly_returns', conn, if_exists='replace')\n",
    "filtered_daily_returns.to_sql('filtered_daily_returns', conn, if_exists='replace')\n",
    "\n",
    "\n",
    "factors_monthly.to_sql('factors_monthly', conn, if_exists='replace')\n",
    "factors_daily.to_sql('factors_daily', conn, if_exists='replace')\n",
    "liq_monthly.to_sql('liq_monthly', conn, if_exists='replace')\n",
    "liq_daily.to_sql('liq_daily', conn, if_exists='replace')\n",
    "\n",
    "index_monthly_returns.to_sql('index_monthly_returns', conn, if_exists='replace')\n",
    "index_daily_returns.to_sql('index_daily_returns', conn, if_exists='replace')\n",
    "index_monthly_prices.to_sql('index_monthly_prices', conn, if_exists='replace')\n",
    "index_monthly_prices.to_sql('index_monthly_prices', conn, if_exists='replace')\n",
    "\n",
    "conn.close()"
   ]
  }
 ],
 "metadata": {
  "kernelspec": {
   "display_name": "Python 3",
   "language": "python",
   "name": "python3"
  },
  "language_info": {
   "codemirror_mode": {
    "name": "ipython",
    "version": 3
   },
   "file_extension": ".py",
   "mimetype": "text/x-python",
   "name": "python",
   "nbconvert_exporter": "python",
   "pygments_lexer": "ipython3",
   "version": "3.13.1"
  },
  "papermill": {
   "default_parameters": {},
   "duration": 7.408748,
   "end_time": "2025-03-13T16:20:34.819460",
   "environment_variables": {},
   "exception": null,
   "input_path": "03_finalizing_data.ipynb",
   "output_path": "03_finalizing_data.ipynb",
   "parameters": {},
   "start_time": "2025-03-13T16:20:27.410712",
   "version": "2.6.0"
  }
 },
 "nbformat": 4,
 "nbformat_minor": 5
}
